{
 "cells": [
  {
   "cell_type": "markdown",
   "id": "9055bff5-a90b-4e61-a056-2f47c9edd002",
   "metadata": {},
   "source": [
    "\n",
    "**Duration-of-Credit-Month** refers to the length of time (in months) over which the loan or credit is expected to be repaid. This is a common metric in banking and finance that specifies the total duration of the loan agreement, indicating how long the customer has to repay the loan in full.\n",
    "\n",
    "**Instalment-per-cent**: This value is a percentage that represents the proportion of the borrower's income that will go toward repaying the loan each month. For instance, if a customer earns $1,000 per month and the loan instalment is $200, the \"Instalment-per-cent\" would be 20%."
   ]
  },
  {
   "cell_type": "code",
   "execution_count": 52,
   "id": "54ed375e-24dd-4792-a9e5-e161d7e9259e",
   "metadata": {},
   "outputs": [],
   "source": [
    "import pandas as pd\n",
    "import numpy as np\n",
    "import matplotlib.pyplot as plt\n",
    "import matplotlib.ticker as ticker\n",
    "import matplotlib.style as style\n",
    "import seaborn as sns\n",
    "\n",
    "import sklearn\n",
    "import warnings\n",
    "warnings.filterwarnings('ignore')\n",
    "%matplotlib inline\n",
    "pd.set_option('display.max_colwidth',None)\n",
    "pd.set_option('display.max_columns',None)\n",
    "\n",
    "from sklearn.preprocessing import LabelEncoder\n",
    "from sklearn.model_selection import train_test_split\n",
    "from sklearn.model_selection import GridSearchCV\n",
    "from sklearn.pipeline import Pipeline\n",
    "from sklearn.preprocessing import RobustScaler\n",
    "\n",
    "from sklearn.linear_model import LogisticRegression\n",
    "from sklearn.tree import DecisionTreeClassifier\n",
    "from sklearn.svm import SVC \n",
    "from sklearn.ensemble import GradientBoostingClassifier\n",
    "from sklearn.ensemble import RandomForestClassifier\n",
    "from sklearn.ensemble import StackingClassifier\n",
    "\n",
    "from sklearn.metrics import confusion_matrix\n",
    "from sklearn.metrics import roc_auc_score\n",
    "from sklearn.metrics import auc\n",
    "from sklearn.metrics import roc_curve\n",
    "from sklearn.metrics import accuracy_score\n"
   ]
  },
  {
   "cell_type": "code",
   "execution_count": 2,
   "id": "47001fc1-398f-4f27-b5b2-4fb0e41834a4",
   "metadata": {},
   "outputs": [],
   "source": [
    "df = pd.read_excel(r\"C:\\Users\\lily\\Desktop\\IT alapok privát\\PRIV DATA SC 1204\\Machine learning\\Creditworthiness\\train_credit-data.xlsx\")"
   ]
  },
  {
   "cell_type": "code",
   "execution_count": 3,
   "id": "d17559ae-eb18-490d-8d13-8d888c03af9e",
   "metadata": {},
   "outputs": [
    {
     "data": {
      "text/html": [
       "<div>\n",
       "<style scoped>\n",
       "    .dataframe tbody tr th:only-of-type {\n",
       "        vertical-align: middle;\n",
       "    }\n",
       "\n",
       "    .dataframe tbody tr th {\n",
       "        vertical-align: top;\n",
       "    }\n",
       "\n",
       "    .dataframe thead th {\n",
       "        text-align: right;\n",
       "    }\n",
       "</style>\n",
       "<table border=\"1\" class=\"dataframe\">\n",
       "  <thead>\n",
       "    <tr style=\"text-align: right;\">\n",
       "      <th></th>\n",
       "      <th>Credit-Application-Result</th>\n",
       "      <th>Account-Balance</th>\n",
       "      <th>Duration-of-Credit-Month</th>\n",
       "      <th>Payment-Status-of-Previous-Credit</th>\n",
       "      <th>Purpose</th>\n",
       "      <th>Credit-Amount</th>\n",
       "      <th>Value-Savings-Stocks</th>\n",
       "      <th>Length-of-current-employment</th>\n",
       "      <th>Instalment-per-cent</th>\n",
       "      <th>Guarantors</th>\n",
       "      <th>Duration-in-Current-address</th>\n",
       "      <th>Most-valuable-available-asset</th>\n",
       "      <th>Age-years</th>\n",
       "      <th>Concurrent-Credits</th>\n",
       "      <th>Type-of-apartment</th>\n",
       "      <th>No-of-Credits-at-this-Bank</th>\n",
       "      <th>Occupation</th>\n",
       "      <th>No-of-dependents</th>\n",
       "      <th>Telephone</th>\n",
       "      <th>Foreign-Worker</th>\n",
       "    </tr>\n",
       "  </thead>\n",
       "  <tbody>\n",
       "    <tr>\n",
       "      <th>0</th>\n",
       "      <td>Creditworthy</td>\n",
       "      <td>Some Balance</td>\n",
       "      <td>4</td>\n",
       "      <td>Paid Up</td>\n",
       "      <td>Other</td>\n",
       "      <td>1494</td>\n",
       "      <td>£100-£1000</td>\n",
       "      <td>&lt; 1yr</td>\n",
       "      <td>1</td>\n",
       "      <td>NaN</td>\n",
       "      <td>2.0</td>\n",
       "      <td>1</td>\n",
       "      <td>NaN</td>\n",
       "      <td>Other Banks/Depts</td>\n",
       "      <td>2</td>\n",
       "      <td>1</td>\n",
       "      <td>1</td>\n",
       "      <td>2</td>\n",
       "      <td>1</td>\n",
       "      <td>2</td>\n",
       "    </tr>\n",
       "    <tr>\n",
       "      <th>1</th>\n",
       "      <td>Creditworthy</td>\n",
       "      <td>Some Balance</td>\n",
       "      <td>4</td>\n",
       "      <td>Paid Up</td>\n",
       "      <td>Home Related</td>\n",
       "      <td>1494</td>\n",
       "      <td>£100-£1000</td>\n",
       "      <td>&lt; 1yr</td>\n",
       "      <td>1</td>\n",
       "      <td>NaN</td>\n",
       "      <td>2.0</td>\n",
       "      <td>1</td>\n",
       "      <td>29.0</td>\n",
       "      <td>Other Banks/Depts</td>\n",
       "      <td>2</td>\n",
       "      <td>1</td>\n",
       "      <td>1</td>\n",
       "      <td>2</td>\n",
       "      <td>1</td>\n",
       "      <td>2</td>\n",
       "    </tr>\n",
       "    <tr>\n",
       "      <th>2</th>\n",
       "      <td>Creditworthy</td>\n",
       "      <td>Some Balance</td>\n",
       "      <td>4</td>\n",
       "      <td>No Problems (in this bank)</td>\n",
       "      <td>Home Related</td>\n",
       "      <td>1544</td>\n",
       "      <td>NaN</td>\n",
       "      <td>1-4 yrs</td>\n",
       "      <td>2</td>\n",
       "      <td>NaN</td>\n",
       "      <td>1.0</td>\n",
       "      <td>1</td>\n",
       "      <td>42.0</td>\n",
       "      <td>Other Banks/Depts</td>\n",
       "      <td>2</td>\n",
       "      <td>More than 1</td>\n",
       "      <td>1</td>\n",
       "      <td>2</td>\n",
       "      <td>1</td>\n",
       "      <td>1</td>\n",
       "    </tr>\n",
       "    <tr>\n",
       "      <th>3</th>\n",
       "      <td>Creditworthy</td>\n",
       "      <td>Some Balance</td>\n",
       "      <td>4</td>\n",
       "      <td>No Problems (in this bank)</td>\n",
       "      <td>Home Related</td>\n",
       "      <td>3380</td>\n",
       "      <td>NaN</td>\n",
       "      <td>1-4 yrs</td>\n",
       "      <td>1</td>\n",
       "      <td>NaN</td>\n",
       "      <td>1.0</td>\n",
       "      <td>1</td>\n",
       "      <td>37.0</td>\n",
       "      <td>Other Banks/Depts</td>\n",
       "      <td>2</td>\n",
       "      <td>1</td>\n",
       "      <td>1</td>\n",
       "      <td>2</td>\n",
       "      <td>1</td>\n",
       "      <td>1</td>\n",
       "    </tr>\n",
       "    <tr>\n",
       "      <th>4</th>\n",
       "      <td>Creditworthy</td>\n",
       "      <td>No Account</td>\n",
       "      <td>6</td>\n",
       "      <td>Paid Up</td>\n",
       "      <td>Home Related</td>\n",
       "      <td>343</td>\n",
       "      <td>NaN</td>\n",
       "      <td>&lt; 1yr</td>\n",
       "      <td>4</td>\n",
       "      <td>NaN</td>\n",
       "      <td>1.0</td>\n",
       "      <td>1</td>\n",
       "      <td>27.0</td>\n",
       "      <td>Other Banks/Depts</td>\n",
       "      <td>2</td>\n",
       "      <td>1</td>\n",
       "      <td>1</td>\n",
       "      <td>1</td>\n",
       "      <td>1</td>\n",
       "      <td>1</td>\n",
       "    </tr>\n",
       "  </tbody>\n",
       "</table>\n",
       "</div>"
      ],
      "text/plain": [
       "  Credit-Application-Result Account-Balance  Duration-of-Credit-Month  \\\n",
       "0              Creditworthy    Some Balance                         4   \n",
       "1              Creditworthy    Some Balance                         4   \n",
       "2              Creditworthy    Some Balance                         4   \n",
       "3              Creditworthy    Some Balance                         4   \n",
       "4              Creditworthy      No Account                         6   \n",
       "\n",
       "  Payment-Status-of-Previous-Credit       Purpose  Credit-Amount  \\\n",
       "0                           Paid Up         Other           1494   \n",
       "1                           Paid Up  Home Related           1494   \n",
       "2        No Problems (in this bank)  Home Related           1544   \n",
       "3        No Problems (in this bank)  Home Related           3380   \n",
       "4                           Paid Up  Home Related            343   \n",
       "\n",
       "  Value-Savings-Stocks Length-of-current-employment  Instalment-per-cent  \\\n",
       "0           £100-£1000                        < 1yr                    1   \n",
       "1           £100-£1000                        < 1yr                    1   \n",
       "2                  NaN                      1-4 yrs                    2   \n",
       "3                  NaN                      1-4 yrs                    1   \n",
       "4                  NaN                        < 1yr                    4   \n",
       "\n",
       "  Guarantors  Duration-in-Current-address  Most-valuable-available-asset  \\\n",
       "0        NaN                          2.0                              1   \n",
       "1        NaN                          2.0                              1   \n",
       "2        NaN                          1.0                              1   \n",
       "3        NaN                          1.0                              1   \n",
       "4        NaN                          1.0                              1   \n",
       "\n",
       "   Age-years Concurrent-Credits  Type-of-apartment No-of-Credits-at-this-Bank  \\\n",
       "0        NaN  Other Banks/Depts                  2                          1   \n",
       "1       29.0  Other Banks/Depts                  2                          1   \n",
       "2       42.0  Other Banks/Depts                  2                More than 1   \n",
       "3       37.0  Other Banks/Depts                  2                          1   \n",
       "4       27.0  Other Banks/Depts                  2                          1   \n",
       "\n",
       "   Occupation  No-of-dependents  Telephone  Foreign-Worker  \n",
       "0           1                 2          1               2  \n",
       "1           1                 2          1               2  \n",
       "2           1                 2          1               1  \n",
       "3           1                 2          1               1  \n",
       "4           1                 1          1               1  "
      ]
     },
     "execution_count": 3,
     "metadata": {},
     "output_type": "execute_result"
    }
   ],
   "source": [
    "df.head()"
   ]
  },
  {
   "cell_type": "code",
   "execution_count": 4,
   "id": "e00cccfc-8c4b-43e2-b1a1-7bc1fa23db9f",
   "metadata": {},
   "outputs": [
    {
     "name": "stdout",
     "output_type": "stream",
     "text": [
      "<class 'pandas.core.frame.DataFrame'>\n",
      "RangeIndex: 500 entries, 0 to 499\n",
      "Data columns (total 20 columns):\n",
      " #   Column                             Non-Null Count  Dtype  \n",
      "---  ------                             --------------  -----  \n",
      " 0   Credit-Application-Result          500 non-null    object \n",
      " 1   Account-Balance                    500 non-null    object \n",
      " 2   Duration-of-Credit-Month           500 non-null    int64  \n",
      " 3   Payment-Status-of-Previous-Credit  500 non-null    object \n",
      " 4   Purpose                            500 non-null    object \n",
      " 5   Credit-Amount                      500 non-null    int64  \n",
      " 6   Value-Savings-Stocks               202 non-null    object \n",
      " 7   Length-of-current-employment       500 non-null    object \n",
      " 8   Instalment-per-cent                500 non-null    int64  \n",
      " 9   Guarantors                         43 non-null     object \n",
      " 10  Duration-in-Current-address        156 non-null    float64\n",
      " 11  Most-valuable-available-asset      500 non-null    int64  \n",
      " 12  Age-years                          488 non-null    float64\n",
      " 13  Concurrent-Credits                 500 non-null    object \n",
      " 14  Type-of-apartment                  500 non-null    int64  \n",
      " 15  No-of-Credits-at-this-Bank         500 non-null    object \n",
      " 16  Occupation                         500 non-null    int64  \n",
      " 17  No-of-dependents                   500 non-null    int64  \n",
      " 18  Telephone                          500 non-null    int64  \n",
      " 19  Foreign-Worker                     500 non-null    int64  \n",
      "dtypes: float64(2), int64(9), object(9)\n",
      "memory usage: 78.3+ KB\n"
     ]
    }
   ],
   "source": [
    "df.info()"
   ]
  },
  {
   "cell_type": "code",
   "execution_count": 5,
   "id": "11240a57-b8bc-4fe4-9641-6814b27c5bca",
   "metadata": {},
   "outputs": [
    {
     "data": {
      "text/plain": [
       "Credit-Application-Result             0.0\n",
       "Account-Balance                       0.0\n",
       "Duration-of-Credit-Month              0.0\n",
       "Payment-Status-of-Previous-Credit     0.0\n",
       "Purpose                               0.0\n",
       "Credit-Amount                         0.0\n",
       "Value-Savings-Stocks                 59.6\n",
       "Length-of-current-employment          0.0\n",
       "Instalment-per-cent                   0.0\n",
       "Guarantors                           91.4\n",
       "Duration-in-Current-address          68.8\n",
       "Most-valuable-available-asset         0.0\n",
       "Age-years                             2.4\n",
       "Concurrent-Credits                    0.0\n",
       "Type-of-apartment                     0.0\n",
       "No-of-Credits-at-this-Bank            0.0\n",
       "Occupation                            0.0\n",
       "No-of-dependents                      0.0\n",
       "Telephone                             0.0\n",
       "Foreign-Worker                        0.0\n",
       "dtype: float64"
      ]
     },
     "execution_count": 5,
     "metadata": {},
     "output_type": "execute_result"
    }
   ],
   "source": [
    "df.isnull().sum()/len(df)*100"
   ]
  },
  {
   "cell_type": "markdown",
   "id": "0a2c79e8-ac13-4d29-9748-deee999735e7",
   "metadata": {},
   "source": [
    "*Comment: Missing values in the columns of: Value-Savings-Stocks, Guarantors, Duration-in-Current-address, Age-years.Age years can be interpolated, but the rest has too high amount of missing data, therefore to be dropped.*\n",
    "*Also to be noted - several feature encoding will be needed.*"
   ]
  },
  {
   "cell_type": "code",
   "execution_count": 6,
   "id": "390cebd0-903b-4782-a9cc-77b461752f1d",
   "metadata": {},
   "outputs": [
    {
     "data": {
      "text/plain": [
       "Index(['Credit-Application-Result', 'Account-Balance',\n",
       "       'Duration-of-Credit-Month', 'Payment-Status-of-Previous-Credit',\n",
       "       'Purpose', 'Credit-Amount', 'Value-Savings-Stocks',\n",
       "       'Length-of-current-employment', 'Instalment-per-cent', 'Guarantors',\n",
       "       'Duration-in-Current-address', 'Most-valuable-available-asset',\n",
       "       'Age-years', 'Concurrent-Credits', 'Type-of-apartment',\n",
       "       'No-of-Credits-at-this-Bank', 'Occupation', 'No-of-dependents',\n",
       "       'Telephone', 'Foreign-Worker'],\n",
       "      dtype='object')"
      ]
     },
     "execution_count": 6,
     "metadata": {},
     "output_type": "execute_result"
    }
   ],
   "source": [
    "df.columns"
   ]
  },
  {
   "cell_type": "code",
   "execution_count": 7,
   "id": "19e4795f-7e37-49cb-b554-0a8402e0af7a",
   "metadata": {},
   "outputs": [],
   "source": [
    "df = df.drop(['Value-Savings-Stocks', 'Guarantors', 'Duration-in-Current-address'], axis=1)"
   ]
  },
  {
   "cell_type": "markdown",
   "id": "4ad1d658-761d-4352-9877-cccda6eec108",
   "metadata": {},
   "source": [
    "### EDA"
   ]
  },
  {
   "cell_type": "markdown",
   "id": "e28a68f5-dbb0-4b40-8b5e-d7f000ba4810",
   "metadata": {},
   "source": [
    "#### Target variable"
   ]
  },
  {
   "cell_type": "code",
   "execution_count": 8,
   "id": "cd8559a8-14e8-4825-ad0f-19cd720baf6f",
   "metadata": {},
   "outputs": [],
   "source": [
    "def setup_plot():\n",
    "    plt.gca().yaxis.set_major_formatter(ticker.FormatStrFormatter('%d'))\n",
    "    plt.xticks(rotation=40)\n",
    "    plt.gcf().set_size_inches(5, 3)  "
   ]
  },
  {
   "cell_type": "code",
   "execution_count": 9,
   "id": "a9219d24-fcc0-4173-95b5-18b8a857246c",
   "metadata": {},
   "outputs": [
    {
     "data": {
      "image/png": "[encoded data removed]",
      "text/plain": [
       "<Figure size 500x300 with 1 Axes>"
      ]
     },
     "metadata": {},
     "output_type": "display_data"
    }
   ],
   "source": [
    "sns.countplot(df, x=df['Credit-Application-Result'])\n",
    "setup_plot()"
   ]
  },
  {
   "cell_type": "markdown",
   "id": "3b718cc0-cfce-4eb5-9a47-b1b6250c8c5d",
   "metadata": {},
   "source": [
    "*Comment: The dataset is imbalanced.*\n",
    "\n",
    "*I decided that I am not going to use SMOTE or RandomUnderSampler because it can easily lead to overfitting, noise introduction or inappropriate Balancing, so rather will use differenet metrics.*"
   ]
  },
  {
   "cell_type": "code",
   "execution_count": null,
   "id": "6d653655-934d-432c-b074-3018ac5cd713",
   "metadata": {},
   "outputs": [],
   "source": []
  },
  {
   "cell_type": "markdown",
   "id": "9999ae09-d84f-4251-8086-8e8063dfedfd",
   "metadata": {},
   "source": [
    "#### Numerical variables"
   ]
  },
  {
   "cell_type": "code",
   "execution_count": 10,
   "id": "c953c57b-cf90-49aa-b7ec-c475e944f8e1",
   "metadata": {},
   "outputs": [
    {
     "data": {
      "text/plain": [
       "Index(['Duration-of-Credit-Month', 'Credit-Amount', 'Instalment-per-cent',\n",
       "       'Most-valuable-available-asset', 'Age-years', 'Type-of-apartment',\n",
       "       'Occupation', 'No-of-dependents', 'Telephone', 'Foreign-Worker'],\n",
       "      dtype='object')"
      ]
     },
     "execution_count": 10,
     "metadata": {},
     "output_type": "execute_result"
    }
   ],
   "source": [
    "num = df.select_dtypes(include=np.number).columns\n",
    "num"
   ]
  },
  {
   "cell_type": "markdown",
   "id": "1328807b-a71f-4224-a76c-f998aa504ac5",
   "metadata": {},
   "source": [
    "*Comment: Credit-Amount to be checked separately.*"
   ]
  },
  {
   "cell_type": "code",
   "execution_count": 11,
   "id": "cb115639-cd88-47ef-bd8e-ffb3e9c0848c",
   "metadata": {},
   "outputs": [],
   "source": [
    "num = num.drop('Credit-Amount')"
   ]
  },
  {
   "cell_type": "code",
   "execution_count": 12,
   "id": "99684f3f-1671-47cc-8f1d-873563204f53",
   "metadata": {},
   "outputs": [
    {
     "data": {
      "image/png": "[encoded data removed]",
      "text/plain": [
       "<Figure size 500x300 with 1 Axes>"
      ]
     },
     "metadata": {},
     "output_type": "display_data"
    },
    {
     "data": {
      "image/png": "[encoded data removed]",
      "text/plain": [
       "<Figure size 500x300 with 1 Axes>"
      ]
     },
     "metadata": {},
     "output_type": "display_data"
    },
    {
     "data": {
      "image/png": "[encoded data removed]",
      "text/plain": [
       "<Figure size 500x300 with 1 Axes>"
      ]
     },
     "metadata": {},
     "output_type": "display_data"
    },
    {
     "data": {
      "image/png": "[encoded data removed]",
      "text/plain": [
       "<Figure size 500x300 with 1 Axes>"
      ]
     },
     "metadata": {},
     "output_type": "display_data"
    },
    {
     "data": {
      "image/png": "[encoded data removed]",
      "text/plain": [
       "<Figure size 500x300 with 1 Axes>"
      ]
     },
     "metadata": {},
     "output_type": "display_data"
    },
    {
     "data": {
      "image/png": "[encoded data removed]",
      "text/plain": [
       "<Figure size 500x300 with 1 Axes>"
      ]
     },
     "metadata": {},
     "output_type": "display_data"
    },
    {
     "data": {
      "image/png": "[encoded data removed]",
      "text/plain": [
       "<Figure size 500x300 with 1 Axes>"
      ]
     },
     "metadata": {},
     "output_type": "display_data"
    },
    {
     "data": {
      "image/png": "[encoded data removed]",
      "text/plain": [
       "<Figure size 500x300 with 1 Axes>"
      ]
     },
     "metadata": {},
     "output_type": "display_data"
    },
    {
     "data": {
      "image/png": "[encoded data removed]",
      "text/plain": [
       "<Figure size 500x300 with 1 Axes>"
      ]
     },
     "metadata": {},
     "output_type": "display_data"
    }
   ],
   "source": [
    "for col in num:\n",
    "    sns.countplot(data=df, x=col, palette=\"Set2\")\n",
    "    plt.title(f'Value Counts for {col}')\n",
    "    plt.tight_layout(pad=0.5)\n",
    "    setup_plot()\n",
    "    plt.show()"
   ]
  },
  {
   "cell_type": "markdown",
   "id": "0bc95d66-1b04-4df3-ab57-c2ac9ef7cecb",
   "metadata": {},
   "source": [
    "*Comment: Age to be checked separately, Occupation and Phone number can be dropped.*"
   ]
  },
  {
   "cell_type": "code",
   "execution_count": 13,
   "id": "1c024b34-7e23-4605-a360-cfce4cfc2dcb",
   "metadata": {},
   "outputs": [],
   "source": [
    "df = df.drop(['Occupation', 'Telephone'], axis=1)"
   ]
  },
  {
   "cell_type": "markdown",
   "id": "1a02bce5-33ca-4e46-b619-fe84b8732958",
   "metadata": {},
   "source": [
    "*Note: The most popular repayment period is 12 and 24 months, however there are some which are for 6,9,15,18,36,48 are quite common as well.*\n",
    "*The rest of the features are rather categorical value, not numerical.*"
   ]
  },
  {
   "cell_type": "markdown",
   "id": "e0102684-3364-4b5a-939d-dc83bcf24de0",
   "metadata": {},
   "source": [
    "*To be encoded: 'Instalment-per-cent', 'Most-valuable-available-asset','Type-of-apartment', 'No-of-dependents', 'Foreign-Worker'.*"
   ]
  },
  {
   "cell_type": "markdown",
   "id": "6bb9822e-e927-46e5-b058-154aea3dcc98",
   "metadata": {},
   "source": [
    "##### Credit Amount"
   ]
  },
  {
   "cell_type": "code",
   "execution_count": 14,
   "id": "43485881-9b5d-41fc-9333-d4af5e5a8d37",
   "metadata": {},
   "outputs": [
    {
     "data": {
      "image/png": "[encoded data removed]",
      "text/plain": [
       "<Figure size 500x300 with 1 Axes>"
      ]
     },
     "metadata": {},
     "output_type": "display_data"
    }
   ],
   "source": [
    "sns.histplot(data= df, x=df['Credit-Amount'], kde=True)\n",
    "setup_plot()"
   ]
  },
  {
   "cell_type": "markdown",
   "id": "5cf7b22c-5920-41a8-835e-b96582583ac1",
   "metadata": {},
   "source": [
    "*Comment: Based on the amount and the duration, these loans are mainly short term loans - majority as of less than 2 years with low credit amount - majority less than 5000.*"
   ]
  },
  {
   "cell_type": "code",
   "execution_count": 15,
   "id": "d4dde6eb-fe1c-406a-8f9e-e53d9748eefe",
   "metadata": {},
   "outputs": [
    {
     "data": {
      "image/png": "[encoded data removed]",
      "text/plain": [
       "<Figure size 500x300 with 1 Axes>"
      ]
     },
     "metadata": {},
     "output_type": "display_data"
    }
   ],
   "source": [
    "sns.boxplot(data= df, x=df['Credit-Amount'])\n",
    "setup_plot()"
   ]
  },
  {
   "cell_type": "markdown",
   "id": "d8eb01bc-8afe-429d-ab63-46b6c156fffe",
   "metadata": {},
   "source": [
    "*Comment: There are some outliers, but considering the amount of obersation points(500 rows), might not be worth to dropped.*"
   ]
  },
  {
   "cell_type": "code",
   "execution_count": 16,
   "id": "f114ea6b-d761-4d0d-a1dc-8fe7cf3d71f0",
   "metadata": {},
   "outputs": [
    {
     "data": {
      "image/png": "[encoded data removed]",
      "text/plain": [
       "<Figure size 500x300 with 1 Axes>"
      ]
     },
     "metadata": {},
     "output_type": "display_data"
    }
   ],
   "source": [
    "sns.histplot(data=df, x=df['Age-years'], kde=True)\n",
    "setup_plot()"
   ]
  },
  {
   "cell_type": "markdown",
   "id": "0b595002-563b-47b5-817d-093291fb2879",
   "metadata": {},
   "source": [
    "*Comment: This type of loan is popular among mainly peoople in their thirties and forties.*"
   ]
  },
  {
   "cell_type": "code",
   "execution_count": 17,
   "id": "6d582bf6-fd47-4204-8774-7b952a3eb9ee",
   "metadata": {},
   "outputs": [
    {
     "data": {
      "image/png": "[encoded data removed]",
      "text/plain": [
       "<Figure size 500x300 with 1 Axes>"
      ]
     },
     "metadata": {},
     "output_type": "display_data"
    }
   ],
   "source": [
    "sns.boxplot(data=df, x=df['Age-years'])\n",
    "setup_plot()"
   ]
  },
  {
   "cell_type": "markdown",
   "id": "746bffb7-0812-43d6-b5ce-c72083158293",
   "metadata": {},
   "source": [
    "*Comment: same as for Credit Amount.*"
   ]
  },
  {
   "cell_type": "code",
   "execution_count": null,
   "id": "1d77d3eb-a7a8-44c1-8a91-247dad779e9f",
   "metadata": {},
   "outputs": [],
   "source": []
  },
  {
   "cell_type": "markdown",
   "id": "531aa99b-dd60-4df0-9d77-207c66f94ddf",
   "metadata": {},
   "source": [
    "#### Object variables"
   ]
  },
  {
   "cell_type": "code",
   "execution_count": 18,
   "id": "4e2499a5-1700-4844-a82a-d3c2235da386",
   "metadata": {},
   "outputs": [
    {
     "data": {
      "text/plain": [
       "Index(['Credit-Application-Result', 'Account-Balance',\n",
       "       'Payment-Status-of-Previous-Credit', 'Purpose',\n",
       "       'Length-of-current-employment', 'Concurrent-Credits',\n",
       "       'No-of-Credits-at-this-Bank'],\n",
       "      dtype='object')"
      ]
     },
     "execution_count": 18,
     "metadata": {},
     "output_type": "execute_result"
    }
   ],
   "source": [
    "obj = df.select_dtypes(include='object').columns\n",
    "obj"
   ]
  },
  {
   "cell_type": "code",
   "execution_count": 19,
   "id": "0ef0ca94-1e7c-4dfe-bcba-8efbd09493a4",
   "metadata": {},
   "outputs": [
    {
     "data": {
      "image/png": "[encoded data removed]",
      "text/plain": [
       "<Figure size 500x300 with 1 Axes>"
      ]
     },
     "metadata": {},
     "output_type": "display_data"
    },
    {
     "data": {
      "image/png": "[encoded data removed]",
      "text/plain": [
       "<Figure size 500x300 with 1 Axes>"
      ]
     },
     "metadata": {},
     "output_type": "display_data"
    },
    {
     "data": {
      "image/png": "[encoded data removed]",
      "text/plain": [
       "<Figure size 500x300 with 1 Axes>"
      ]
     },
     "metadata": {},
     "output_type": "display_data"
    },
    {
     "data": {
      "image/png": "[encoded data removed]",
      "text/plain": [
       "<Figure size 500x300 with 1 Axes>"
      ]
     },
     "metadata": {},
     "output_type": "display_data"
    },
    {
     "data": {
      "image/png": "[encoded data removed]",
      "text/plain": [
       "<Figure size 500x300 with 1 Axes>"
      ]
     },
     "metadata": {},
     "output_type": "display_data"
    },
    {
     "data": {
      "image/png": "[encoded data removed]",
      "text/plain": [
       "<Figure size 500x300 with 1 Axes>"
      ]
     },
     "metadata": {},
     "output_type": "display_data"
    },
    {
     "data": {
      "image/png": "[encoded data removed]",
      "text/plain": [
       "<Figure size 500x300 with 1 Axes>"
      ]
     },
     "metadata": {},
     "output_type": "display_data"
    }
   ],
   "source": [
    "for col in obj:\n",
    "    sns.countplot(data=df, x=col, palette=\"rocket\")\n",
    "    plt.title(f'Value Counts for {col}')\n",
    "    plt.tight_layout(pad=0.5)\n",
    "    setup_plot()\n",
    "    plt.show()"
   ]
  },
  {
   "cell_type": "markdown",
   "id": "e16f4be1-aeb1-48b2-8e17-87983487f7e6",
   "metadata": {},
   "source": [
    "*Comment: Concurrent credit can be dropped.*"
   ]
  },
  {
   "cell_type": "code",
   "execution_count": 20,
   "id": "e54ed660-4f53-4829-9c8c-6bb4f026bd50",
   "metadata": {},
   "outputs": [
    {
     "data": {
      "text/plain": [
       "Index(['Credit-Application-Result', 'Account-Balance',\n",
       "       'Duration-of-Credit-Month', 'Payment-Status-of-Previous-Credit',\n",
       "       'Purpose', 'Credit-Amount', 'Length-of-current-employment',\n",
       "       'Instalment-per-cent', 'Most-valuable-available-asset', 'Age-years',\n",
       "       'Concurrent-Credits', 'Type-of-apartment', 'No-of-Credits-at-this-Bank',\n",
       "       'No-of-dependents', 'Foreign-Worker'],\n",
       "      dtype='object')"
      ]
     },
     "execution_count": 20,
     "metadata": {},
     "output_type": "execute_result"
    }
   ],
   "source": [
    "df.columns"
   ]
  },
  {
   "cell_type": "code",
   "execution_count": 21,
   "id": "25ac90b7-36d5-4871-9e5c-c4c94de4d922",
   "metadata": {},
   "outputs": [],
   "source": [
    "df = df.drop('Concurrent-Credits', axis=1)"
   ]
  },
  {
   "cell_type": "code",
   "execution_count": null,
   "id": "9cc7a618-77d7-4021-8d2b-2fb7a2ee7a5a",
   "metadata": {},
   "outputs": [],
   "source": []
  },
  {
   "cell_type": "markdown",
   "id": "0484e262-443c-44b7-8a7b-efd0a6f2529f",
   "metadata": {},
   "source": [
    "#### Encoding"
   ]
  },
  {
   "cell_type": "markdown",
   "id": "d7d05162-72ea-4252-99fc-c63c53714b2b",
   "metadata": {},
   "source": [
    "*In some cases the order hierarchy matters and in other features - it does not have relevancy, therefore I will execute two types of encoding: dummy encoding where I dont have knowledge if the order hierarchy matters I decided to use simply manual method to ensure that the hierarchy is assigned properly.*\n",
    "\n",
    "\n",
    "*Instead of label encoding since the assignment of numeric values to categorical labels is done automatically based on the alphabetical or lexicographical order of the categories.*"
   ]
  },
  {
   "cell_type": "code",
   "execution_count": 22,
   "id": "31ca3eda-b534-4cb2-a6f8-24c8f1641bdf",
   "metadata": {},
   "outputs": [],
   "source": [
    "dum = ['Purpose', 'No-of-Credits-at-this-Bank']"
   ]
  },
  {
   "cell_type": "code",
   "execution_count": 23,
   "id": "c10dc6cd-ef70-4307-a800-12ea0860d53e",
   "metadata": {},
   "outputs": [],
   "source": [
    "df = pd.get_dummies(df, columns=['Purpose', 'No-of-Credits-at-this-Bank'],drop_first = True)"
   ]
  },
  {
   "cell_type": "code",
   "execution_count": 24,
   "id": "d3fd69ce-5d10-4bc1-a7e7-4bcd8a5f0f54",
   "metadata": {},
   "outputs": [],
   "source": [
    "df['Purpose_New car'] = df['Purpose_New car'].astype(int)\n",
    "df['Purpose_Other'] = df['Purpose_Other'].astype(int)\n",
    "df['Purpose_Used car'] = df['Purpose_Used car'].astype(int)\n",
    "df['No-of-Credits-at-this-Bank_More than 1'] = df['No-of-Credits-at-this-Bank_More than 1'].astype(int)"
   ]
  },
  {
   "cell_type": "code",
   "execution_count": null,
   "id": "12016877-6013-498c-bda8-0b6d343607a5",
   "metadata": {},
   "outputs": [],
   "source": []
  },
  {
   "cell_type": "code",
   "execution_count": null,
   "id": "a9a8486c-e251-4838-adcd-ce6ab37c097a",
   "metadata": {},
   "outputs": [],
   "source": []
  },
  {
   "cell_type": "code",
   "execution_count": 25,
   "id": "32a8d0f5-762f-4ede-a140-3609e34221fa",
   "metadata": {},
   "outputs": [
    {
     "data": {
      "text/plain": [
       "Account-Balance\n",
       "No Account      262\n",
       "Some Balance    238\n",
       "Name: count, dtype: int64"
      ]
     },
     "execution_count": 25,
     "metadata": {},
     "output_type": "execute_result"
    }
   ],
   "source": [
    "df['Account-Balance'].value_counts()"
   ]
  },
  {
   "cell_type": "code",
   "execution_count": 26,
   "id": "aaeff91b-2d49-49af-a78b-112785125015",
   "metadata": {},
   "outputs": [],
   "source": [
    "account_mapping = {'No Account': 0, 'Some Balance': 1, 'Paid Up': 2}\n",
    "df['Account-Balance'] = df['Account-Balance'].map(account_mapping)"
   ]
  },
  {
   "cell_type": "code",
   "execution_count": 27,
   "id": "1a514aec-378b-4bce-814e-9f14666ce34b",
   "metadata": {},
   "outputs": [
    {
     "data": {
      "text/plain": [
       "Payment-Status-of-Previous-Credit\n",
       "Paid Up                       260\n",
       "No Problems (in this bank)    204\n",
       "Some Problems                  36\n",
       "Name: count, dtype: int64"
      ]
     },
     "execution_count": 27,
     "metadata": {},
     "output_type": "execute_result"
    }
   ],
   "source": [
    "df['Payment-Status-of-Previous-Credit'].value_counts()"
   ]
  },
  {
   "cell_type": "code",
   "execution_count": 28,
   "id": "c597f208-5642-48c4-a7b3-3e25184b50df",
   "metadata": {},
   "outputs": [],
   "source": [
    "payment_mapping = {'Some Problems': 0, 'No Problems (in this bank)': 1, 'Paid Up': 2}\n",
    "df['Payment-Status-of-Previous-Credit'] = df['Payment-Status-of-Previous-Credit'].map(payment_mapping)"
   ]
  },
  {
   "cell_type": "code",
   "execution_count": 29,
   "id": "e821cce6-ad13-4d51-be6f-6be4bc7c90de",
   "metadata": {},
   "outputs": [
    {
     "data": {
      "text/plain": [
       "Length-of-current-employment\n",
       "< 1yr      279\n",
       "4-7 yrs    124\n",
       "1-4 yrs     97\n",
       "Name: count, dtype: int64"
      ]
     },
     "execution_count": 29,
     "metadata": {},
     "output_type": "execute_result"
    }
   ],
   "source": [
    "df['Length-of-current-employment'].value_counts()"
   ]
  },
  {
   "cell_type": "code",
   "execution_count": 30,
   "id": "60214cd3-e899-4cee-8292-05cbd96e497a",
   "metadata": {},
   "outputs": [],
   "source": [
    "length_mapping = {'< 1yr': 0, '1-4 yrs': 1, '4-7 yrs': 2}\n",
    "df['Length-of-current-employment'] = df['Length-of-current-employment'].map(length_mapping)"
   ]
  },
  {
   "cell_type": "code",
   "execution_count": 31,
   "id": "ae42c4f7-1189-4db4-a6b8-2ee588220ad4",
   "metadata": {},
   "outputs": [
    {
     "data": {
      "text/plain": [
       "Credit-Application-Result\n",
       "Creditworthy        358\n",
       "Non-Creditworthy    142\n",
       "Name: count, dtype: int64"
      ]
     },
     "execution_count": 31,
     "metadata": {},
     "output_type": "execute_result"
    }
   ],
   "source": [
    "df['Credit-Application-Result'].value_counts()"
   ]
  },
  {
   "cell_type": "code",
   "execution_count": 32,
   "id": "c453d05d-944a-4063-a187-04cc6dec6b90",
   "metadata": {},
   "outputs": [],
   "source": [
    "result_mapping = {'Non-Creditworthy': 0, 'Creditworthy': 1}\n",
    "df['Credit-Application-Result'] = df['Credit-Application-Result'].map(result_mapping)"
   ]
  },
  {
   "cell_type": "code",
   "execution_count": null,
   "id": "b98c3c5d-3098-4ccf-acda-3a56ea083bda",
   "metadata": {},
   "outputs": [],
   "source": []
  },
  {
   "cell_type": "code",
   "execution_count": 33,
   "id": "94a50ea8-51ca-44e4-b8b4-fa9b44b02d4c",
   "metadata": {},
   "outputs": [
    {
     "data": {
      "text/html": [
       "<div>\n",
       "<style scoped>\n",
       "    .dataframe tbody tr th:only-of-type {\n",
       "        vertical-align: middle;\n",
       "    }\n",
       "\n",
       "    .dataframe tbody tr th {\n",
       "        vertical-align: top;\n",
       "    }\n",
       "\n",
       "    .dataframe thead th {\n",
       "        text-align: right;\n",
       "    }\n",
       "</style>\n",
       "<table border=\"1\" class=\"dataframe\">\n",
       "  <thead>\n",
       "    <tr style=\"text-align: right;\">\n",
       "      <th></th>\n",
       "      <th>Credit-Application-Result</th>\n",
       "      <th>Account-Balance</th>\n",
       "      <th>Duration-of-Credit-Month</th>\n",
       "      <th>Payment-Status-of-Previous-Credit</th>\n",
       "      <th>Credit-Amount</th>\n",
       "      <th>Length-of-current-employment</th>\n",
       "      <th>Instalment-per-cent</th>\n",
       "      <th>Most-valuable-available-asset</th>\n",
       "      <th>Age-years</th>\n",
       "      <th>Type-of-apartment</th>\n",
       "      <th>No-of-dependents</th>\n",
       "      <th>Foreign-Worker</th>\n",
       "      <th>Purpose_New car</th>\n",
       "      <th>Purpose_Other</th>\n",
       "      <th>Purpose_Used car</th>\n",
       "      <th>No-of-Credits-at-this-Bank_More than 1</th>\n",
       "    </tr>\n",
       "  </thead>\n",
       "  <tbody>\n",
       "    <tr>\n",
       "      <th>0</th>\n",
       "      <td>1</td>\n",
       "      <td>1</td>\n",
       "      <td>4</td>\n",
       "      <td>2</td>\n",
       "      <td>1494</td>\n",
       "      <td>0</td>\n",
       "      <td>1</td>\n",
       "      <td>1</td>\n",
       "      <td>NaN</td>\n",
       "      <td>2</td>\n",
       "      <td>2</td>\n",
       "      <td>2</td>\n",
       "      <td>0</td>\n",
       "      <td>1</td>\n",
       "      <td>0</td>\n",
       "      <td>0</td>\n",
       "    </tr>\n",
       "    <tr>\n",
       "      <th>1</th>\n",
       "      <td>1</td>\n",
       "      <td>1</td>\n",
       "      <td>4</td>\n",
       "      <td>2</td>\n",
       "      <td>1494</td>\n",
       "      <td>0</td>\n",
       "      <td>1</td>\n",
       "      <td>1</td>\n",
       "      <td>29.0</td>\n",
       "      <td>2</td>\n",
       "      <td>2</td>\n",
       "      <td>2</td>\n",
       "      <td>0</td>\n",
       "      <td>0</td>\n",
       "      <td>0</td>\n",
       "      <td>0</td>\n",
       "    </tr>\n",
       "    <tr>\n",
       "      <th>2</th>\n",
       "      <td>1</td>\n",
       "      <td>1</td>\n",
       "      <td>4</td>\n",
       "      <td>1</td>\n",
       "      <td>1544</td>\n",
       "      <td>1</td>\n",
       "      <td>2</td>\n",
       "      <td>1</td>\n",
       "      <td>42.0</td>\n",
       "      <td>2</td>\n",
       "      <td>2</td>\n",
       "      <td>1</td>\n",
       "      <td>0</td>\n",
       "      <td>0</td>\n",
       "      <td>0</td>\n",
       "      <td>1</td>\n",
       "    </tr>\n",
       "    <tr>\n",
       "      <th>3</th>\n",
       "      <td>1</td>\n",
       "      <td>1</td>\n",
       "      <td>4</td>\n",
       "      <td>1</td>\n",
       "      <td>3380</td>\n",
       "      <td>1</td>\n",
       "      <td>1</td>\n",
       "      <td>1</td>\n",
       "      <td>37.0</td>\n",
       "      <td>2</td>\n",
       "      <td>2</td>\n",
       "      <td>1</td>\n",
       "      <td>0</td>\n",
       "      <td>0</td>\n",
       "      <td>0</td>\n",
       "      <td>0</td>\n",
       "    </tr>\n",
       "    <tr>\n",
       "      <th>4</th>\n",
       "      <td>1</td>\n",
       "      <td>0</td>\n",
       "      <td>6</td>\n",
       "      <td>2</td>\n",
       "      <td>343</td>\n",
       "      <td>0</td>\n",
       "      <td>4</td>\n",
       "      <td>1</td>\n",
       "      <td>27.0</td>\n",
       "      <td>2</td>\n",
       "      <td>1</td>\n",
       "      <td>1</td>\n",
       "      <td>0</td>\n",
       "      <td>0</td>\n",
       "      <td>0</td>\n",
       "      <td>0</td>\n",
       "    </tr>\n",
       "  </tbody>\n",
       "</table>\n",
       "</div>"
      ],
      "text/plain": [
       "   Credit-Application-Result  Account-Balance  Duration-of-Credit-Month  \\\n",
       "0                          1                1                         4   \n",
       "1                          1                1                         4   \n",
       "2                          1                1                         4   \n",
       "3                          1                1                         4   \n",
       "4                          1                0                         6   \n",
       "\n",
       "   Payment-Status-of-Previous-Credit  Credit-Amount  \\\n",
       "0                                  2           1494   \n",
       "1                                  2           1494   \n",
       "2                                  1           1544   \n",
       "3                                  1           3380   \n",
       "4                                  2            343   \n",
       "\n",
       "   Length-of-current-employment  Instalment-per-cent  \\\n",
       "0                             0                    1   \n",
       "1                             0                    1   \n",
       "2                             1                    2   \n",
       "3                             1                    1   \n",
       "4                             0                    4   \n",
       "\n",
       "   Most-valuable-available-asset  Age-years  Type-of-apartment  \\\n",
       "0                              1        NaN                  2   \n",
       "1                              1       29.0                  2   \n",
       "2                              1       42.0                  2   \n",
       "3                              1       37.0                  2   \n",
       "4                              1       27.0                  2   \n",
       "\n",
       "   No-of-dependents  Foreign-Worker  Purpose_New car  Purpose_Other  \\\n",
       "0                 2               2                0              1   \n",
       "1                 2               2                0              0   \n",
       "2                 2               1                0              0   \n",
       "3                 2               1                0              0   \n",
       "4                 1               1                0              0   \n",
       "\n",
       "   Purpose_Used car  No-of-Credits-at-this-Bank_More than 1  \n",
       "0                 0                                       0  \n",
       "1                 0                                       0  \n",
       "2                 0                                       1  \n",
       "3                 0                                       0  \n",
       "4                 0                                       0  "
      ]
     },
     "execution_count": 33,
     "metadata": {},
     "output_type": "execute_result"
    }
   ],
   "source": [
    "df.head()"
   ]
  },
  {
   "cell_type": "markdown",
   "id": "30dc3000-5ffc-4fe2-b0bc-da387ca6e1fe",
   "metadata": {},
   "source": [
    "*Comment: Data needs to be scaled.*"
   ]
  },
  {
   "cell_type": "markdown",
   "id": "1fea08b1-b966-4a75-8542-5a036885741e",
   "metadata": {},
   "source": [
    "#### Missin values"
   ]
  },
  {
   "cell_type": "code",
   "execution_count": 34,
   "id": "7f0113be-2f7e-4c7d-8f6c-0047a22e09c9",
   "metadata": {},
   "outputs": [
    {
     "data": {
      "text/plain": [
       "count    488.000000\n",
       "mean      35.637295\n",
       "std       11.501522\n",
       "min       19.000000\n",
       "25%       27.000000\n",
       "50%       33.000000\n",
       "75%       42.000000\n",
       "max       75.000000\n",
       "Name: Age-years, dtype: float64"
      ]
     },
     "execution_count": 34,
     "metadata": {},
     "output_type": "execute_result"
    }
   ],
   "source": [
    "df['Age-years'].describe()"
   ]
  },
  {
   "cell_type": "code",
   "execution_count": 35,
   "id": "6732db08-4354-48ed-8565-faec756f0b76",
   "metadata": {},
   "outputs": [],
   "source": [
    "median_age = df['Age-years'].median()"
   ]
  },
  {
   "cell_type": "code",
   "execution_count": 36,
   "id": "94ad8561-cbcb-4e44-8ccb-8ccff580372c",
   "metadata": {},
   "outputs": [],
   "source": [
    "df['Age-years'].fillna(median_age, inplace=True)"
   ]
  },
  {
   "cell_type": "code",
   "execution_count": 37,
   "id": "63601b0a-7ff1-4326-ab36-00b73ad95bb2",
   "metadata": {},
   "outputs": [
    {
     "name": "stdout",
     "output_type": "stream",
     "text": [
      "<class 'pandas.core.frame.DataFrame'>\n",
      "RangeIndex: 500 entries, 0 to 499\n",
      "Data columns (total 16 columns):\n",
      " #   Column                                  Non-Null Count  Dtype  \n",
      "---  ------                                  --------------  -----  \n",
      " 0   Credit-Application-Result               500 non-null    int64  \n",
      " 1   Account-Balance                         500 non-null    int64  \n",
      " 2   Duration-of-Credit-Month                500 non-null    int64  \n",
      " 3   Payment-Status-of-Previous-Credit       500 non-null    int64  \n",
      " 4   Credit-Amount                           500 non-null    int64  \n",
      " 5   Length-of-current-employment            500 non-null    int64  \n",
      " 6   Instalment-per-cent                     500 non-null    int64  \n",
      " 7   Most-valuable-available-asset           500 non-null    int64  \n",
      " 8   Age-years                               500 non-null    float64\n",
      " 9   Type-of-apartment                       500 non-null    int64  \n",
      " 10  No-of-dependents                        500 non-null    int64  \n",
      " 11  Foreign-Worker                          500 non-null    int64  \n",
      " 12  Purpose_New car                         500 non-null    int32  \n",
      " 13  Purpose_Other                           500 non-null    int32  \n",
      " 14  Purpose_Used car                        500 non-null    int32  \n",
      " 15  No-of-Credits-at-this-Bank_More than 1  500 non-null    int32  \n",
      "dtypes: float64(1), int32(4), int64(11)\n",
      "memory usage: 54.8 KB\n"
     ]
    }
   ],
   "source": [
    "df.info()"
   ]
  },
  {
   "cell_type": "code",
   "execution_count": 38,
   "id": "03c72a67-a6df-4f42-8ab8-be0ebb562972",
   "metadata": {},
   "outputs": [
    {
     "data": {
      "text/html": [
       "<div>\n",
       "<style scoped>\n",
       "    .dataframe tbody tr th:only-of-type {\n",
       "        vertical-align: middle;\n",
       "    }\n",
       "\n",
       "    .dataframe tbody tr th {\n",
       "        vertical-align: top;\n",
       "    }\n",
       "\n",
       "    .dataframe thead th {\n",
       "        text-align: right;\n",
       "    }\n",
       "</style>\n",
       "<table border=\"1\" class=\"dataframe\">\n",
       "  <thead>\n",
       "    <tr style=\"text-align: right;\">\n",
       "      <th></th>\n",
       "      <th>Credit-Application-Result</th>\n",
       "      <th>Account-Balance</th>\n",
       "      <th>Duration-of-Credit-Month</th>\n",
       "      <th>Payment-Status-of-Previous-Credit</th>\n",
       "      <th>Credit-Amount</th>\n",
       "      <th>Length-of-current-employment</th>\n",
       "      <th>Instalment-per-cent</th>\n",
       "      <th>Most-valuable-available-asset</th>\n",
       "      <th>Age-years</th>\n",
       "      <th>Type-of-apartment</th>\n",
       "      <th>No-of-dependents</th>\n",
       "      <th>Foreign-Worker</th>\n",
       "      <th>Purpose_New car</th>\n",
       "      <th>Purpose_Other</th>\n",
       "      <th>Purpose_Used car</th>\n",
       "      <th>No-of-Credits-at-this-Bank_More than 1</th>\n",
       "    </tr>\n",
       "  </thead>\n",
       "  <tbody>\n",
       "    <tr>\n",
       "      <th>count</th>\n",
       "      <td>500.000000</td>\n",
       "      <td>500.000000</td>\n",
       "      <td>500.00000</td>\n",
       "      <td>500.000000</td>\n",
       "      <td>500.000000</td>\n",
       "      <td>500.000000</td>\n",
       "      <td>500.000000</td>\n",
       "      <td>500.000000</td>\n",
       "      <td>500.000000</td>\n",
       "      <td>500.000000</td>\n",
       "      <td>500.00000</td>\n",
       "      <td>500.000000</td>\n",
       "      <td>500.000000</td>\n",
       "      <td>500.000000</td>\n",
       "      <td>500.000000</td>\n",
       "      <td>500.000000</td>\n",
       "    </tr>\n",
       "    <tr>\n",
       "      <th>mean</th>\n",
       "      <td>0.716000</td>\n",
       "      <td>0.476000</td>\n",
       "      <td>21.43400</td>\n",
       "      <td>1.448000</td>\n",
       "      <td>3199.980000</td>\n",
       "      <td>0.690000</td>\n",
       "      <td>3.010000</td>\n",
       "      <td>2.360000</td>\n",
       "      <td>35.574000</td>\n",
       "      <td>1.928000</td>\n",
       "      <td>1.14600</td>\n",
       "      <td>1.038000</td>\n",
       "      <td>0.094000</td>\n",
       "      <td>0.030000</td>\n",
       "      <td>0.166000</td>\n",
       "      <td>0.360000</td>\n",
       "    </tr>\n",
       "    <tr>\n",
       "      <th>std</th>\n",
       "      <td>0.451388</td>\n",
       "      <td>0.499924</td>\n",
       "      <td>12.30742</td>\n",
       "      <td>0.626163</td>\n",
       "      <td>2831.386861</td>\n",
       "      <td>0.843399</td>\n",
       "      <td>1.113724</td>\n",
       "      <td>1.064268</td>\n",
       "      <td>11.369567</td>\n",
       "      <td>0.539814</td>\n",
       "      <td>0.35346</td>\n",
       "      <td>0.191388</td>\n",
       "      <td>0.292121</td>\n",
       "      <td>0.170758</td>\n",
       "      <td>0.372453</td>\n",
       "      <td>0.480481</td>\n",
       "    </tr>\n",
       "    <tr>\n",
       "      <th>min</th>\n",
       "      <td>0.000000</td>\n",
       "      <td>0.000000</td>\n",
       "      <td>4.00000</td>\n",
       "      <td>0.000000</td>\n",
       "      <td>276.000000</td>\n",
       "      <td>0.000000</td>\n",
       "      <td>1.000000</td>\n",
       "      <td>1.000000</td>\n",
       "      <td>19.000000</td>\n",
       "      <td>1.000000</td>\n",
       "      <td>1.00000</td>\n",
       "      <td>1.000000</td>\n",
       "      <td>0.000000</td>\n",
       "      <td>0.000000</td>\n",
       "      <td>0.000000</td>\n",
       "      <td>0.000000</td>\n",
       "    </tr>\n",
       "    <tr>\n",
       "      <th>25%</th>\n",
       "      <td>0.000000</td>\n",
       "      <td>0.000000</td>\n",
       "      <td>12.00000</td>\n",
       "      <td>1.000000</td>\n",
       "      <td>1357.250000</td>\n",
       "      <td>0.000000</td>\n",
       "      <td>2.000000</td>\n",
       "      <td>1.000000</td>\n",
       "      <td>27.000000</td>\n",
       "      <td>2.000000</td>\n",
       "      <td>1.00000</td>\n",
       "      <td>1.000000</td>\n",
       "      <td>0.000000</td>\n",
       "      <td>0.000000</td>\n",
       "      <td>0.000000</td>\n",
       "      <td>0.000000</td>\n",
       "    </tr>\n",
       "    <tr>\n",
       "      <th>50%</th>\n",
       "      <td>1.000000</td>\n",
       "      <td>0.000000</td>\n",
       "      <td>18.00000</td>\n",
       "      <td>2.000000</td>\n",
       "      <td>2236.500000</td>\n",
       "      <td>0.000000</td>\n",
       "      <td>3.000000</td>\n",
       "      <td>3.000000</td>\n",
       "      <td>33.000000</td>\n",
       "      <td>2.000000</td>\n",
       "      <td>1.00000</td>\n",
       "      <td>1.000000</td>\n",
       "      <td>0.000000</td>\n",
       "      <td>0.000000</td>\n",
       "      <td>0.000000</td>\n",
       "      <td>0.000000</td>\n",
       "    </tr>\n",
       "    <tr>\n",
       "      <th>75%</th>\n",
       "      <td>1.000000</td>\n",
       "      <td>1.000000</td>\n",
       "      <td>24.00000</td>\n",
       "      <td>2.000000</td>\n",
       "      <td>3941.500000</td>\n",
       "      <td>1.000000</td>\n",
       "      <td>4.000000</td>\n",
       "      <td>3.000000</td>\n",
       "      <td>41.000000</td>\n",
       "      <td>2.000000</td>\n",
       "      <td>1.00000</td>\n",
       "      <td>1.000000</td>\n",
       "      <td>0.000000</td>\n",
       "      <td>0.000000</td>\n",
       "      <td>0.000000</td>\n",
       "      <td>1.000000</td>\n",
       "    </tr>\n",
       "    <tr>\n",
       "      <th>max</th>\n",
       "      <td>1.000000</td>\n",
       "      <td>1.000000</td>\n",
       "      <td>60.00000</td>\n",
       "      <td>2.000000</td>\n",
       "      <td>18424.000000</td>\n",
       "      <td>2.000000</td>\n",
       "      <td>4.000000</td>\n",
       "      <td>4.000000</td>\n",
       "      <td>75.000000</td>\n",
       "      <td>3.000000</td>\n",
       "      <td>2.00000</td>\n",
       "      <td>2.000000</td>\n",
       "      <td>1.000000</td>\n",
       "      <td>1.000000</td>\n",
       "      <td>1.000000</td>\n",
       "      <td>1.000000</td>\n",
       "    </tr>\n",
       "  </tbody>\n",
       "</table>\n",
       "</div>"
      ],
      "text/plain": [
       "       Credit-Application-Result  Account-Balance  Duration-of-Credit-Month  \\\n",
       "count                 500.000000       500.000000                 500.00000   \n",
       "mean                    0.716000         0.476000                  21.43400   \n",
       "std                     0.451388         0.499924                  12.30742   \n",
       "min                     0.000000         0.000000                   4.00000   \n",
       "25%                     0.000000         0.000000                  12.00000   \n",
       "50%                     1.000000         0.000000                  18.00000   \n",
       "75%                     1.000000         1.000000                  24.00000   \n",
       "max                     1.000000         1.000000                  60.00000   \n",
       "\n",
       "       Payment-Status-of-Previous-Credit  Credit-Amount  \\\n",
       "count                         500.000000     500.000000   \n",
       "mean                            1.448000    3199.980000   \n",
       "std                             0.626163    2831.386861   \n",
       "min                             0.000000     276.000000   \n",
       "25%                             1.000000    1357.250000   \n",
       "50%                             2.000000    2236.500000   \n",
       "75%                             2.000000    3941.500000   \n",
       "max                             2.000000   18424.000000   \n",
       "\n",
       "       Length-of-current-employment  Instalment-per-cent  \\\n",
       "count                    500.000000           500.000000   \n",
       "mean                       0.690000             3.010000   \n",
       "std                        0.843399             1.113724   \n",
       "min                        0.000000             1.000000   \n",
       "25%                        0.000000             2.000000   \n",
       "50%                        0.000000             3.000000   \n",
       "75%                        1.000000             4.000000   \n",
       "max                        2.000000             4.000000   \n",
       "\n",
       "       Most-valuable-available-asset   Age-years  Type-of-apartment  \\\n",
       "count                     500.000000  500.000000         500.000000   \n",
       "mean                        2.360000   35.574000           1.928000   \n",
       "std                         1.064268   11.369567           0.539814   \n",
       "min                         1.000000   19.000000           1.000000   \n",
       "25%                         1.000000   27.000000           2.000000   \n",
       "50%                         3.000000   33.000000           2.000000   \n",
       "75%                         3.000000   41.000000           2.000000   \n",
       "max                         4.000000   75.000000           3.000000   \n",
       "\n",
       "       No-of-dependents  Foreign-Worker  Purpose_New car  Purpose_Other  \\\n",
       "count         500.00000      500.000000       500.000000     500.000000   \n",
       "mean            1.14600        1.038000         0.094000       0.030000   \n",
       "std             0.35346        0.191388         0.292121       0.170758   \n",
       "min             1.00000        1.000000         0.000000       0.000000   \n",
       "25%             1.00000        1.000000         0.000000       0.000000   \n",
       "50%             1.00000        1.000000         0.000000       0.000000   \n",
       "75%             1.00000        1.000000         0.000000       0.000000   \n",
       "max             2.00000        2.000000         1.000000       1.000000   \n",
       "\n",
       "       Purpose_Used car  No-of-Credits-at-this-Bank_More than 1  \n",
       "count        500.000000                              500.000000  \n",
       "mean           0.166000                                0.360000  \n",
       "std            0.372453                                0.480481  \n",
       "min            0.000000                                0.000000  \n",
       "25%            0.000000                                0.000000  \n",
       "50%            0.000000                                0.000000  \n",
       "75%            0.000000                                1.000000  \n",
       "max            1.000000                                1.000000  "
      ]
     },
     "execution_count": 38,
     "metadata": {},
     "output_type": "execute_result"
    }
   ],
   "source": [
    "df.describe()"
   ]
  },
  {
   "cell_type": "code",
   "execution_count": null,
   "id": "f728fd0d-02e8-42eb-8d2d-51409a45aee9",
   "metadata": {},
   "outputs": [],
   "source": []
  },
  {
   "cell_type": "markdown",
   "id": "9b55d5f3-73a7-411d-a524-1b2d52ab9083",
   "metadata": {},
   "source": [
    "### Data modelling"
   ]
  },
  {
   "cell_type": "code",
   "execution_count": 39,
   "id": "3473c1b9-828e-43de-8727-ac4240ff0a56",
   "metadata": {},
   "outputs": [],
   "source": [
    "X = df.drop('Credit-Application-Result', axis=1)\n",
    "y = df['Credit-Application-Result']"
   ]
  },
  {
   "cell_type": "markdown",
   "id": "a33ea276-5352-49c4-82c1-947cb810fe2c",
   "metadata": {},
   "source": [
    "#### Splitting - stratify due to imbalanced"
   ]
  },
  {
   "cell_type": "code",
   "execution_count": 40,
   "id": "c3d5ffaf-ea40-4073-a7ea-a1b1cbd50d7f",
   "metadata": {},
   "outputs": [],
   "source": [
    "X_train,X_test,y_train,y_test = train_test_split(X,y,test_size = 0.25,stratify = y,random_state = 0)"
   ]
  },
  {
   "cell_type": "markdown",
   "id": "14ec750c-f979-40b3-983c-3035645492de",
   "metadata": {},
   "source": [
    "*Note: Will check the accuracy to understand how well the model generalize, however the final metric will be ROC-AUC since the dataset is imbalanced.*"
   ]
  },
  {
   "cell_type": "code",
   "execution_count": null,
   "id": "89926a35-b8cd-4e5c-bece-d7581b2ca1e2",
   "metadata": {},
   "outputs": [],
   "source": []
  },
  {
   "cell_type": "markdown",
   "id": "2d63817c-d888-456b-aac9-e674eb43097e",
   "metadata": {},
   "source": [
    "##### Decision Tree"
   ]
  },
  {
   "cell_type": "code",
   "execution_count": 430,
   "id": "5ecce2b5-0dd0-42ba-9061-c5594f9eb8cd",
   "metadata": {},
   "outputs": [
    {
     "name": "stdout",
     "output_type": "stream",
     "text": [
      "train accuracy: 1.00\n",
      "test accuracy: 0.66\n"
     ]
    }
   ],
   "source": [
    "dtree = DecisionTreeClassifier(random_state=42)\n",
    "dtree.fit(X_train, y_train)\n",
    "dtree_ypred = dtree.predict(X_test)\n",
    "print('train accuracy: {:.2f}'.format(dtree.score(X_train,y_train)))\n",
    "print('test accuracy: {:.2f}'.format(dtree.score(X_test,y_test)))"
   ]
  },
  {
   "cell_type": "markdown",
   "id": "3481e56b-5e9d-4650-a7df-28f04fe134b3",
   "metadata": {},
   "source": [
    "*Hyperparameter Tuning*"
   ]
  },
  {
   "cell_type": "code",
   "execution_count": 431,
   "id": "4515a564-6ba6-41de-931b-14354dc0d3c5",
   "metadata": {},
   "outputs": [],
   "source": [
    "dtree = dtree = DecisionTreeClassifier(random_state=42)"
   ]
  },
  {
   "cell_type": "code",
   "execution_count": 432,
   "id": "2bb754ed-cd8f-4e4a-9b32-66c4f29536b5",
   "metadata": {},
   "outputs": [],
   "source": [
    "param_grid = {\n",
    "    'max_features': [3,5,7,10],\n",
    "    'max_leaf_nodes':[3,5,7,10]\n",
    "}"
   ]
  },
  {
   "cell_type": "code",
   "execution_count": 433,
   "id": "d720a86b-c2d0-4eba-80a6-fc66975c7f6b",
   "metadata": {},
   "outputs": [
    {
     "name": "stdout",
     "output_type": "stream",
     "text": [
      "Best cross-validation acuracy: 0.76\n",
      "Best test score: 0.79\n",
      "Best parameters: {'max_features': 10, 'max_leaf_nodes': 5}\n"
     ]
    }
   ],
   "source": [
    "grid_dtree = GridSearchCV(dtree, param_grid = param_grid, cv=5)\n",
    "grid_dtree.fit(X_train,y_train)\n",
    "\n",
    "print('Best cross-validation acuracy: {:.2f}'.format(grid_dtree.best_score_))\n",
    "print('Best test score: {:.2f}'.format(grid_dtree.score(X_test,y_test)))\n",
    "print('Best parameters:',grid_dtree.best_params_)"
   ]
  },
  {
   "cell_type": "code",
   "execution_count": 79,
   "id": "ab92d0ed-37a6-49e6-a9d2-f868cb29f058",
   "metadata": {},
   "outputs": [
    {
     "name": "stdout",
     "output_type": "stream",
     "text": [
      "train accuracy: 0.77\n",
      "test accuracy: 0.77\n"
     ]
    }
   ],
   "source": [
    "dtree = DecisionTreeClassifier(max_features=7,max_leaf_nodes=5,random_state=42)\n",
    "\n",
    "dtree.fit(X_train,y_train)\n",
    "dtree_ypred = dtree.predict(X_test)\n",
    "\n",
    "print('train accuracy: {:.2f}'.format(dtree.score(X_train,y_train)))\n",
    "print('test accuracy: {:.2f}'.format(dtree.score(X_test,y_test)))"
   ]
  },
  {
   "cell_type": "code",
   "execution_count": null,
   "id": "d07e9868-bd9a-41b4-b834-d6f4863a4e8d",
   "metadata": {},
   "outputs": [],
   "source": []
  },
  {
   "cell_type": "markdown",
   "id": "484e4595-5299-46c3-b3b2-9dec4b559f39",
   "metadata": {},
   "source": [
    "##### Logistic Regression"
   ]
  },
  {
   "cell_type": "code",
   "execution_count": 435,
   "id": "2053e718-505d-4a27-a718-d53ed5f6c928",
   "metadata": {},
   "outputs": [
    {
     "name": "stdout",
     "output_type": "stream",
     "text": [
      "train accuracy: 0.75\n",
      "test accuracy: 0.78\n"
     ]
    }
   ],
   "source": [
    "lreg = LogisticRegression(random_state=42)\n",
    "lreg.fit(X_train, y_train)\n",
    "lreg_ypred = lreg.predict(X_test)\n",
    "print('train accuracy: {:.2f}'.format(lreg.score(X_train,y_train)))\n",
    "print('test accuracy: {:.2f}'.format(lreg.score(X_test,y_test)))"
   ]
  },
  {
   "cell_type": "code",
   "execution_count": null,
   "id": "9c706f35-cb67-4456-af0b-3ac968c8a6aa",
   "metadata": {},
   "outputs": [],
   "source": []
  },
  {
   "cell_type": "code",
   "execution_count": 436,
   "id": "e69d13d2-8a17-45c5-8719-e617ae63082c",
   "metadata": {},
   "outputs": [],
   "source": [
    "param_grid = {'C': [0.001, 0.01, 0.1, 1, 10, 100]}"
   ]
  },
  {
   "cell_type": "code",
   "execution_count": 437,
   "id": "02430f7c-c3bd-40a4-9450-b8e3c5ba2383",
   "metadata": {},
   "outputs": [
    {
     "name": "stdout",
     "output_type": "stream",
     "text": [
      "Best cross-validation acuracy: 0.74\n",
      "Best test score: 0.74\n",
      "Best parameters: {'C': 0.1}\n"
     ]
    }
   ],
   "source": [
    "grid_lreg = GridSearchCV(lreg, param_grid, cv=5)\n",
    "grid_lreg .fit(X_train,y_train)\n",
    "print('Best cross-validation acuracy: {:.2f}'.format(grid_lreg.best_score_))\n",
    "print('Best test score: {:.2f}'.format(grid_lreg.score(X_test,y_test)))\n",
    "print('Best parameters:',grid_lreg.best_params_)"
   ]
  },
  {
   "cell_type": "code",
   "execution_count": null,
   "id": "e12d7abe-2ee7-46fe-aa93-b50ead650ce5",
   "metadata": {},
   "outputs": [],
   "source": []
  },
  {
   "cell_type": "code",
   "execution_count": 438,
   "id": "9576facd-127f-48d2-b6fa-87f22470f0b1",
   "metadata": {},
   "outputs": [
    {
     "name": "stdout",
     "output_type": "stream",
     "text": [
      "train accuracy: 0.75\n",
      "test accuracy: 0.78\n"
     ]
    }
   ],
   "source": [
    "lreg = LogisticRegression(C=1, random_state=42)\n",
    "lreg.fit(X_train, y_train)\n",
    "lreg_ypred = lreg.predict(X_test)\n",
    "print('train accuracy: {:.2f}'.format(lreg.score(X_train,y_train)))\n",
    "print('test accuracy: {:.2f}'.format(lreg.score(X_test,y_test)))"
   ]
  },
  {
   "cell_type": "code",
   "execution_count": null,
   "id": "9934de52-9005-42f6-a312-4c0763b390db",
   "metadata": {},
   "outputs": [],
   "source": []
  },
  {
   "cell_type": "markdown",
   "id": "205b101e-7ea0-4518-8f5f-268b4dc70f55",
   "metadata": {},
   "source": [
    "Tuning 2.0 Logistic Regression"
   ]
  },
  {
   "cell_type": "code",
   "execution_count": 53,
   "id": "f31fa866-2c9d-4f48-a90a-de489c866f42",
   "metadata": {},
   "outputs": [],
   "source": [
    "pipeline_lreg = Pipeline([\n",
    "    ('scaler', RobustScaler()),\n",
    "    ('logreg', LogisticRegression(random_state=42))\n",
    "])"
   ]
  },
  {
   "cell_type": "code",
   "execution_count": 57,
   "id": "cc582376-5b4d-45d5-96e4-221d81409c65",
   "metadata": {},
   "outputs": [],
   "source": [
    "param_grid_lreg = {\n",
    "    'logreg__max_iter': [100, 200, 500, 1000], \n",
    "    'logreg__penalty': ['l1', 'l2'],              \n",
    "    'logreg__solver': ['liblinear', 'saga']       \n",
    "}"
   ]
  },
  {
   "cell_type": "code",
   "execution_count": 58,
   "id": "ff84d353-a069-427c-9bd0-76138a228b9f",
   "metadata": {},
   "outputs": [],
   "source": [
    "grid_search_lreg = GridSearchCV(pipeline_lreg, param_grid_lreg, cv=5, scoring='accuracy')"
   ]
  },
  {
   "cell_type": "code",
   "execution_count": 59,
   "id": "8525f73a-8ac1-4bc6-b918-c767dacfd0d5",
   "metadata": {},
   "outputs": [
    {
     "data": {
      "text/html": [
       "<style>#sk-container-id-2 {\n",
       "  /* Definition of color scheme common for light and dark mode */\n",
       "  --sklearn-color-text: black;\n",
       "  --sklearn-color-line: gray;\n",
       "  /* Definition of color scheme for unfitted estimators */\n",
       "  --sklearn-color-unfitted-level-0: #fff5e6;\n",
       "  --sklearn-color-unfitted-level-1: #f6e4d2;\n",
       "  --sklearn-color-unfitted-level-2: #ffe0b3;\n",
       "  --sklearn-color-unfitted-level-3: chocolate;\n",
       "  /* Definition of color scheme for fitted estimators */\n",
       "  --sklearn-color-fitted-level-0: #f0f8ff;\n",
       "  --sklearn-color-fitted-level-1: #d4ebff;\n",
       "  --sklearn-color-fitted-level-2: #b3dbfd;\n",
       "  --sklearn-color-fitted-level-3: cornflowerblue;\n",
       "\n",
       "  /* Specific color for light theme */\n",
       "  --sklearn-color-text-on-default-background: var(--sg-text-color, var(--theme-code-foreground, var(--jp-content-font-color1, black)));\n",
       "  --sklearn-color-background: var(--sg-background-color, var(--theme-background, var(--jp-layout-color0, white)));\n",
       "  --sklearn-color-border-box: var(--sg-text-color, var(--theme-code-foreground, var(--jp-content-font-color1, black)));\n",
       "  --sklearn-color-icon: #696969;\n",
       "\n",
       "  @media (prefers-color-scheme: dark) {\n",
       "    /* Redefinition of color scheme for dark theme */\n",
       "    --sklearn-color-text-on-default-background: var(--sg-text-color, var(--theme-code-foreground, var(--jp-content-font-color1, white)));\n",
       "    --sklearn-color-background: var(--sg-background-color, var(--theme-background, var(--jp-layout-color0, #111)));\n",
       "    --sklearn-color-border-box: var(--sg-text-color, var(--theme-code-foreground, var(--jp-content-font-color1, white)));\n",
       "    --sklearn-color-icon: #878787;\n",
       "  }\n",
       "}\n",
       "\n",
       "#sk-container-id-2 {\n",
       "  color: var(--sklearn-color-text);\n",
       "}\n",
       "\n",
       "#sk-container-id-2 pre {\n",
       "  padding: 0;\n",
       "}\n",
       "\n",
       "#sk-container-id-2 input.sk-hidden--visually {\n",
       "  border: 0;\n",
       "  clip: rect(1px 1px 1px 1px);\n",
       "  clip: rect(1px, 1px, 1px, 1px);\n",
       "  height: 1px;\n",
       "  margin: -1px;\n",
       "  overflow: hidden;\n",
       "  padding: 0;\n",
       "  position: absolute;\n",
       "  width: 1px;\n",
       "}\n",
       "\n",
       "#sk-container-id-2 div.sk-dashed-wrapped {\n",
       "  border: 1px dashed var(--sklearn-color-line);\n",
       "  margin: 0 0.4em 0.5em 0.4em;\n",
       "  box-sizing: border-box;\n",
       "  padding-bottom: 0.4em;\n",
       "  background-color: var(--sklearn-color-background);\n",
       "}\n",
       "\n",
       "#sk-container-id-2 div.sk-container {\n",
       "  /* jupyter's `normalize.less` sets `[hidden] { display: none; }`\n",
       "     but bootstrap.min.css set `[hidden] { display: none !important; }`\n",
       "     so we also need the `!important` here to be able to override the\n",
       "     default hidden behavior on the sphinx rendered scikit-learn.org.\n",
       "     See: https://github.com/scikit-learn/scikit-learn/issues/21755 */\n",
       "  display: inline-block !important;\n",
       "  position: relative;\n",
       "}\n",
       "\n",
       "#sk-container-id-2 div.sk-text-repr-fallback {\n",
       "  display: none;\n",
       "}\n",
       "\n",
       "div.sk-parallel-item,\n",
       "div.sk-serial,\n",
       "div.sk-item {\n",
       "  /* draw centered vertical line to link estimators */\n",
       "  background-image: linear-gradient(var(--sklearn-color-text-on-default-background), var(--sklearn-color-text-on-default-background));\n",
       "  background-size: 2px 100%;\n",
       "  background-repeat: no-repeat;\n",
       "  background-position: center center;\n",
       "}\n",
       "\n",
       "/* Parallel-specific style estimator block */\n",
       "\n",
       "#sk-container-id-2 div.sk-parallel-item::after {\n",
       "  content: \"\";\n",
       "  width: 100%;\n",
       "  border-bottom: 2px solid var(--sklearn-color-text-on-default-background);\n",
       "  flex-grow: 1;\n",
       "}\n",
       "\n",
       "#sk-container-id-2 div.sk-parallel {\n",
       "  display: flex;\n",
       "  align-items: stretch;\n",
       "  justify-content: center;\n",
       "  background-color: var(--sklearn-color-background);\n",
       "  position: relative;\n",
       "}\n",
       "\n",
       "#sk-container-id-2 div.sk-parallel-item {\n",
       "  display: flex;\n",
       "  flex-direction: column;\n",
       "}\n",
       "\n",
       "#sk-container-id-2 div.sk-parallel-item:first-child::after {\n",
       "  align-self: flex-end;\n",
       "  width: 50%;\n",
       "}\n",
       "\n",
       "#sk-container-id-2 div.sk-parallel-item:last-child::after {\n",
       "  align-self: flex-start;\n",
       "  width: 50%;\n",
       "}\n",
       "\n",
       "#sk-container-id-2 div.sk-parallel-item:only-child::after {\n",
       "  width: 0;\n",
       "}\n",
       "\n",
       "/* Serial-specific style estimator block */\n",
       "\n",
       "#sk-container-id-2 div.sk-serial {\n",
       "  display: flex;\n",
       "  flex-direction: column;\n",
       "  align-items: center;\n",
       "  background-color: var(--sklearn-color-background);\n",
       "  padding-right: 1em;\n",
       "  padding-left: 1em;\n",
       "}\n",
       "\n",
       "\n",
       "/* Toggleable style: style used for estimator/Pipeline/ColumnTransformer box that is\n",
       "clickable and can be expanded/collapsed.\n",
       "- Pipeline and ColumnTransformer use this feature and define the default style\n",
       "- Estimators will overwrite some part of the style using the `sk-estimator` class\n",
       "*/\n",
       "\n",
       "/* Pipeline and ColumnTransformer style (default) */\n",
       "\n",
       "#sk-container-id-2 div.sk-toggleable {\n",
       "  /* Default theme specific background. It is overwritten whether we have a\n",
       "  specific estimator or a Pipeline/ColumnTransformer */\n",
       "  background-color: var(--sklearn-color-background);\n",
       "}\n",
       "\n",
       "/* Toggleable label */\n",
       "#sk-container-id-2 label.sk-toggleable__label {\n",
       "  cursor: pointer;\n",
       "  display: block;\n",
       "  width: 100%;\n",
       "  margin-bottom: 0;\n",
       "  padding: 0.5em;\n",
       "  box-sizing: border-box;\n",
       "  text-align: center;\n",
       "}\n",
       "\n",
       "#sk-container-id-2 label.sk-toggleable__label-arrow:before {\n",
       "  /* Arrow on the left of the label */\n",
       "  content: \"▸\";\n",
       "  float: left;\n",
       "  margin-right: 0.25em;\n",
       "  color: var(--sklearn-color-icon);\n",
       "}\n",
       "\n",
       "#sk-container-id-2 label.sk-toggleable__label-arrow:hover:before {\n",
       "  color: var(--sklearn-color-text);\n",
       "}\n",
       "\n",
       "/* Toggleable content - dropdown */\n",
       "\n",
       "#sk-container-id-2 div.sk-toggleable__content {\n",
       "  max-height: 0;\n",
       "  max-width: 0;\n",
       "  overflow: hidden;\n",
       "  text-align: left;\n",
       "  /* unfitted */\n",
       "  background-color: var(--sklearn-color-unfitted-level-0);\n",
       "}\n",
       "\n",
       "#sk-container-id-2 div.sk-toggleable__content.fitted {\n",
       "  /* fitted */\n",
       "  background-color: var(--sklearn-color-fitted-level-0);\n",
       "}\n",
       "\n",
       "#sk-container-id-2 div.sk-toggleable__content pre {\n",
       "  margin: 0.2em;\n",
       "  border-radius: 0.25em;\n",
       "  color: var(--sklearn-color-text);\n",
       "  /* unfitted */\n",
       "  background-color: var(--sklearn-color-unfitted-level-0);\n",
       "}\n",
       "\n",
       "#sk-container-id-2 div.sk-toggleable__content.fitted pre {\n",
       "  /* unfitted */\n",
       "  background-color: var(--sklearn-color-fitted-level-0);\n",
       "}\n",
       "\n",
       "#sk-container-id-2 input.sk-toggleable__control:checked~div.sk-toggleable__content {\n",
       "  /* Expand drop-down */\n",
       "  max-height: 200px;\n",
       "  max-width: 100%;\n",
       "  overflow: auto;\n",
       "}\n",
       "\n",
       "#sk-container-id-2 input.sk-toggleable__control:checked~label.sk-toggleable__label-arrow:before {\n",
       "  content: \"▾\";\n",
       "}\n",
       "\n",
       "/* Pipeline/ColumnTransformer-specific style */\n",
       "\n",
       "#sk-container-id-2 div.sk-label input.sk-toggleable__control:checked~label.sk-toggleable__label {\n",
       "  color: var(--sklearn-color-text);\n",
       "  background-color: var(--sklearn-color-unfitted-level-2);\n",
       "}\n",
       "\n",
       "#sk-container-id-2 div.sk-label.fitted input.sk-toggleable__control:checked~label.sk-toggleable__label {\n",
       "  background-color: var(--sklearn-color-fitted-level-2);\n",
       "}\n",
       "\n",
       "/* Estimator-specific style */\n",
       "\n",
       "/* Colorize estimator box */\n",
       "#sk-container-id-2 div.sk-estimator input.sk-toggleable__control:checked~label.sk-toggleable__label {\n",
       "  /* unfitted */\n",
       "  background-color: var(--sklearn-color-unfitted-level-2);\n",
       "}\n",
       "\n",
       "#sk-container-id-2 div.sk-estimator.fitted input.sk-toggleable__control:checked~label.sk-toggleable__label {\n",
       "  /* fitted */\n",
       "  background-color: var(--sklearn-color-fitted-level-2);\n",
       "}\n",
       "\n",
       "#sk-container-id-2 div.sk-label label.sk-toggleable__label,\n",
       "#sk-container-id-2 div.sk-label label {\n",
       "  /* The background is the default theme color */\n",
       "  color: var(--sklearn-color-text-on-default-background);\n",
       "}\n",
       "\n",
       "/* On hover, darken the color of the background */\n",
       "#sk-container-id-2 div.sk-label:hover label.sk-toggleable__label {\n",
       "  color: var(--sklearn-color-text);\n",
       "  background-color: var(--sklearn-color-unfitted-level-2);\n",
       "}\n",
       "\n",
       "/* Label box, darken color on hover, fitted */\n",
       "#sk-container-id-2 div.sk-label.fitted:hover label.sk-toggleable__label.fitted {\n",
       "  color: var(--sklearn-color-text);\n",
       "  background-color: var(--sklearn-color-fitted-level-2);\n",
       "}\n",
       "\n",
       "/* Estimator label */\n",
       "\n",
       "#sk-container-id-2 div.sk-label label {\n",
       "  font-family: monospace;\n",
       "  font-weight: bold;\n",
       "  display: inline-block;\n",
       "  line-height: 1.2em;\n",
       "}\n",
       "\n",
       "#sk-container-id-2 div.sk-label-container {\n",
       "  text-align: center;\n",
       "}\n",
       "\n",
       "/* Estimator-specific */\n",
       "#sk-container-id-2 div.sk-estimator {\n",
       "  font-family: monospace;\n",
       "  border: 1px dotted var(--sklearn-color-border-box);\n",
       "  border-radius: 0.25em;\n",
       "  box-sizing: border-box;\n",
       "  margin-bottom: 0.5em;\n",
       "  /* unfitted */\n",
       "  background-color: var(--sklearn-color-unfitted-level-0);\n",
       "}\n",
       "\n",
       "#sk-container-id-2 div.sk-estimator.fitted {\n",
       "  /* fitted */\n",
       "  background-color: var(--sklearn-color-fitted-level-0);\n",
       "}\n",
       "\n",
       "/* on hover */\n",
       "#sk-container-id-2 div.sk-estimator:hover {\n",
       "  /* unfitted */\n",
       "  background-color: var(--sklearn-color-unfitted-level-2);\n",
       "}\n",
       "\n",
       "#sk-container-id-2 div.sk-estimator.fitted:hover {\n",
       "  /* fitted */\n",
       "  background-color: var(--sklearn-color-fitted-level-2);\n",
       "}\n",
       "\n",
       "/* Specification for estimator info (e.g. \"i\" and \"?\") */\n",
       "\n",
       "/* Common style for \"i\" and \"?\" */\n",
       "\n",
       ".sk-estimator-doc-link,\n",
       "a:link.sk-estimator-doc-link,\n",
       "a:visited.sk-estimator-doc-link {\n",
       "  float: right;\n",
       "  font-size: smaller;\n",
       "  line-height: 1em;\n",
       "  font-family: monospace;\n",
       "  background-color: var(--sklearn-color-background);\n",
       "  border-radius: 1em;\n",
       "  height: 1em;\n",
       "  width: 1em;\n",
       "  text-decoration: none !important;\n",
       "  margin-left: 1ex;\n",
       "  /* unfitted */\n",
       "  border: var(--sklearn-color-unfitted-level-1) 1pt solid;\n",
       "  color: var(--sklearn-color-unfitted-level-1);\n",
       "}\n",
       "\n",
       ".sk-estimator-doc-link.fitted,\n",
       "a:link.sk-estimator-doc-link.fitted,\n",
       "a:visited.sk-estimator-doc-link.fitted {\n",
       "  /* fitted */\n",
       "  border: var(--sklearn-color-fitted-level-1) 1pt solid;\n",
       "  color: var(--sklearn-color-fitted-level-1);\n",
       "}\n",
       "\n",
       "/* On hover */\n",
       "div.sk-estimator:hover .sk-estimator-doc-link:hover,\n",
       ".sk-estimator-doc-link:hover,\n",
       "div.sk-label-container:hover .sk-estimator-doc-link:hover,\n",
       ".sk-estimator-doc-link:hover {\n",
       "  /* unfitted */\n",
       "  background-color: var(--sklearn-color-unfitted-level-3);\n",
       "  color: var(--sklearn-color-background);\n",
       "  text-decoration: none;\n",
       "}\n",
       "\n",
       "div.sk-estimator.fitted:hover .sk-estimator-doc-link.fitted:hover,\n",
       ".sk-estimator-doc-link.fitted:hover,\n",
       "div.sk-label-container:hover .sk-estimator-doc-link.fitted:hover,\n",
       ".sk-estimator-doc-link.fitted:hover {\n",
       "  /* fitted */\n",
       "  background-color: var(--sklearn-color-fitted-level-3);\n",
       "  color: var(--sklearn-color-background);\n",
       "  text-decoration: none;\n",
       "}\n",
       "\n",
       "/* Span, style for the box shown on hovering the info icon */\n",
       ".sk-estimator-doc-link span {\n",
       "  display: none;\n",
       "  z-index: 9999;\n",
       "  position: relative;\n",
       "  font-weight: normal;\n",
       "  right: .2ex;\n",
       "  padding: .5ex;\n",
       "  margin: .5ex;\n",
       "  width: min-content;\n",
       "  min-width: 20ex;\n",
       "  max-width: 50ex;\n",
       "  color: var(--sklearn-color-text);\n",
       "  box-shadow: 2pt 2pt 4pt #999;\n",
       "  /* unfitted */\n",
       "  background: var(--sklearn-color-unfitted-level-0);\n",
       "  border: .5pt solid var(--sklearn-color-unfitted-level-3);\n",
       "}\n",
       "\n",
       ".sk-estimator-doc-link.fitted span {\n",
       "  /* fitted */\n",
       "  background: var(--sklearn-color-fitted-level-0);\n",
       "  border: var(--sklearn-color-fitted-level-3);\n",
       "}\n",
       "\n",
       ".sk-estimator-doc-link:hover span {\n",
       "  display: block;\n",
       "}\n",
       "\n",
       "/* \"?\"-specific style due to the `<a>` HTML tag */\n",
       "\n",
       "#sk-container-id-2 a.estimator_doc_link {\n",
       "  float: right;\n",
       "  font-size: 1rem;\n",
       "  line-height: 1em;\n",
       "  font-family: monospace;\n",
       "  background-color: var(--sklearn-color-background);\n",
       "  border-radius: 1rem;\n",
       "  height: 1rem;\n",
       "  width: 1rem;\n",
       "  text-decoration: none;\n",
       "  /* unfitted */\n",
       "  color: var(--sklearn-color-unfitted-level-1);\n",
       "  border: var(--sklearn-color-unfitted-level-1) 1pt solid;\n",
       "}\n",
       "\n",
       "#sk-container-id-2 a.estimator_doc_link.fitted {\n",
       "  /* fitted */\n",
       "  border: var(--sklearn-color-fitted-level-1) 1pt solid;\n",
       "  color: var(--sklearn-color-fitted-level-1);\n",
       "}\n",
       "\n",
       "/* On hover */\n",
       "#sk-container-id-2 a.estimator_doc_link:hover {\n",
       "  /* unfitted */\n",
       "  background-color: var(--sklearn-color-unfitted-level-3);\n",
       "  color: var(--sklearn-color-background);\n",
       "  text-decoration: none;\n",
       "}\n",
       "\n",
       "#sk-container-id-2 a.estimator_doc_link.fitted:hover {\n",
       "  /* fitted */\n",
       "  background-color: var(--sklearn-color-fitted-level-3);\n",
       "}\n",
       "</style><div id=\"sk-container-id-2\" class=\"sk-top-container\"><div class=\"sk-text-repr-fallback\"><pre>GridSearchCV(cv=5,\n",
       "             estimator=Pipeline(steps=[(&#x27;scaler&#x27;, RobustScaler()),\n",
       "                                       (&#x27;logreg&#x27;,\n",
       "                                        LogisticRegression(random_state=42))]),\n",
       "             param_grid={&#x27;logreg__max_iter&#x27;: [100, 200, 500, 1000],\n",
       "                         &#x27;logreg__penalty&#x27;: [&#x27;l1&#x27;, &#x27;l2&#x27;],\n",
       "                         &#x27;logreg__solver&#x27;: [&#x27;liblinear&#x27;, &#x27;saga&#x27;]},\n",
       "             scoring=&#x27;accuracy&#x27;)</pre><b>In a Jupyter environment, please rerun this cell to show the HTML representation or trust the notebook. <br />On GitHub, the HTML representation is unable to render, please try loading this page with nbviewer.org.</b></div><div class=\"sk-container\" hidden><div class=\"sk-item sk-dashed-wrapped\"><div class=\"sk-label-container\"><div class=\"sk-label fitted sk-toggleable\"><input class=\"sk-toggleable__control sk-hidden--visually\" id=\"sk-estimator-id-5\" type=\"checkbox\" ><label for=\"sk-estimator-id-5\" class=\"sk-toggleable__label fitted sk-toggleable__label-arrow fitted\">&nbsp;&nbsp;GridSearchCV<a class=\"sk-estimator-doc-link fitted\" rel=\"noreferrer\" target=\"_blank\" href=\"https://scikit-learn.org/1.4/modules/generated/sklearn.model_selection.GridSearchCV.html\">?<span>Documentation for GridSearchCV</span></a><span class=\"sk-estimator-doc-link fitted\">i<span>Fitted</span></span></label><div class=\"sk-toggleable__content fitted\"><pre>GridSearchCV(cv=5,\n",
       "             estimator=Pipeline(steps=[(&#x27;scaler&#x27;, RobustScaler()),\n",
       "                                       (&#x27;logreg&#x27;,\n",
       "                                        LogisticRegression(random_state=42))]),\n",
       "             param_grid={&#x27;logreg__max_iter&#x27;: [100, 200, 500, 1000],\n",
       "                         &#x27;logreg__penalty&#x27;: [&#x27;l1&#x27;, &#x27;l2&#x27;],\n",
       "                         &#x27;logreg__solver&#x27;: [&#x27;liblinear&#x27;, &#x27;saga&#x27;]},\n",
       "             scoring=&#x27;accuracy&#x27;)</pre></div> </div></div><div class=\"sk-parallel\"><div class=\"sk-parallel-item\"><div class=\"sk-item\"><div class=\"sk-label-container\"><div class=\"sk-label fitted sk-toggleable\"><input class=\"sk-toggleable__control sk-hidden--visually\" id=\"sk-estimator-id-6\" type=\"checkbox\" ><label for=\"sk-estimator-id-6\" class=\"sk-toggleable__label fitted sk-toggleable__label-arrow fitted\">estimator: Pipeline</label><div class=\"sk-toggleable__content fitted\"><pre>Pipeline(steps=[(&#x27;scaler&#x27;, RobustScaler()),\n",
       "                (&#x27;logreg&#x27;, LogisticRegression(random_state=42))])</pre></div> </div></div><div class=\"sk-serial\"><div class=\"sk-item\"><div class=\"sk-serial\"><div class=\"sk-item\"><div class=\"sk-estimator fitted sk-toggleable\"><input class=\"sk-toggleable__control sk-hidden--visually\" id=\"sk-estimator-id-7\" type=\"checkbox\" ><label for=\"sk-estimator-id-7\" class=\"sk-toggleable__label fitted sk-toggleable__label-arrow fitted\">&nbsp;RobustScaler<a class=\"sk-estimator-doc-link fitted\" rel=\"noreferrer\" target=\"_blank\" href=\"https://scikit-learn.org/1.4/modules/generated/sklearn.preprocessing.RobustScaler.html\">?<span>Documentation for RobustScaler</span></a></label><div class=\"sk-toggleable__content fitted\"><pre>RobustScaler()</pre></div> </div></div><div class=\"sk-item\"><div class=\"sk-estimator fitted sk-toggleable\"><input class=\"sk-toggleable__control sk-hidden--visually\" id=\"sk-estimator-id-8\" type=\"checkbox\" ><label for=\"sk-estimator-id-8\" class=\"sk-toggleable__label fitted sk-toggleable__label-arrow fitted\">&nbsp;LogisticRegression<a class=\"sk-estimator-doc-link fitted\" rel=\"noreferrer\" target=\"_blank\" href=\"https://scikit-learn.org/1.4/modules/generated/sklearn.linear_model.LogisticRegression.html\">?<span>Documentation for LogisticRegression</span></a></label><div class=\"sk-toggleable__content fitted\"><pre>LogisticRegression(random_state=42)</pre></div> </div></div></div></div></div></div></div></div></div></div></div>"
      ],
      "text/plain": [
       "GridSearchCV(cv=5,\n",
       "             estimator=Pipeline(steps=[('scaler', RobustScaler()),\n",
       "                                       ('logreg',\n",
       "                                        LogisticRegression(random_state=42))]),\n",
       "             param_grid={'logreg__max_iter': [100, 200, 500, 1000],\n",
       "                         'logreg__penalty': ['l1', 'l2'],\n",
       "                         'logreg__solver': ['liblinear', 'saga']},\n",
       "             scoring='accuracy')"
      ]
     },
     "execution_count": 59,
     "metadata": {},
     "output_type": "execute_result"
    }
   ],
   "source": [
    "grid_search_lreg.fit(X_train, y_train)"
   ]
  },
  {
   "cell_type": "code",
   "execution_count": 60,
   "id": "1397cfee-fee1-4b06-8d77-e9d26cf89543",
   "metadata": {},
   "outputs": [
    {
     "name": "stdout",
     "output_type": "stream",
     "text": [
      "Best parameters: {'logreg__max_iter': 100, 'logreg__penalty': 'l1', 'logreg__solver': 'liblinear'}\n"
     ]
    }
   ],
   "source": [
    "print('Best parameters:', grid_search_lreg.best_params_)"
   ]
  },
  {
   "cell_type": "code",
   "execution_count": 63,
   "id": "e5aa52fb-e0cf-4c91-baf7-e7b92dc15f7a",
   "metadata": {},
   "outputs": [],
   "source": [
    "lreg_ypred = grid_search_lreg.predict(X_test)"
   ]
  },
  {
   "cell_type": "code",
   "execution_count": 64,
   "id": "644e8462-095e-4496-8f68-1b44c26f7557",
   "metadata": {},
   "outputs": [
    {
     "name": "stdout",
     "output_type": "stream",
     "text": [
      "Train accuracy: 0.76\n",
      "Test accuracy: 0.74\n"
     ]
    }
   ],
   "source": [
    "print('Train accuracy: {:.2f}'.format(grid_search_lreg.score(X_train, y_train)))\n",
    "print('Test accuracy: {:.2f}'.format(grid_search_lreg.score(X_test, y_test)))"
   ]
  },
  {
   "cell_type": "code",
   "execution_count": null,
   "id": "136ac53e-f3f2-4b59-935d-b8d59d1129ca",
   "metadata": {},
   "outputs": [],
   "source": []
  },
  {
   "cell_type": "code",
   "execution_count": 66,
   "id": "1bc2d0d5-060a-4d71-b8bb-78eb77a3a942",
   "metadata": {},
   "outputs": [
    {
     "name": "stdout",
     "output_type": "stream",
     "text": [
      "train accuracy: 0.77\n",
      "test accuracy: 0.75\n"
     ]
    }
   ],
   "source": [
    "lreg02 = LogisticRegression(C=1, max_iter=100, penalty='l1', solver='liblinear', random_state=42)\n",
    "lreg02.fit(X_train, y_train)\n",
    "lreg_ypred02 = lreg02.predict(X_test)\n",
    "print('train accuracy: {:.2f}'.format(lreg02.score(X_train,y_train)))\n",
    "print('test accuracy: {:.2f}'.format(lreg02.score(X_test,y_test)))"
   ]
  },
  {
   "cell_type": "code",
   "execution_count": null,
   "id": "a71a5590-6f48-4954-a768-c88d94efaab5",
   "metadata": {},
   "outputs": [],
   "source": []
  },
  {
   "cell_type": "code",
   "execution_count": null,
   "id": "cea19c82-ae71-4b89-a828-cc0942b51822",
   "metadata": {},
   "outputs": [],
   "source": []
  },
  {
   "cell_type": "code",
   "execution_count": null,
   "id": "8641d304-4dc0-44fd-ab18-970a723aa744",
   "metadata": {},
   "outputs": [],
   "source": []
  },
  {
   "cell_type": "code",
   "execution_count": null,
   "id": "b1089655-a442-4841-b0da-f0112813fefc",
   "metadata": {},
   "outputs": [],
   "source": []
  },
  {
   "cell_type": "markdown",
   "id": "97b938ef-a41a-4d36-b1d2-c4c38817e9c2",
   "metadata": {},
   "source": [
    "##### SVC"
   ]
  },
  {
   "cell_type": "code",
   "execution_count": 439,
   "id": "63631abb-0a1d-443a-acb7-116971216feb",
   "metadata": {},
   "outputs": [
    {
     "name": "stdout",
     "output_type": "stream",
     "text": [
      "train accuracy: 0.73\n",
      "test accuracy: 0.73\n"
     ]
    }
   ],
   "source": [
    "SVC_model = SVC()\n",
    "SVC_model.fit(X_train, y_train)\n",
    "SVC_model_ypred = SVC_model.predict(X_test)\n",
    "print('train accuracy: {:.2f}'.format(SVC_model.score(X_train,y_train)))\n",
    "print('test accuracy: {:.2f}'.format(SVC_model.score(X_test,y_test)))"
   ]
  },
  {
   "cell_type": "code",
   "execution_count": 440,
   "id": "1655ee65-ef4f-4370-8b9a-fc3228a5ed4a",
   "metadata": {},
   "outputs": [
    {
     "name": "stdout",
     "output_type": "stream",
     "text": [
      "train score: 0.78\n",
      "test score: 0.74\n",
      "Best parameters: {'svc__C': 100, 'svc__gamma': 'scale', 'svc__kernel': 'linear'}\n"
     ]
    }
   ],
   "source": [
    "pipeline = Pipeline([\n",
    "    ('scaler', RobustScaler()),\n",
    "    ('svc', SVC())\n",
    "])\n",
    "\n",
    "param_grid = {\n",
    "    'svc__C': [0.01, 0.1, 1, 10, 100],\n",
    "    'svc__kernel': ['linear', 'rbf'],\n",
    "    'svc__gamma': ['scale', 'auto']\n",
    "}\n",
    "\n",
    "SVC_grid = GridSearchCV(pipeline, param_grid, cv=5)\n",
    "SVC_grid = SVC_grid.fit(X_train,y_train)\n",
    "\n",
    "print('train score: {:.2f}'.format(SVC_grid.score(X_train,y_train)))\n",
    "print('test score: {:.2f}'.format(SVC_grid.score(X_test,y_test)))\n",
    "print('Best parameters:',SVC_grid.best_params_)"
   ]
  },
  {
   "cell_type": "code",
   "execution_count": null,
   "id": "ed49f8d6-21cf-4ce2-a94b-f79a519d5316",
   "metadata": {},
   "outputs": [],
   "source": []
  },
  {
   "cell_type": "code",
   "execution_count": 80,
   "id": "2da8fd8d-1624-49f6-b7c2-a5563ee4de61",
   "metadata": {},
   "outputs": [
    {
     "name": "stdout",
     "output_type": "stream",
     "text": [
      "train accuracy: 0.77\n",
      "test accuracy: 0.74\n"
     ]
    }
   ],
   "source": [
    "SVC_model = SVC(probability=True,C=1, gamma='scale', kernel='linear') # probabilty is needed for ROC-AUC\n",
    "SVC_model.fit(X_train, y_train)\n",
    "SVC_model_ypred = SVC_model.predict(X_test)\n",
    "print('train accuracy: {:.2f}'.format(SVC_model.score(X_train,y_train)))\n",
    "print('test accuracy: {:.2f}'.format(SVC_model.score(X_test,y_test)))"
   ]
  },
  {
   "cell_type": "code",
   "execution_count": null,
   "id": "d6abf4c8-0b07-4ef3-af90-0c365c0d4fe8",
   "metadata": {},
   "outputs": [],
   "source": []
  },
  {
   "cell_type": "markdown",
   "id": "9a628189-d0b9-452c-8d15-c28028ae04ba",
   "metadata": {},
   "source": [
    "##### Random Forest"
   ]
  },
  {
   "cell_type": "code",
   "execution_count": 442,
   "id": "887fc609-cc07-4037-bbf6-d68bae0e4047",
   "metadata": {},
   "outputs": [
    {
     "name": "stdout",
     "output_type": "stream",
     "text": [
      "train score: 1.00\n",
      "test score: 0.76\n"
     ]
    }
   ],
   "source": [
    "rfc = RandomForestClassifier(random_state = 42)\n",
    "rfc.fit(X_train,y_train)\n",
    "print('train score: {:.2f}'.format(rfc.score(X_train,y_train)))\n",
    "print('test score: {:.2f}'.format(rfc.score(X_test,y_test)))"
   ]
  },
  {
   "cell_type": "code",
   "execution_count": 443,
   "id": "e3e50987-2471-4dbd-88e9-c3758374283f",
   "metadata": {},
   "outputs": [
    {
     "name": "stdout",
     "output_type": "stream",
     "text": [
      "Best cross-validation acuracy: 0.76\n",
      "Best test score: 0.77\n",
      "Best parameters: {'max_features': 5, 'max_leaf_nodes': 10}\n"
     ]
    }
   ],
   "source": [
    "rfc = RandomForestClassifier(random_state = 42)\n",
    "\n",
    "param_grid = {\n",
    "    'max_features': [3,5,7,10],\n",
    "    'max_leaf_nodes':[3,5,7,10]\n",
    "}\n",
    "\n",
    "grid_rfc = GridSearchCV(rfc, param_grid = param_grid,cv =5)\n",
    "grid_rfc.fit(X_train,y_train)\n",
    "\n",
    "print('Best cross-validation acuracy: {:.2f}'.format(grid_rfc.best_score_))\n",
    "print('Best test score: {:.2f}'.format(grid_rfc.score(X_test,y_test)))\n",
    "print('Best parameters:',grid_rfc.best_params_)\n"
   ]
  },
  {
   "cell_type": "code",
   "execution_count": 494,
   "id": "51a4c5ae-0160-4437-aa8e-4f47dcdbb33e",
   "metadata": {},
   "outputs": [
    {
     "name": "stdout",
     "output_type": "stream",
     "text": [
      "train score: 0.79\n",
      "test score: 0.78\n"
     ]
    }
   ],
   "source": [
    "rfc = RandomForestClassifier(max_features=10,max_leaf_nodes=5,random_state = 42)\n",
    "rfc.fit(X_train,y_train)\n",
    "print('train score: {:.2f}'.format(rfc.score(X_train,y_train)))\n",
    "print('test score: {:.2f}'.format(rfc.score(X_test,y_test)))\n",
    "rfc_ypred = rfc.predict(X_test)"
   ]
  },
  {
   "cell_type": "markdown",
   "id": "0b42015e-e371-4a4d-b7f3-283afaf3152f",
   "metadata": {},
   "source": [
    "*Note: As expected RandomForest generalizes the best among these models, Logistic regression also has similar result, but decided to further tune the random forest and combine them with stacking method.*"
   ]
  },
  {
   "cell_type": "code",
   "execution_count": null,
   "id": "a646522a-7a91-4451-90ac-08e674d863ce",
   "metadata": {},
   "outputs": [],
   "source": []
  },
  {
   "cell_type": "markdown",
   "id": "889e77c1-823e-458c-89a6-e8c77331fa32",
   "metadata": {},
   "source": [
    "Tuning 2.0 Random Forest"
   ]
  },
  {
   "cell_type": "code",
   "execution_count": 510,
   "id": "1db58e45-5767-43b4-9c96-71d00d19e801",
   "metadata": {},
   "outputs": [],
   "source": [
    "param_grid02 = {\n",
    "    'n_estimators': [100, 200, 300, 500],\n",
    "    'max_depth': [None, 10, 20, 30],\n",
    "    'min_samples_split': [2, 5, 10],\n",
    "    'min_samples_leaf': [1, 2, 4]\n",
    "}"
   ]
  },
  {
   "cell_type": "code",
   "execution_count": 511,
   "id": "476539e0-c1c1-46c9-8c43-4dd54ef07cd3",
   "metadata": {},
   "outputs": [
    {
     "name": "stdout",
     "output_type": "stream",
     "text": [
      "Best cross-validation acuracy: 0.75\n",
      "Best test score: 0.77\n",
      "Best parameters: {'max_depth': None, 'min_samples_leaf': 4, 'min_samples_split': 2, 'n_estimators': 100}\n"
     ]
    }
   ],
   "source": [
    "grid_rfc02 = GridSearchCV(rfc, param_grid = param_grid02,cv =5)\n",
    "grid_rfc02.fit(X_train,y_train)\n",
    "\n",
    "print('Best cross-validation acuracy: {:.2f}'.format(grid_rfc02.best_score_))\n",
    "print('Best test score: {:.2f}'.format(grid_rfc.score(X_test,y_test)))\n",
    "print('Best parameters:',grid_rfc02.best_params_)"
   ]
  },
  {
   "cell_type": "code",
   "execution_count": 44,
   "id": "83a44282-e309-4304-b170-703856aed328",
   "metadata": {},
   "outputs": [
    {
     "name": "stdout",
     "output_type": "stream",
     "text": [
      "train score: 0.79\n",
      "test score: 0.78\n"
     ]
    }
   ],
   "source": [
    "rfc02 = RandomForestClassifier(n_estimators=100, max_depth=None, min_samples_leaf=4, min_samples_split=2, max_features=10,max_leaf_nodes=5,random_state=42)\n",
    "rfc02.fit(X_train,y_train)\n",
    "print('train score: {:.2f}'.format(rfc02.score(X_train,y_train)))\n",
    "print('test score: {:.2f}'.format(rfc02.score(X_test,y_test)))\n",
    "rfc_ypred02 = rfc02.predict(X_test)"
   ]
  },
  {
   "cell_type": "markdown",
   "id": "a0086a80-1110-4c92-a880-79a7a15c2a4d",
   "metadata": {},
   "source": [
    "*No model improvement due to further hyperparameter tuning.*"
   ]
  },
  {
   "cell_type": "code",
   "execution_count": null,
   "id": "a7ce3738-12d4-4a1e-a045-f0a125f3ed82",
   "metadata": {},
   "outputs": [],
   "source": []
  },
  {
   "cell_type": "markdown",
   "id": "60df1e75-8969-4326-909b-17c3778eff8f",
   "metadata": {},
   "source": [
    "Stacking"
   ]
  },
  {
   "cell_type": "code",
   "execution_count": 68,
   "id": "e5064590-9fc3-484e-91e2-23065f2ee18e",
   "metadata": {},
   "outputs": [],
   "source": [
    "base_models = [\n",
    "    ('rf', RandomForestClassifier(n_estimators=100, max_depth=None, min_samples_leaf=4, min_samples_split=2, max_features=10,max_leaf_nodes=5,random_state=42)),\n",
    "    ('lr', LogisticRegression(C=1, max_iter=100, penalty='l1', solver='liblinear', random_state=42))\n",
    "]"
   ]
  },
  {
   "cell_type": "code",
   "execution_count": 69,
   "id": "d219b550-1525-4402-9872-64262c7cfcb5",
   "metadata": {},
   "outputs": [],
   "source": [
    "meta_model = RandomForestClassifier(n_estimators=100, max_depth=None, min_samples_leaf=4, min_samples_split=2, max_features=10,max_leaf_nodes=5,random_state=42)"
   ]
  },
  {
   "cell_type": "code",
   "execution_count": 70,
   "id": "3693eb12-a5c8-44dd-bc0d-b425a9546879",
   "metadata": {},
   "outputs": [],
   "source": [
    "stacking_model = StackingClassifier(\n",
    "    estimators=base_models,\n",
    "    final_estimator=meta_model,\n",
    "    cv=5  \n",
    ")"
   ]
  },
  {
   "cell_type": "code",
   "execution_count": 71,
   "id": "a99f719b-e8ec-43b3-951d-18220aa80185",
   "metadata": {},
   "outputs": [
    {
     "data": {
      "text/html": [
       "<style>#sk-container-id-3 {\n",
       "  /* Definition of color scheme common for light and dark mode */\n",
       "  --sklearn-color-text: black;\n",
       "  --sklearn-color-line: gray;\n",
       "  /* Definition of color scheme for unfitted estimators */\n",
       "  --sklearn-color-unfitted-level-0: #fff5e6;\n",
       "  --sklearn-color-unfitted-level-1: #f6e4d2;\n",
       "  --sklearn-color-unfitted-level-2: #ffe0b3;\n",
       "  --sklearn-color-unfitted-level-3: chocolate;\n",
       "  /* Definition of color scheme for fitted estimators */\n",
       "  --sklearn-color-fitted-level-0: #f0f8ff;\n",
       "  --sklearn-color-fitted-level-1: #d4ebff;\n",
       "  --sklearn-color-fitted-level-2: #b3dbfd;\n",
       "  --sklearn-color-fitted-level-3: cornflowerblue;\n",
       "\n",
       "  /* Specific color for light theme */\n",
       "  --sklearn-color-text-on-default-background: var(--sg-text-color, var(--theme-code-foreground, var(--jp-content-font-color1, black)));\n",
       "  --sklearn-color-background: var(--sg-background-color, var(--theme-background, var(--jp-layout-color0, white)));\n",
       "  --sklearn-color-border-box: var(--sg-text-color, var(--theme-code-foreground, var(--jp-content-font-color1, black)));\n",
       "  --sklearn-color-icon: #696969;\n",
       "\n",
       "  @media (prefers-color-scheme: dark) {\n",
       "    /* Redefinition of color scheme for dark theme */\n",
       "    --sklearn-color-text-on-default-background: var(--sg-text-color, var(--theme-code-foreground, var(--jp-content-font-color1, white)));\n",
       "    --sklearn-color-background: var(--sg-background-color, var(--theme-background, var(--jp-layout-color0, #111)));\n",
       "    --sklearn-color-border-box: var(--sg-text-color, var(--theme-code-foreground, var(--jp-content-font-color1, white)));\n",
       "    --sklearn-color-icon: #878787;\n",
       "  }\n",
       "}\n",
       "\n",
       "#sk-container-id-3 {\n",
       "  color: var(--sklearn-color-text);\n",
       "}\n",
       "\n",
       "#sk-container-id-3 pre {\n",
       "  padding: 0;\n",
       "}\n",
       "\n",
       "#sk-container-id-3 input.sk-hidden--visually {\n",
       "  border: 0;\n",
       "  clip: rect(1px 1px 1px 1px);\n",
       "  clip: rect(1px, 1px, 1px, 1px);\n",
       "  height: 1px;\n",
       "  margin: -1px;\n",
       "  overflow: hidden;\n",
       "  padding: 0;\n",
       "  position: absolute;\n",
       "  width: 1px;\n",
       "}\n",
       "\n",
       "#sk-container-id-3 div.sk-dashed-wrapped {\n",
       "  border: 1px dashed var(--sklearn-color-line);\n",
       "  margin: 0 0.4em 0.5em 0.4em;\n",
       "  box-sizing: border-box;\n",
       "  padding-bottom: 0.4em;\n",
       "  background-color: var(--sklearn-color-background);\n",
       "}\n",
       "\n",
       "#sk-container-id-3 div.sk-container {\n",
       "  /* jupyter's `normalize.less` sets `[hidden] { display: none; }`\n",
       "     but bootstrap.min.css set `[hidden] { display: none !important; }`\n",
       "     so we also need the `!important` here to be able to override the\n",
       "     default hidden behavior on the sphinx rendered scikit-learn.org.\n",
       "     See: https://github.com/scikit-learn/scikit-learn/issues/21755 */\n",
       "  display: inline-block !important;\n",
       "  position: relative;\n",
       "}\n",
       "\n",
       "#sk-container-id-3 div.sk-text-repr-fallback {\n",
       "  display: none;\n",
       "}\n",
       "\n",
       "div.sk-parallel-item,\n",
       "div.sk-serial,\n",
       "div.sk-item {\n",
       "  /* draw centered vertical line to link estimators */\n",
       "  background-image: linear-gradient(var(--sklearn-color-text-on-default-background), var(--sklearn-color-text-on-default-background));\n",
       "  background-size: 2px 100%;\n",
       "  background-repeat: no-repeat;\n",
       "  background-position: center center;\n",
       "}\n",
       "\n",
       "/* Parallel-specific style estimator block */\n",
       "\n",
       "#sk-container-id-3 div.sk-parallel-item::after {\n",
       "  content: \"\";\n",
       "  width: 100%;\n",
       "  border-bottom: 2px solid var(--sklearn-color-text-on-default-background);\n",
       "  flex-grow: 1;\n",
       "}\n",
       "\n",
       "#sk-container-id-3 div.sk-parallel {\n",
       "  display: flex;\n",
       "  align-items: stretch;\n",
       "  justify-content: center;\n",
       "  background-color: var(--sklearn-color-background);\n",
       "  position: relative;\n",
       "}\n",
       "\n",
       "#sk-container-id-3 div.sk-parallel-item {\n",
       "  display: flex;\n",
       "  flex-direction: column;\n",
       "}\n",
       "\n",
       "#sk-container-id-3 div.sk-parallel-item:first-child::after {\n",
       "  align-self: flex-end;\n",
       "  width: 50%;\n",
       "}\n",
       "\n",
       "#sk-container-id-3 div.sk-parallel-item:last-child::after {\n",
       "  align-self: flex-start;\n",
       "  width: 50%;\n",
       "}\n",
       "\n",
       "#sk-container-id-3 div.sk-parallel-item:only-child::after {\n",
       "  width: 0;\n",
       "}\n",
       "\n",
       "/* Serial-specific style estimator block */\n",
       "\n",
       "#sk-container-id-3 div.sk-serial {\n",
       "  display: flex;\n",
       "  flex-direction: column;\n",
       "  align-items: center;\n",
       "  background-color: var(--sklearn-color-background);\n",
       "  padding-right: 1em;\n",
       "  padding-left: 1em;\n",
       "}\n",
       "\n",
       "\n",
       "/* Toggleable style: style used for estimator/Pipeline/ColumnTransformer box that is\n",
       "clickable and can be expanded/collapsed.\n",
       "- Pipeline and ColumnTransformer use this feature and define the default style\n",
       "- Estimators will overwrite some part of the style using the `sk-estimator` class\n",
       "*/\n",
       "\n",
       "/* Pipeline and ColumnTransformer style (default) */\n",
       "\n",
       "#sk-container-id-3 div.sk-toggleable {\n",
       "  /* Default theme specific background. It is overwritten whether we have a\n",
       "  specific estimator or a Pipeline/ColumnTransformer */\n",
       "  background-color: var(--sklearn-color-background);\n",
       "}\n",
       "\n",
       "/* Toggleable label */\n",
       "#sk-container-id-3 label.sk-toggleable__label {\n",
       "  cursor: pointer;\n",
       "  display: block;\n",
       "  width: 100%;\n",
       "  margin-bottom: 0;\n",
       "  padding: 0.5em;\n",
       "  box-sizing: border-box;\n",
       "  text-align: center;\n",
       "}\n",
       "\n",
       "#sk-container-id-3 label.sk-toggleable__label-arrow:before {\n",
       "  /* Arrow on the left of the label */\n",
       "  content: \"▸\";\n",
       "  float: left;\n",
       "  margin-right: 0.25em;\n",
       "  color: var(--sklearn-color-icon);\n",
       "}\n",
       "\n",
       "#sk-container-id-3 label.sk-toggleable__label-arrow:hover:before {\n",
       "  color: var(--sklearn-color-text);\n",
       "}\n",
       "\n",
       "/* Toggleable content - dropdown */\n",
       "\n",
       "#sk-container-id-3 div.sk-toggleable__content {\n",
       "  max-height: 0;\n",
       "  max-width: 0;\n",
       "  overflow: hidden;\n",
       "  text-align: left;\n",
       "  /* unfitted */\n",
       "  background-color: var(--sklearn-color-unfitted-level-0);\n",
       "}\n",
       "\n",
       "#sk-container-id-3 div.sk-toggleable__content.fitted {\n",
       "  /* fitted */\n",
       "  background-color: var(--sklearn-color-fitted-level-0);\n",
       "}\n",
       "\n",
       "#sk-container-id-3 div.sk-toggleable__content pre {\n",
       "  margin: 0.2em;\n",
       "  border-radius: 0.25em;\n",
       "  color: var(--sklearn-color-text);\n",
       "  /* unfitted */\n",
       "  background-color: var(--sklearn-color-unfitted-level-0);\n",
       "}\n",
       "\n",
       "#sk-container-id-3 div.sk-toggleable__content.fitted pre {\n",
       "  /* unfitted */\n",
       "  background-color: var(--sklearn-color-fitted-level-0);\n",
       "}\n",
       "\n",
       "#sk-container-id-3 input.sk-toggleable__control:checked~div.sk-toggleable__content {\n",
       "  /* Expand drop-down */\n",
       "  max-height: 200px;\n",
       "  max-width: 100%;\n",
       "  overflow: auto;\n",
       "}\n",
       "\n",
       "#sk-container-id-3 input.sk-toggleable__control:checked~label.sk-toggleable__label-arrow:before {\n",
       "  content: \"▾\";\n",
       "}\n",
       "\n",
       "/* Pipeline/ColumnTransformer-specific style */\n",
       "\n",
       "#sk-container-id-3 div.sk-label input.sk-toggleable__control:checked~label.sk-toggleable__label {\n",
       "  color: var(--sklearn-color-text);\n",
       "  background-color: var(--sklearn-color-unfitted-level-2);\n",
       "}\n",
       "\n",
       "#sk-container-id-3 div.sk-label.fitted input.sk-toggleable__control:checked~label.sk-toggleable__label {\n",
       "  background-color: var(--sklearn-color-fitted-level-2);\n",
       "}\n",
       "\n",
       "/* Estimator-specific style */\n",
       "\n",
       "/* Colorize estimator box */\n",
       "#sk-container-id-3 div.sk-estimator input.sk-toggleable__control:checked~label.sk-toggleable__label {\n",
       "  /* unfitted */\n",
       "  background-color: var(--sklearn-color-unfitted-level-2);\n",
       "}\n",
       "\n",
       "#sk-container-id-3 div.sk-estimator.fitted input.sk-toggleable__control:checked~label.sk-toggleable__label {\n",
       "  /* fitted */\n",
       "  background-color: var(--sklearn-color-fitted-level-2);\n",
       "}\n",
       "\n",
       "#sk-container-id-3 div.sk-label label.sk-toggleable__label,\n",
       "#sk-container-id-3 div.sk-label label {\n",
       "  /* The background is the default theme color */\n",
       "  color: var(--sklearn-color-text-on-default-background);\n",
       "}\n",
       "\n",
       "/* On hover, darken the color of the background */\n",
       "#sk-container-id-3 div.sk-label:hover label.sk-toggleable__label {\n",
       "  color: var(--sklearn-color-text);\n",
       "  background-color: var(--sklearn-color-unfitted-level-2);\n",
       "}\n",
       "\n",
       "/* Label box, darken color on hover, fitted */\n",
       "#sk-container-id-3 div.sk-label.fitted:hover label.sk-toggleable__label.fitted {\n",
       "  color: var(--sklearn-color-text);\n",
       "  background-color: var(--sklearn-color-fitted-level-2);\n",
       "}\n",
       "\n",
       "/* Estimator label */\n",
       "\n",
       "#sk-container-id-3 div.sk-label label {\n",
       "  font-family: monospace;\n",
       "  font-weight: bold;\n",
       "  display: inline-block;\n",
       "  line-height: 1.2em;\n",
       "}\n",
       "\n",
       "#sk-container-id-3 div.sk-label-container {\n",
       "  text-align: center;\n",
       "}\n",
       "\n",
       "/* Estimator-specific */\n",
       "#sk-container-id-3 div.sk-estimator {\n",
       "  font-family: monospace;\n",
       "  border: 1px dotted var(--sklearn-color-border-box);\n",
       "  border-radius: 0.25em;\n",
       "  box-sizing: border-box;\n",
       "  margin-bottom: 0.5em;\n",
       "  /* unfitted */\n",
       "  background-color: var(--sklearn-color-unfitted-level-0);\n",
       "}\n",
       "\n",
       "#sk-container-id-3 div.sk-estimator.fitted {\n",
       "  /* fitted */\n",
       "  background-color: var(--sklearn-color-fitted-level-0);\n",
       "}\n",
       "\n",
       "/* on hover */\n",
       "#sk-container-id-3 div.sk-estimator:hover {\n",
       "  /* unfitted */\n",
       "  background-color: var(--sklearn-color-unfitted-level-2);\n",
       "}\n",
       "\n",
       "#sk-container-id-3 div.sk-estimator.fitted:hover {\n",
       "  /* fitted */\n",
       "  background-color: var(--sklearn-color-fitted-level-2);\n",
       "}\n",
       "\n",
       "/* Specification for estimator info (e.g. \"i\" and \"?\") */\n",
       "\n",
       "/* Common style for \"i\" and \"?\" */\n",
       "\n",
       ".sk-estimator-doc-link,\n",
       "a:link.sk-estimator-doc-link,\n",
       "a:visited.sk-estimator-doc-link {\n",
       "  float: right;\n",
       "  font-size: smaller;\n",
       "  line-height: 1em;\n",
       "  font-family: monospace;\n",
       "  background-color: var(--sklearn-color-background);\n",
       "  border-radius: 1em;\n",
       "  height: 1em;\n",
       "  width: 1em;\n",
       "  text-decoration: none !important;\n",
       "  margin-left: 1ex;\n",
       "  /* unfitted */\n",
       "  border: var(--sklearn-color-unfitted-level-1) 1pt solid;\n",
       "  color: var(--sklearn-color-unfitted-level-1);\n",
       "}\n",
       "\n",
       ".sk-estimator-doc-link.fitted,\n",
       "a:link.sk-estimator-doc-link.fitted,\n",
       "a:visited.sk-estimator-doc-link.fitted {\n",
       "  /* fitted */\n",
       "  border: var(--sklearn-color-fitted-level-1) 1pt solid;\n",
       "  color: var(--sklearn-color-fitted-level-1);\n",
       "}\n",
       "\n",
       "/* On hover */\n",
       "div.sk-estimator:hover .sk-estimator-doc-link:hover,\n",
       ".sk-estimator-doc-link:hover,\n",
       "div.sk-label-container:hover .sk-estimator-doc-link:hover,\n",
       ".sk-estimator-doc-link:hover {\n",
       "  /* unfitted */\n",
       "  background-color: var(--sklearn-color-unfitted-level-3);\n",
       "  color: var(--sklearn-color-background);\n",
       "  text-decoration: none;\n",
       "}\n",
       "\n",
       "div.sk-estimator.fitted:hover .sk-estimator-doc-link.fitted:hover,\n",
       ".sk-estimator-doc-link.fitted:hover,\n",
       "div.sk-label-container:hover .sk-estimator-doc-link.fitted:hover,\n",
       ".sk-estimator-doc-link.fitted:hover {\n",
       "  /* fitted */\n",
       "  background-color: var(--sklearn-color-fitted-level-3);\n",
       "  color: var(--sklearn-color-background);\n",
       "  text-decoration: none;\n",
       "}\n",
       "\n",
       "/* Span, style for the box shown on hovering the info icon */\n",
       ".sk-estimator-doc-link span {\n",
       "  display: none;\n",
       "  z-index: 9999;\n",
       "  position: relative;\n",
       "  font-weight: normal;\n",
       "  right: .2ex;\n",
       "  padding: .5ex;\n",
       "  margin: .5ex;\n",
       "  width: min-content;\n",
       "  min-width: 20ex;\n",
       "  max-width: 50ex;\n",
       "  color: var(--sklearn-color-text);\n",
       "  box-shadow: 2pt 2pt 4pt #999;\n",
       "  /* unfitted */\n",
       "  background: var(--sklearn-color-unfitted-level-0);\n",
       "  border: .5pt solid var(--sklearn-color-unfitted-level-3);\n",
       "}\n",
       "\n",
       ".sk-estimator-doc-link.fitted span {\n",
       "  /* fitted */\n",
       "  background: var(--sklearn-color-fitted-level-0);\n",
       "  border: var(--sklearn-color-fitted-level-3);\n",
       "}\n",
       "\n",
       ".sk-estimator-doc-link:hover span {\n",
       "  display: block;\n",
       "}\n",
       "\n",
       "/* \"?\"-specific style due to the `<a>` HTML tag */\n",
       "\n",
       "#sk-container-id-3 a.estimator_doc_link {\n",
       "  float: right;\n",
       "  font-size: 1rem;\n",
       "  line-height: 1em;\n",
       "  font-family: monospace;\n",
       "  background-color: var(--sklearn-color-background);\n",
       "  border-radius: 1rem;\n",
       "  height: 1rem;\n",
       "  width: 1rem;\n",
       "  text-decoration: none;\n",
       "  /* unfitted */\n",
       "  color: var(--sklearn-color-unfitted-level-1);\n",
       "  border: var(--sklearn-color-unfitted-level-1) 1pt solid;\n",
       "}\n",
       "\n",
       "#sk-container-id-3 a.estimator_doc_link.fitted {\n",
       "  /* fitted */\n",
       "  border: var(--sklearn-color-fitted-level-1) 1pt solid;\n",
       "  color: var(--sklearn-color-fitted-level-1);\n",
       "}\n",
       "\n",
       "/* On hover */\n",
       "#sk-container-id-3 a.estimator_doc_link:hover {\n",
       "  /* unfitted */\n",
       "  background-color: var(--sklearn-color-unfitted-level-3);\n",
       "  color: var(--sklearn-color-background);\n",
       "  text-decoration: none;\n",
       "}\n",
       "\n",
       "#sk-container-id-3 a.estimator_doc_link.fitted:hover {\n",
       "  /* fitted */\n",
       "  background-color: var(--sklearn-color-fitted-level-3);\n",
       "}\n",
       "</style><div id=\"sk-container-id-3\" class=\"sk-top-container\"><div class=\"sk-text-repr-fallback\"><pre>StackingClassifier(cv=5,\n",
       "                   estimators=[(&#x27;rf&#x27;,\n",
       "                                RandomForestClassifier(max_features=10,\n",
       "                                                       max_leaf_nodes=5,\n",
       "                                                       min_samples_leaf=4,\n",
       "                                                       random_state=42)),\n",
       "                               (&#x27;lr&#x27;,\n",
       "                                LogisticRegression(C=1, penalty=&#x27;l1&#x27;,\n",
       "                                                   random_state=42,\n",
       "                                                   solver=&#x27;liblinear&#x27;))],\n",
       "                   final_estimator=RandomForestClassifier(max_features=10,\n",
       "                                                          max_leaf_nodes=5,\n",
       "                                                          min_samples_leaf=4,\n",
       "                                                          random_state=42))</pre><b>In a Jupyter environment, please rerun this cell to show the HTML representation or trust the notebook. <br />On GitHub, the HTML representation is unable to render, please try loading this page with nbviewer.org.</b></div><div class=\"sk-container\" hidden><div class=\"sk-item sk-dashed-wrapped\"><div class=\"sk-label-container\"><div class=\"sk-label fitted sk-toggleable\"><input class=\"sk-toggleable__control sk-hidden--visually\" id=\"sk-estimator-id-9\" type=\"checkbox\" ><label for=\"sk-estimator-id-9\" class=\"sk-toggleable__label fitted sk-toggleable__label-arrow fitted\">&nbsp;&nbsp;StackingClassifier<a class=\"sk-estimator-doc-link fitted\" rel=\"noreferrer\" target=\"_blank\" href=\"https://scikit-learn.org/1.4/modules/generated/sklearn.ensemble.StackingClassifier.html\">?<span>Documentation for StackingClassifier</span></a><span class=\"sk-estimator-doc-link fitted\">i<span>Fitted</span></span></label><div class=\"sk-toggleable__content fitted\"><pre>StackingClassifier(cv=5,\n",
       "                   estimators=[(&#x27;rf&#x27;,\n",
       "                                RandomForestClassifier(max_features=10,\n",
       "                                                       max_leaf_nodes=5,\n",
       "                                                       min_samples_leaf=4,\n",
       "                                                       random_state=42)),\n",
       "                               (&#x27;lr&#x27;,\n",
       "                                LogisticRegression(C=1, penalty=&#x27;l1&#x27;,\n",
       "                                                   random_state=42,\n",
       "                                                   solver=&#x27;liblinear&#x27;))],\n",
       "                   final_estimator=RandomForestClassifier(max_features=10,\n",
       "                                                          max_leaf_nodes=5,\n",
       "                                                          min_samples_leaf=4,\n",
       "                                                          random_state=42))</pre></div> </div></div><div class=\"sk-serial\"><div class=\"sk-item\"><div class=\"sk-parallel\"><div class=\"sk-parallel-item\"><div class=\"sk-item\"><div class=\"sk-label-container\"><div class=\"sk-label fitted sk-toggleable\"><label>rf</label></div></div><div class=\"sk-serial\"><div class=\"sk-item\"><div class=\"sk-estimator fitted sk-toggleable\"><input class=\"sk-toggleable__control sk-hidden--visually\" id=\"sk-estimator-id-10\" type=\"checkbox\" ><label for=\"sk-estimator-id-10\" class=\"sk-toggleable__label fitted sk-toggleable__label-arrow fitted\">&nbsp;RandomForestClassifier<a class=\"sk-estimator-doc-link fitted\" rel=\"noreferrer\" target=\"_blank\" href=\"https://scikit-learn.org/1.4/modules/generated/sklearn.ensemble.RandomForestClassifier.html\">?<span>Documentation for RandomForestClassifier</span></a></label><div class=\"sk-toggleable__content fitted\"><pre>RandomForestClassifier(max_features=10, max_leaf_nodes=5, min_samples_leaf=4,\n",
       "                       random_state=42)</pre></div> </div></div></div></div></div><div class=\"sk-parallel-item\"><div class=\"sk-item\"><div class=\"sk-label-container\"><div class=\"sk-label fitted sk-toggleable\"><label>lr</label></div></div><div class=\"sk-serial\"><div class=\"sk-item\"><div class=\"sk-estimator fitted sk-toggleable\"><input class=\"sk-toggleable__control sk-hidden--visually\" id=\"sk-estimator-id-11\" type=\"checkbox\" ><label for=\"sk-estimator-id-11\" class=\"sk-toggleable__label fitted sk-toggleable__label-arrow fitted\">&nbsp;LogisticRegression<a class=\"sk-estimator-doc-link fitted\" rel=\"noreferrer\" target=\"_blank\" href=\"https://scikit-learn.org/1.4/modules/generated/sklearn.linear_model.LogisticRegression.html\">?<span>Documentation for LogisticRegression</span></a></label><div class=\"sk-toggleable__content fitted\"><pre>LogisticRegression(C=1, penalty=&#x27;l1&#x27;, random_state=42, solver=&#x27;liblinear&#x27;)</pre></div> </div></div></div></div></div></div></div><div class=\"sk-item\"><div class=\"sk-parallel\"><div class=\"sk-parallel-item\"><div class=\"sk-item\"><div class=\"sk-label-container\"><div class=\"sk-label fitted sk-toggleable\"><label>final_estimator</label></div></div><div class=\"sk-serial\"><div class=\"sk-item\"><div class=\"sk-estimator fitted sk-toggleable\"><input class=\"sk-toggleable__control sk-hidden--visually\" id=\"sk-estimator-id-12\" type=\"checkbox\" ><label for=\"sk-estimator-id-12\" class=\"sk-toggleable__label fitted sk-toggleable__label-arrow fitted\">&nbsp;RandomForestClassifier<a class=\"sk-estimator-doc-link fitted\" rel=\"noreferrer\" target=\"_blank\" href=\"https://scikit-learn.org/1.4/modules/generated/sklearn.ensemble.RandomForestClassifier.html\">?<span>Documentation for RandomForestClassifier</span></a></label><div class=\"sk-toggleable__content fitted\"><pre>RandomForestClassifier(max_features=10, max_leaf_nodes=5, min_samples_leaf=4,\n",
       "                       random_state=42)</pre></div> </div></div></div></div></div></div></div></div></div></div></div>"
      ],
      "text/plain": [
       "StackingClassifier(cv=5,\n",
       "                   estimators=[('rf',\n",
       "                                RandomForestClassifier(max_features=10,\n",
       "                                                       max_leaf_nodes=5,\n",
       "                                                       min_samples_leaf=4,\n",
       "                                                       random_state=42)),\n",
       "                               ('lr',\n",
       "                                LogisticRegression(C=1, penalty='l1',\n",
       "                                                   random_state=42,\n",
       "                                                   solver='liblinear'))],\n",
       "                   final_estimator=RandomForestClassifier(max_features=10,\n",
       "                                                          max_leaf_nodes=5,\n",
       "                                                          min_samples_leaf=4,\n",
       "                                                          random_state=42))"
      ]
     },
     "execution_count": 71,
     "metadata": {},
     "output_type": "execute_result"
    }
   ],
   "source": [
    "stacking_model.fit(X_train, y_train)"
   ]
  },
  {
   "cell_type": "code",
   "execution_count": 74,
   "id": "0bc3a62e-dfd5-44a4-8cb1-15533d953e21",
   "metadata": {},
   "outputs": [],
   "source": [
    "y_pred_stack = stacking_model.predict(X_test)"
   ]
  },
  {
   "cell_type": "code",
   "execution_count": 75,
   "id": "1ede3980-c658-4efd-a678-71df81981902",
   "metadata": {},
   "outputs": [
    {
     "name": "stdout",
     "output_type": "stream",
     "text": [
      "Stacking Model Accuracy: 0.79\n"
     ]
    }
   ],
   "source": [
    "print('Stacking Model Accuracy: {:.2f}'.format(accuracy_score(y_test, y_pred_stack)))"
   ]
  },
  {
   "cell_type": "code",
   "execution_count": null,
   "id": "446397d9-ff77-41f2-8fe3-f8b2a924574f",
   "metadata": {},
   "outputs": [],
   "source": []
  },
  {
   "cell_type": "code",
   "execution_count": 445,
   "id": "cfcec30d-56ec-436e-bb60-8004ca51d8e1",
   "metadata": {},
   "outputs": [
    {
     "data": {
      "text/plain": [
       "array([0.34401025, 0.1906608 , 0.09497905, 0.16089107, 0.01589271,\n",
       "       0.02040386, 0.08209479, 0.05812171, 0.01663364, 0.01238853,\n",
       "       0.        , 0.00325805, 0.        , 0.        , 0.00066554])"
      ]
     },
     "execution_count": 445,
     "metadata": {},
     "output_type": "execute_result"
    }
   ],
   "source": [
    "rfc.feature_importances_"
   ]
  },
  {
   "cell_type": "code",
   "execution_count": 446,
   "id": "3ecb3c98-9aa9-416b-846d-2ddce227e436",
   "metadata": {},
   "outputs": [],
   "source": [
    "Feature_importance = pd.DataFrame({'Features':X_train.columns,'Importance':rfc.feature_importances_})"
   ]
  },
  {
   "cell_type": "code",
   "execution_count": 447,
   "id": "af15a9d0-68e4-420a-9838-dd143788bdd0",
   "metadata": {},
   "outputs": [],
   "source": [
    "Feature_importance = Feature_importance.sort_values(by = 'Importance',ascending = False)"
   ]
  },
  {
   "cell_type": "code",
   "execution_count": 448,
   "id": "5f235609-24fb-4d85-964c-ceb6666e162c",
   "metadata": {},
   "outputs": [
    {
     "data": {
      "image/png": "[encoded data removed]",
      "text/plain": [
       "<Figure size 600x400 with 1 Axes>"
      ]
     },
     "metadata": {},
     "output_type": "display_data"
    }
   ],
   "source": [
    "plt.figure(figsize=(6,4))\n",
    "sns.barplot(x='Importance',y='Features',data = Feature_importance, color = 'darkorchid',alpha = 0.4)\n",
    "plt.show()"
   ]
  },
  {
   "cell_type": "code",
   "execution_count": null,
   "id": "5b88e0a5-9125-4d07-923a-65892938b4f7",
   "metadata": {},
   "outputs": [],
   "source": []
  },
  {
   "cell_type": "code",
   "execution_count": null,
   "id": "5d69a85e-b428-4ca3-b080-52349565a64f",
   "metadata": {},
   "outputs": [],
   "source": []
  },
  {
   "cell_type": "code",
   "execution_count": 77,
   "id": "5d2108b6-474a-47e4-b6a9-a5309b22cdf4",
   "metadata": {},
   "outputs": [
    {
     "data": {
      "image/png": "[encoded data removed]",
      "text/plain": [
       "<Figure size 500x500 with 2 Axes>"
      ]
     },
     "metadata": {},
     "output_type": "display_data"
    }
   ],
   "source": [
    "confusion = confusion_matrix(y_test, y_pred_stack )\n",
    "plt.figure(figsize=(5,5))\n",
    "\n",
    "sns.heatmap(confusion, annot=True, fmt='d', cmap='cool', \n",
    "            xticklabels=['Non-Creditworthy', 'Creditworthy'], \n",
    "            yticklabels=['Non-Creditworthy', 'Creditworthy'])\n",
    "\n",
    "plt.title('Stacked Model Confusion Matrix', fontsize=20)\n",
    "plt.xlabel('Predicted Values', fontsize=16)\n",
    "plt.ylabel('Actual Values', fontsize=16)\n",
    "\n",
    "plt.show()"
   ]
  },
  {
   "cell_type": "code",
   "execution_count": null,
   "id": "55428fd7-d1be-402a-82c1-975a1e01cec5",
   "metadata": {},
   "outputs": [],
   "source": []
  },
  {
   "cell_type": "markdown",
   "id": "8438ea9c-14e5-4523-92a3-35a5d07a3697",
   "metadata": {},
   "source": [
    "### Final metric: ROC-AUC"
   ]
  },
  {
   "cell_type": "code",
   "execution_count": 81,
   "id": "4985ad3a-c2b4-40e7-9645-ada99aeae5e3",
   "metadata": {},
   "outputs": [],
   "source": [
    "pred_prob_dct = dtree.predict_proba(X_test)\n",
    "pred_prob_lgr = lreg02.predict_proba(X_test)\n",
    "pred_prob_svc = SVC_model.predict_proba(X_test)\n",
    "pred_prob_rfc = rfc02.predict_proba(X_test)\n",
    "pred_prob_stack = stacking_model.predict_proba(X_test)\n",
    "\n",
    "\n",
    "fpr1, tpr1, thresh1 = roc_curve(y_test, pred_prob_dct[:,1], pos_label=1)\n",
    "fpr2, tpr2, thresh2 = roc_curve(y_test, pred_prob_lgr[:,1], pos_label=1)\n",
    "fpr3, tpr3, thresh3 = roc_curve(y_test, pred_prob_svc[:,1], pos_label=1)\n",
    "fpr4, tpr4, thresh4 = roc_curve(y_test, pred_prob_rfc[:,1], pos_label=1)\n",
    "fpr5, tpr5, thresh5 = roc_curve(y_test, pred_prob_rfc[:,1], pos_label=1)\n",
    "\n",
    "random_probs = [0 for i in range(len(y_test))]\n",
    "p_fpr, p_tpr, _ = roc_curve(y_test, random_probs, pos_label=1)"
   ]
  },
  {
   "cell_type": "code",
   "execution_count": null,
   "id": "21485e4a-2c04-45c8-9004-e05b9e498031",
   "metadata": {},
   "outputs": [],
   "source": []
  },
  {
   "cell_type": "code",
   "execution_count": 83,
   "id": "5df79ced-885d-44bd-a203-5683c3f202b0",
   "metadata": {},
   "outputs": [
    {
     "data": {
      "text/plain": [
       "<Figure size 1000x600 with 0 Axes>"
      ]
     },
     "metadata": {},
     "output_type": "display_data"
    },
    {
     "data": {
      "image/png": "[encoded data removed]",
      "text/plain": [
       "<Figure size 1000x700 with 1 Axes>"
      ]
     },
     "metadata": {},
     "output_type": "display_data"
    }
   ],
   "source": [
    "plt.style.use('seaborn')\n",
    "plt.figure(figsize=(10,6))\n",
    "\n",
    "plt.figure(figsize=(10, 7))\n",
    "plt.plot(fpr1, tpr1, marker='*', color='slateblue', label='Decision Tree')\n",
    "plt.plot(fpr2, tpr2, marker='*', color='gold', label='Logistic Regression')\n",
    "plt.plot(fpr3, tpr3, marker='*', color='olivedrab',  label='SVC')\n",
    "plt.plot(fpr4, tpr4, marker='*', color='darksalmon', label='Random Forest')\n",
    "plt.plot(fpr5, tpr5, marker='*', color='deeppink', label='Stacking Model')\n",
    "plt.plot(p_fpr, p_tpr, linestyle='--', color='teal', label='Random')\n",
    "\n",
    "plt.xlabel('False Positive Rate')\n",
    "plt.ylabel('True Positive Rate')\n",
    "plt.title('ROC Curve')\n",
    "plt.legend()\n",
    "plt.show()"
   ]
  },
  {
   "cell_type": "code",
   "execution_count": 84,
   "id": "aa5f97d0-61ae-4198-8dea-d33bd85028aa",
   "metadata": {},
   "outputs": [
    {
     "name": "stdout",
     "output_type": "stream",
     "text": [
      "AUC score for Decision Tree: 0.74\n",
      "AUC score for Logistic Regression: 0.75\n",
      "AUC score for SVC: 0.71\n",
      "AUC score for Random Forest: 0.75\n",
      "AUC score for stack Model: 0.78\n"
     ]
    }
   ],
   "source": [
    "fpr1, tpr1, _ = roc_curve(y_test, pred_prob_dct[:, 1], pos_label=1)\n",
    "fpr2, tpr2, _ = roc_curve(y_test, pred_prob_lgr[:, 1], pos_label=1)\n",
    "fpr3, tpr3, _ = roc_curve(y_test, pred_prob_svc[:, 1], pos_label=1)\n",
    "fpr4, tpr4, _ = roc_curve(y_test, pred_prob_rfc[:, 1], pos_label=1)\n",
    "fpr4, tpr4, _ = roc_curve(y_test, pred_prob_stack[:, 1], pos_label=1)\n",
    "\n",
    "auc_dct = auc(fpr1, tpr1)\n",
    "auc_lgr = auc(fpr2, tpr2)\n",
    "auc_svc = auc(fpr3, tpr3)\n",
    "auc_rfc = auc(fpr4, tpr4)\n",
    "auc_stack = auc(fpr5, tpr5)\n",
    "\n",
    "print('AUC score for Decision Tree: {:.2f}'.format(auc_dct))\n",
    "print('AUC score for Logistic Regression: {:.2f}'.format(auc_lgr))\n",
    "print('AUC score for SVC: {:.2f}'.format(auc_svc))\n",
    "print('AUC score for Random Forest: {:.2f}'.format(auc_rfc))\n",
    "print('AUC score for stack Model: {:.2f}'.format(auc_stack))"
   ]
  },
  {
   "cell_type": "code",
   "execution_count": null,
   "id": "6816df29-a3b3-46fb-95c1-72397de7571b",
   "metadata": {},
   "outputs": [],
   "source": []
  },
  {
   "cell_type": "markdown",
   "id": "f50a1c71-34c9-4ab1-ac8c-24b7d089bc0a",
   "metadata": {},
   "source": [
    "### Model Application"
   ]
  },
  {
   "cell_type": "code",
   "execution_count": 148,
   "id": "df3f8497-1eee-4614-bdf8-b29cda9ba225",
   "metadata": {},
   "outputs": [],
   "source": [
    "test = pd.read_excel(r\"C:\\Users\\lily\\Desktop\\IT alapok privát\\PRIV DATA SC 1204\\Machine learning\\Creditworthiness\\test_customers.xlsx\")"
   ]
  },
  {
   "cell_type": "code",
   "execution_count": 149,
   "id": "c7c21a8b-d4ac-4a2b-a5a2-7ffad5a34e10",
   "metadata": {},
   "outputs": [
    {
     "data": {
      "text/html": [
       "<div>\n",
       "<style scoped>\n",
       "    .dataframe tbody tr th:only-of-type {\n",
       "        vertical-align: middle;\n",
       "    }\n",
       "\n",
       "    .dataframe tbody tr th {\n",
       "        vertical-align: top;\n",
       "    }\n",
       "\n",
       "    .dataframe thead th {\n",
       "        text-align: right;\n",
       "    }\n",
       "</style>\n",
       "<table border=\"1\" class=\"dataframe\">\n",
       "  <thead>\n",
       "    <tr style=\"text-align: right;\">\n",
       "      <th></th>\n",
       "      <th>Account-Balance</th>\n",
       "      <th>Duration-of-Credit-Month</th>\n",
       "      <th>Payment-Status-of-Previous-Credit</th>\n",
       "      <th>Purpose</th>\n",
       "      <th>Credit-Amount</th>\n",
       "      <th>Value-Savings-Stocks</th>\n",
       "      <th>Length-of-current-employment</th>\n",
       "      <th>Instalment-per-cent</th>\n",
       "      <th>Guarantors</th>\n",
       "      <th>Duration-in-Current-address</th>\n",
       "      <th>Most-valuable-available-asset</th>\n",
       "      <th>Age-years</th>\n",
       "      <th>Concurrent-Credits</th>\n",
       "      <th>Type-of-apartment</th>\n",
       "      <th>No-of-Credits-at-this-Bank</th>\n",
       "      <th>Occupation</th>\n",
       "      <th>No-of-dependents</th>\n",
       "      <th>Telephone</th>\n",
       "      <th>Foreign-Worker</th>\n",
       "    </tr>\n",
       "  </thead>\n",
       "  <tbody>\n",
       "    <tr>\n",
       "      <th>0</th>\n",
       "      <td>No Account</td>\n",
       "      <td>9</td>\n",
       "      <td>No Problems (in this bank)</td>\n",
       "      <td>Home Related</td>\n",
       "      <td>2799</td>\n",
       "      <td>NaN</td>\n",
       "      <td>&lt; 1yr</td>\n",
       "      <td>2</td>\n",
       "      <td>NaN</td>\n",
       "      <td>2</td>\n",
       "      <td>1</td>\n",
       "      <td>36</td>\n",
       "      <td>Other Banks/Depts</td>\n",
       "      <td>1</td>\n",
       "      <td>More than 1</td>\n",
       "      <td>1</td>\n",
       "      <td>2</td>\n",
       "      <td>1</td>\n",
       "      <td>1</td>\n",
       "    </tr>\n",
       "    <tr>\n",
       "      <th>1</th>\n",
       "      <td>No Account</td>\n",
       "      <td>12</td>\n",
       "      <td>No Problems (in this bank)</td>\n",
       "      <td>Home Related</td>\n",
       "      <td>2122</td>\n",
       "      <td>NaN</td>\n",
       "      <td>&lt; 1yr</td>\n",
       "      <td>3</td>\n",
       "      <td>NaN</td>\n",
       "      <td>2</td>\n",
       "      <td>1</td>\n",
       "      <td>39</td>\n",
       "      <td>Other Banks/Depts</td>\n",
       "      <td>1</td>\n",
       "      <td>More than 1</td>\n",
       "      <td>1</td>\n",
       "      <td>2</td>\n",
       "      <td>1</td>\n",
       "      <td>2</td>\n",
       "    </tr>\n",
       "    <tr>\n",
       "      <th>2</th>\n",
       "      <td>No Account</td>\n",
       "      <td>24</td>\n",
       "      <td>Paid Up</td>\n",
       "      <td>Home Related</td>\n",
       "      <td>3758</td>\n",
       "      <td>£100-£1000</td>\n",
       "      <td>&lt; 1yr</td>\n",
       "      <td>1</td>\n",
       "      <td>NaN</td>\n",
       "      <td>4</td>\n",
       "      <td>4</td>\n",
       "      <td>23</td>\n",
       "      <td>Other Banks/Depts</td>\n",
       "      <td>1</td>\n",
       "      <td>1</td>\n",
       "      <td>1</td>\n",
       "      <td>1</td>\n",
       "      <td>1</td>\n",
       "      <td>1</td>\n",
       "    </tr>\n",
       "    <tr>\n",
       "      <th>3</th>\n",
       "      <td>No Account</td>\n",
       "      <td>11</td>\n",
       "      <td>No Problems (in this bank)</td>\n",
       "      <td>Home Related</td>\n",
       "      <td>3905</td>\n",
       "      <td>NaN</td>\n",
       "      <td>&lt; 1yr</td>\n",
       "      <td>2</td>\n",
       "      <td>NaN</td>\n",
       "      <td>2</td>\n",
       "      <td>1</td>\n",
       "      <td>36</td>\n",
       "      <td>Other Banks/Depts</td>\n",
       "      <td>1</td>\n",
       "      <td>More than 1</td>\n",
       "      <td>1</td>\n",
       "      <td>2</td>\n",
       "      <td>1</td>\n",
       "      <td>1</td>\n",
       "    </tr>\n",
       "    <tr>\n",
       "      <th>4</th>\n",
       "      <td>No Account</td>\n",
       "      <td>6</td>\n",
       "      <td>No Problems (in this bank)</td>\n",
       "      <td>Home Related</td>\n",
       "      <td>1957</td>\n",
       "      <td>NaN</td>\n",
       "      <td>1-4 yrs</td>\n",
       "      <td>1</td>\n",
       "      <td>NaN</td>\n",
       "      <td>4</td>\n",
       "      <td>3</td>\n",
       "      <td>31</td>\n",
       "      <td>Other Banks/Depts</td>\n",
       "      <td>2</td>\n",
       "      <td>1</td>\n",
       "      <td>1</td>\n",
       "      <td>1</td>\n",
       "      <td>1</td>\n",
       "      <td>1</td>\n",
       "    </tr>\n",
       "  </tbody>\n",
       "</table>\n",
       "</div>"
      ],
      "text/plain": [
       "  Account-Balance  Duration-of-Credit-Month Payment-Status-of-Previous-Credit  \\\n",
       "0      No Account                         9        No Problems (in this bank)   \n",
       "1      No Account                        12        No Problems (in this bank)   \n",
       "2      No Account                        24                           Paid Up   \n",
       "3      No Account                        11        No Problems (in this bank)   \n",
       "4      No Account                         6        No Problems (in this bank)   \n",
       "\n",
       "        Purpose  Credit-Amount Value-Savings-Stocks  \\\n",
       "0  Home Related           2799                  NaN   \n",
       "1  Home Related           2122                  NaN   \n",
       "2  Home Related           3758           £100-£1000   \n",
       "3  Home Related           3905                  NaN   \n",
       "4  Home Related           1957                  NaN   \n",
       "\n",
       "  Length-of-current-employment  Instalment-per-cent Guarantors  \\\n",
       "0                        < 1yr                    2        NaN   \n",
       "1                        < 1yr                    3        NaN   \n",
       "2                        < 1yr                    1        NaN   \n",
       "3                        < 1yr                    2        NaN   \n",
       "4                      1-4 yrs                    1        NaN   \n",
       "\n",
       "   Duration-in-Current-address  Most-valuable-available-asset  Age-years  \\\n",
       "0                            2                              1         36   \n",
       "1                            2                              1         39   \n",
       "2                            4                              4         23   \n",
       "3                            2                              1         36   \n",
       "4                            4                              3         31   \n",
       "\n",
       "  Concurrent-Credits  Type-of-apartment No-of-Credits-at-this-Bank  \\\n",
       "0  Other Banks/Depts                  1                More than 1   \n",
       "1  Other Banks/Depts                  1                More than 1   \n",
       "2  Other Banks/Depts                  1                          1   \n",
       "3  Other Banks/Depts                  1                More than 1   \n",
       "4  Other Banks/Depts                  2                          1   \n",
       "\n",
       "   Occupation  No-of-dependents  Telephone  Foreign-Worker  \n",
       "0           1                 2          1               1  \n",
       "1           1                 2          1               2  \n",
       "2           1                 1          1               1  \n",
       "3           1                 2          1               1  \n",
       "4           1                 1          1               1  "
      ]
     },
     "execution_count": 149,
     "metadata": {},
     "output_type": "execute_result"
    }
   ],
   "source": [
    "test.head(5)"
   ]
  },
  {
   "cell_type": "code",
   "execution_count": 150,
   "id": "3355bbe9-9f8c-4cce-97dc-799323b9da2c",
   "metadata": {},
   "outputs": [
    {
     "data": {
      "text/plain": [
       "500"
      ]
     },
     "execution_count": 150,
     "metadata": {},
     "output_type": "execute_result"
    }
   ],
   "source": [
    "len(test)"
   ]
  },
  {
   "cell_type": "code",
   "execution_count": 151,
   "id": "880d57e8-f4a9-414a-899a-f12112b7c391",
   "metadata": {},
   "outputs": [
    {
     "data": {
      "text/plain": [
       "Account-Balance                        0\n",
       "Duration-of-Credit-Month               0\n",
       "Payment-Status-of-Previous-Credit      0\n",
       "Purpose                                0\n",
       "Credit-Amount                          0\n",
       "Value-Savings-Stocks                 300\n",
       "Length-of-current-employment           0\n",
       "Instalment-per-cent                    0\n",
       "Guarantors                           451\n",
       "Duration-in-Current-address            0\n",
       "Most-valuable-available-asset          0\n",
       "Age-years                              0\n",
       "Concurrent-Credits                     0\n",
       "Type-of-apartment                      0\n",
       "No-of-Credits-at-this-Bank             0\n",
       "Occupation                             0\n",
       "No-of-dependents                       0\n",
       "Telephone                              0\n",
       "Foreign-Worker                         0\n",
       "dtype: int64"
      ]
     },
     "execution_count": 151,
     "metadata": {},
     "output_type": "execute_result"
    }
   ],
   "source": [
    "test.isnull().sum()"
   ]
  },
  {
   "cell_type": "code",
   "execution_count": 152,
   "id": "4024db17-07d2-40d2-a0d5-97b20fdb15f4",
   "metadata": {},
   "outputs": [],
   "source": [
    "test.drop(['Value-Savings-Stocks',\n",
    "            'Guarantors',\n",
    "            'Duration-in-Current-address',\n",
    "            'Concurrent-Credits',\n",
    "            'Occupation',\n",
    "            'Telephone'],\n",
    "           axis = 1,inplace = True)"
   ]
  },
  {
   "cell_type": "code",
   "execution_count": 153,
   "id": "448d5ec5-33d3-4ad5-899a-6906422ccd7a",
   "metadata": {},
   "outputs": [
    {
     "data": {
      "text/plain": [
       "Account-Balance\n",
       "No Account      282\n",
       "Some Balance    218\n",
       "Name: count, dtype: int64"
      ]
     },
     "execution_count": 153,
     "metadata": {},
     "output_type": "execute_result"
    }
   ],
   "source": [
    "test['Account-Balance'].value_counts()"
   ]
  },
  {
   "cell_type": "code",
   "execution_count": 154,
   "id": "4b15e590-a156-4f19-ac68-96a9e2ad8f97",
   "metadata": {},
   "outputs": [],
   "source": [
    "test_account_mapping = {'No Account': 0, 'Some Balance': 1}\n",
    "test['Account-Balance'] = test['Account-Balance'].map(test_account_mapping)"
   ]
  },
  {
   "cell_type": "code",
   "execution_count": 155,
   "id": "cdfe915f-354d-4630-90cb-758aef5825fd",
   "metadata": {},
   "outputs": [
    {
     "data": {
      "text/plain": [
       "Payment-Status-of-Previous-Credit\n",
       "Paid Up                       272\n",
       "No Problems (in this bank)    176\n",
       "Some Problems                  52\n",
       "Name: count, dtype: int64"
      ]
     },
     "execution_count": 155,
     "metadata": {},
     "output_type": "execute_result"
    }
   ],
   "source": [
    "test['Payment-Status-of-Previous-Credit'].value_counts()"
   ]
  },
  {
   "cell_type": "code",
   "execution_count": 156,
   "id": "fd12a6f3-2803-4d92-b53d-92f09a77e813",
   "metadata": {},
   "outputs": [],
   "source": [
    "test_payment_mapping = {'Some Problems': 0, 'No Problems (in this bank)': 1, 'Paid Up': 2}\n",
    "test['Payment-Status-of-Previous-Credit'] = test['Payment-Status-of-Previous-Credit'].map(test_payment_mapping)"
   ]
  },
  {
   "cell_type": "code",
   "execution_count": 157,
   "id": "a01194b2-d162-43d7-8f87-d7b558822201",
   "metadata": {},
   "outputs": [
    {
     "data": {
      "text/plain": [
       "Length-of-current-employment\n",
       "< 1yr      291\n",
       "4-7 yrs    131\n",
       "1-4 yrs     78\n",
       "Name: count, dtype: int64"
      ]
     },
     "execution_count": 157,
     "metadata": {},
     "output_type": "execute_result"
    }
   ],
   "source": [
    "test['Length-of-current-employment'].value_counts()"
   ]
  },
  {
   "cell_type": "code",
   "execution_count": 158,
   "id": "89db7133-6d2f-4085-a3c6-85dafd390aab",
   "metadata": {},
   "outputs": [],
   "source": [
    "test_length_mapping = {'< 1yr': 0, '1-4 yrs': 1, '4-7 yrs': 2}\n",
    "test['Length-of-current-employment'] = test['Length-of-current-employment'].map(test_length_mapping)"
   ]
  },
  {
   "cell_type": "code",
   "execution_count": null,
   "id": "f76c199c-74ff-43cb-89d7-c0bd086270d2",
   "metadata": {},
   "outputs": [],
   "source": []
  },
  {
   "cell_type": "code",
   "execution_count": 159,
   "id": "d012cd39-4545-422f-bc05-8187fdd2ca1f",
   "metadata": {},
   "outputs": [],
   "source": [
    "dum = ['Purpose', 'No-of-Credits-at-this-Bank']\n",
    "test = pd.get_dummies(test, columns=['Purpose', 'No-of-Credits-at-this-Bank'],drop_first = True)"
   ]
  },
  {
   "cell_type": "code",
   "execution_count": 160,
   "id": "0ef00c41-a506-4669-8a53-d1d61e836829",
   "metadata": {},
   "outputs": [],
   "source": [
    "test['Purpose_New car'] = test['Purpose_New car'].astype(int)\n",
    "test['Purpose_Used car'] = test['Purpose_Used car'].astype(int)\n",
    "test['No-of-Credits-at-this-Bank_More than 1'] = test['No-of-Credits-at-this-Bank_More than 1'].astype(int)"
   ]
  },
  {
   "cell_type": "code",
   "execution_count": 161,
   "id": "c97cdec3-59c4-4b2a-9c1a-47b364132a57",
   "metadata": {},
   "outputs": [
    {
     "data": {
      "text/html": [
       "<div>\n",
       "<style scoped>\n",
       "    .dataframe tbody tr th:only-of-type {\n",
       "        vertical-align: middle;\n",
       "    }\n",
       "\n",
       "    .dataframe tbody tr th {\n",
       "        vertical-align: top;\n",
       "    }\n",
       "\n",
       "    .dataframe thead th {\n",
       "        text-align: right;\n",
       "    }\n",
       "</style>\n",
       "<table border=\"1\" class=\"dataframe\">\n",
       "  <thead>\n",
       "    <tr style=\"text-align: right;\">\n",
       "      <th></th>\n",
       "      <th>Account-Balance</th>\n",
       "      <th>Duration-of-Credit-Month</th>\n",
       "      <th>Payment-Status-of-Previous-Credit</th>\n",
       "      <th>Credit-Amount</th>\n",
       "      <th>Length-of-current-employment</th>\n",
       "      <th>Instalment-per-cent</th>\n",
       "      <th>Most-valuable-available-asset</th>\n",
       "      <th>Age-years</th>\n",
       "      <th>Type-of-apartment</th>\n",
       "      <th>No-of-dependents</th>\n",
       "      <th>Foreign-Worker</th>\n",
       "      <th>Purpose_New car</th>\n",
       "      <th>Purpose_Used car</th>\n",
       "      <th>No-of-Credits-at-this-Bank_More than 1</th>\n",
       "    </tr>\n",
       "  </thead>\n",
       "  <tbody>\n",
       "    <tr>\n",
       "      <th>0</th>\n",
       "      <td>0</td>\n",
       "      <td>9</td>\n",
       "      <td>1</td>\n",
       "      <td>2799</td>\n",
       "      <td>0</td>\n",
       "      <td>2</td>\n",
       "      <td>1</td>\n",
       "      <td>36</td>\n",
       "      <td>1</td>\n",
       "      <td>2</td>\n",
       "      <td>1</td>\n",
       "      <td>0</td>\n",
       "      <td>0</td>\n",
       "      <td>1</td>\n",
       "    </tr>\n",
       "    <tr>\n",
       "      <th>1</th>\n",
       "      <td>0</td>\n",
       "      <td>12</td>\n",
       "      <td>1</td>\n",
       "      <td>2122</td>\n",
       "      <td>0</td>\n",
       "      <td>3</td>\n",
       "      <td>1</td>\n",
       "      <td>39</td>\n",
       "      <td>1</td>\n",
       "      <td>2</td>\n",
       "      <td>2</td>\n",
       "      <td>0</td>\n",
       "      <td>0</td>\n",
       "      <td>1</td>\n",
       "    </tr>\n",
       "    <tr>\n",
       "      <th>2</th>\n",
       "      <td>0</td>\n",
       "      <td>24</td>\n",
       "      <td>2</td>\n",
       "      <td>3758</td>\n",
       "      <td>0</td>\n",
       "      <td>1</td>\n",
       "      <td>4</td>\n",
       "      <td>23</td>\n",
       "      <td>1</td>\n",
       "      <td>1</td>\n",
       "      <td>1</td>\n",
       "      <td>0</td>\n",
       "      <td>0</td>\n",
       "      <td>0</td>\n",
       "    </tr>\n",
       "    <tr>\n",
       "      <th>3</th>\n",
       "      <td>0</td>\n",
       "      <td>11</td>\n",
       "      <td>1</td>\n",
       "      <td>3905</td>\n",
       "      <td>0</td>\n",
       "      <td>2</td>\n",
       "      <td>1</td>\n",
       "      <td>36</td>\n",
       "      <td>1</td>\n",
       "      <td>2</td>\n",
       "      <td>1</td>\n",
       "      <td>0</td>\n",
       "      <td>0</td>\n",
       "      <td>1</td>\n",
       "    </tr>\n",
       "    <tr>\n",
       "      <th>4</th>\n",
       "      <td>0</td>\n",
       "      <td>6</td>\n",
       "      <td>1</td>\n",
       "      <td>1957</td>\n",
       "      <td>1</td>\n",
       "      <td>1</td>\n",
       "      <td>3</td>\n",
       "      <td>31</td>\n",
       "      <td>2</td>\n",
       "      <td>1</td>\n",
       "      <td>1</td>\n",
       "      <td>0</td>\n",
       "      <td>0</td>\n",
       "      <td>0</td>\n",
       "    </tr>\n",
       "  </tbody>\n",
       "</table>\n",
       "</div>"
      ],
      "text/plain": [
       "   Account-Balance  Duration-of-Credit-Month  \\\n",
       "0                0                         9   \n",
       "1                0                        12   \n",
       "2                0                        24   \n",
       "3                0                        11   \n",
       "4                0                         6   \n",
       "\n",
       "   Payment-Status-of-Previous-Credit  Credit-Amount  \\\n",
       "0                                  1           2799   \n",
       "1                                  1           2122   \n",
       "2                                  2           3758   \n",
       "3                                  1           3905   \n",
       "4                                  1           1957   \n",
       "\n",
       "   Length-of-current-employment  Instalment-per-cent  \\\n",
       "0                             0                    2   \n",
       "1                             0                    3   \n",
       "2                             0                    1   \n",
       "3                             0                    2   \n",
       "4                             1                    1   \n",
       "\n",
       "   Most-valuable-available-asset  Age-years  Type-of-apartment  \\\n",
       "0                              1         36                  1   \n",
       "1                              1         39                  1   \n",
       "2                              4         23                  1   \n",
       "3                              1         36                  1   \n",
       "4                              3         31                  2   \n",
       "\n",
       "   No-of-dependents  Foreign-Worker  Purpose_New car  Purpose_Used car  \\\n",
       "0                 2               1                0                 0   \n",
       "1                 2               2                0                 0   \n",
       "2                 1               1                0                 0   \n",
       "3                 2               1                0                 0   \n",
       "4                 1               1                0                 0   \n",
       "\n",
       "   No-of-Credits-at-this-Bank_More than 1  \n",
       "0                                       1  \n",
       "1                                       1  \n",
       "2                                       0  \n",
       "3                                       1  \n",
       "4                                       0  "
      ]
     },
     "execution_count": 161,
     "metadata": {},
     "output_type": "execute_result"
    }
   ],
   "source": [
    "test.head()"
   ]
  },
  {
   "cell_type": "code",
   "execution_count": null,
   "id": "339939d0-04c0-4844-a17f-38bb8a0fef9e",
   "metadata": {},
   "outputs": [],
   "source": []
  },
  {
   "cell_type": "code",
   "execution_count": 162,
   "id": "9ddb88f0-bc81-4cea-93a7-b23034cbdcce",
   "metadata": {},
   "outputs": [
    {
     "data": {
      "text/plain": [
       "Index(['Credit-Application-Result', 'Account-Balance',\n",
       "       'Duration-of-Credit-Month', 'Payment-Status-of-Previous-Credit',\n",
       "       'Credit-Amount', 'Length-of-current-employment', 'Instalment-per-cent',\n",
       "       'Most-valuable-available-asset', 'Age-years', 'Type-of-apartment',\n",
       "       'No-of-dependents', 'Foreign-Worker', 'Purpose_New car',\n",
       "       'Purpose_Other', 'Purpose_Used car',\n",
       "       'No-of-Credits-at-this-Bank_More than 1'],\n",
       "      dtype='object')"
      ]
     },
     "execution_count": 162,
     "metadata": {},
     "output_type": "execute_result"
    }
   ],
   "source": [
    "df.columns"
   ]
  },
  {
   "cell_type": "code",
   "execution_count": 163,
   "id": "efc1cb02-4488-4c80-a8ad-16536b259940",
   "metadata": {},
   "outputs": [
    {
     "data": {
      "text/plain": [
       "Index(['Account-Balance', 'Duration-of-Credit-Month',\n",
       "       'Payment-Status-of-Previous-Credit', 'Credit-Amount',\n",
       "       'Length-of-current-employment', 'Instalment-per-cent',\n",
       "       'Most-valuable-available-asset', 'Age-years', 'Type-of-apartment',\n",
       "       'No-of-dependents', 'Foreign-Worker', 'Purpose_New car',\n",
       "       'Purpose_Used car', 'No-of-Credits-at-this-Bank_More than 1'],\n",
       "      dtype='object')"
      ]
     },
     "execution_count": 163,
     "metadata": {},
     "output_type": "execute_result"
    }
   ],
   "source": [
    "test.columns"
   ]
  },
  {
   "cell_type": "code",
   "execution_count": 164,
   "id": "afdd1f91-a63f-49ff-9ae9-2e08527aa727",
   "metadata": {},
   "outputs": [
    {
     "data": {
      "text/plain": [
       "Index(['Account-Balance', 'Duration-of-Credit-Month',\n",
       "       'Payment-Status-of-Previous-Credit', 'Credit-Amount',\n",
       "       'Length-of-current-employment', 'Instalment-per-cent',\n",
       "       'Most-valuable-available-asset', 'Age-years', 'Type-of-apartment',\n",
       "       'No-of-dependents', 'Foreign-Worker', 'Purpose_New car',\n",
       "       'Purpose_Used car', 'No-of-Credits-at-this-Bank_More than 1'],\n",
       "      dtype='object')"
      ]
     },
     "execution_count": 164,
     "metadata": {},
     "output_type": "execute_result"
    }
   ],
   "source": [
    "X_train.columns"
   ]
  },
  {
   "cell_type": "markdown",
   "id": "57bb1b3a-6923-44c5-8eec-ee5d8fbbfce4",
   "metadata": {},
   "source": [
    "*Comment: Since there is one feature difference ('Purpose_Other'), therefore first will drop this from the X_train and apply the best model on X_test.*"
   ]
  },
  {
   "cell_type": "code",
   "execution_count": null,
   "id": "cdaa4d8d-7397-4a37-8652-3996208803ac",
   "metadata": {},
   "outputs": [],
   "source": []
  },
  {
   "cell_type": "code",
   "execution_count": 165,
   "id": "6cadc3ac-e1fc-466e-abcc-d128adc62746",
   "metadata": {},
   "outputs": [],
   "source": [
    "X = df.drop(['Credit-Application-Result','Purpose_Other'], axis=1)\n",
    "y = df['Credit-Application-Result']\n",
    "\n",
    "X_train,X_test,y_train,y_test = train_test_split(X,y,test_size = 0.25,stratify = y,random_state = 0)"
   ]
  },
  {
   "cell_type": "code",
   "execution_count": null,
   "id": "638bf0bd-02ee-498f-bd98-90d8280c7194",
   "metadata": {},
   "outputs": [],
   "source": []
  },
  {
   "cell_type": "code",
   "execution_count": 166,
   "id": "c2626c67-2d32-4ebc-9d9d-7734505384bc",
   "metadata": {},
   "outputs": [
    {
     "name": "stdout",
     "output_type": "stream",
     "text": [
      "Stacking Model Accuracy: 0.78\n"
     ]
    }
   ],
   "source": [
    "base_models = [\n",
    "    ('rf', RandomForestClassifier(n_estimators=100, max_depth=None, min_samples_leaf=4, min_samples_split=2, max_features=10,max_leaf_nodes=5,random_state=42)),\n",
    "    ('lr', LogisticRegression(C=1, max_iter=100, penalty='l1', solver='liblinear', random_state=42))\n",
    "]\n",
    "\n",
    "meta_model = RandomForestClassifier(n_estimators=100, max_depth=None, min_samples_leaf=4, min_samples_split=2, max_features=10,max_leaf_nodes=5,random_state=42)\n",
    "\n",
    "stacking_model = StackingClassifier(\n",
    "    estimators=base_models,\n",
    "    final_estimator=meta_model,\n",
    "    cv=5  \n",
    ")\n",
    "\n",
    "stacking_model.fit(X_train, y_train)\n",
    "\n",
    "y_pred_stack = stacking_model.predict(X_test)\n",
    "print('Stacking Model Accuracy: {:.2f}'.format(accuracy_score(y_test, y_pred_stack)))"
   ]
  },
  {
   "cell_type": "code",
   "execution_count": 167,
   "id": "e794c59b-757c-4873-a4ef-62c1afd5d067",
   "metadata": {},
   "outputs": [],
   "source": [
    "y_pred_final = stacking_model.predict(test)"
   ]
  },
  {
   "cell_type": "code",
   "execution_count": 168,
   "id": "2259becf-604c-4266-b8e8-8ee79766c220",
   "metadata": {},
   "outputs": [
    {
     "data": {
      "text/plain": [
       "array([1, 1, 0, 1, 1, 1, 0, 1, 0, 1, 1, 1, 1, 1, 1, 1, 1, 1, 1, 0, 1, 1,\n",
       "       1, 1, 1, 1, 1, 1, 1, 1, 1, 1, 1, 1, 1, 1, 1, 1, 0, 1, 1, 0, 1, 1,\n",
       "       1, 1, 1, 1, 1, 1, 1, 1, 1, 1, 1, 0, 1, 1, 1, 1, 1, 1, 1, 1, 1, 1,\n",
       "       1, 1, 1, 1, 1, 0, 1, 1, 1, 1, 1, 1, 1, 1, 1, 1, 1, 1, 0, 1, 1, 1,\n",
       "       1, 0, 1, 1, 1, 1, 1, 1, 1, 0, 1, 1, 0, 1, 1, 1, 1, 1, 1, 1, 1, 1,\n",
       "       1, 1, 1, 1, 1, 1, 1, 1, 1, 1, 1, 1, 1, 1, 1, 1, 1, 1, 1, 1, 1, 1,\n",
       "       1, 1, 1, 1, 1, 1, 1, 1, 1, 1, 1, 1, 1, 1, 1, 1, 1, 1, 1, 1, 1, 1,\n",
       "       1, 1, 1, 1, 1, 1, 1, 1, 1, 1, 1, 1, 1, 1, 1, 1, 1, 1, 1, 1, 1, 1,\n",
       "       1, 1, 1, 1, 1, 1, 0, 1, 1, 0, 1, 1, 1, 1, 1, 1, 1, 1, 1, 0, 1, 1,\n",
       "       0, 1, 1, 1, 1, 1, 1, 1, 1, 1, 1, 1, 1, 1, 1, 1, 1, 1, 1, 1, 1, 0,\n",
       "       1, 1, 1, 1, 1, 1, 1, 1, 1, 1, 1, 1, 1, 1, 1, 1, 1, 1, 1, 1, 0, 1,\n",
       "       1, 1, 1, 1, 1, 1, 1, 1, 1, 1, 1, 1, 1, 1, 1, 1, 1, 1, 1, 1, 1, 0,\n",
       "       0, 1, 1, 0, 1, 1, 1, 1, 1, 0, 0, 0, 1, 1, 1, 0, 0, 1, 1, 1, 1, 0,\n",
       "       0, 1, 1, 0, 0, 0, 1, 1, 1, 0, 1, 1, 0, 1, 1, 1, 1, 1, 0, 1, 0, 1,\n",
       "       0, 0, 0, 1, 1, 1, 1, 1, 1, 0, 1, 1, 1, 0, 1, 1, 1, 1, 1, 1, 1, 1,\n",
       "       1, 1, 1, 0, 1, 1, 1, 1, 1, 1, 1, 1, 1, 1, 1, 1, 1, 0, 0, 0, 1, 1,\n",
       "       1, 0, 1, 1, 0, 1, 1, 1, 0, 1, 1, 1, 1, 1, 1, 1, 1, 1, 1, 1, 1, 0,\n",
       "       0, 1, 1, 1, 0, 1, 1, 1, 1, 0, 1, 1, 1, 0, 1, 0, 1, 0, 0, 1, 0, 1,\n",
       "       1, 1, 0, 1, 1, 0, 1, 0, 1, 1, 1, 1, 0, 1, 1, 1, 1, 1, 1, 1, 1, 1,\n",
       "       1, 1, 0, 0, 1, 0, 0, 1, 1, 1, 1, 1, 1, 0, 1, 0, 1, 1, 0, 0, 0, 1,\n",
       "       0, 1, 0, 0, 1, 1, 0, 1, 1, 1, 1, 0, 0, 1, 1, 0, 0, 0, 0, 1, 0, 1,\n",
       "       1, 1, 1, 0, 1, 1, 1, 0, 1, 1, 0, 1, 1, 1, 0, 1, 0, 1, 1, 1, 1, 0,\n",
       "       0, 1, 0, 1, 1, 1, 1, 0, 1, 1, 1, 1, 0, 1, 1, 0], dtype=int64)"
      ]
     },
     "execution_count": 168,
     "metadata": {},
     "output_type": "execute_result"
    }
   ],
   "source": [
    "y_pred_final "
   ]
  },
  {
   "cell_type": "code",
   "execution_count": 169,
   "id": "2de64724-5b42-45aa-9c14-66610c6eebd4",
   "metadata": {},
   "outputs": [],
   "source": [
    "test['Predicted_Creditworthiness'] = y_pred_final"
   ]
  },
  {
   "cell_type": "code",
   "execution_count": 170,
   "id": "eb6f812b-d5d3-43fa-bade-7a76a385cc2c",
   "metadata": {},
   "outputs": [],
   "source": [
    "encoded = {'Predicted_Creditworthiness': {0: 'Non-Creditworthy', 1: 'Creditworthy', }}\n",
    "test = test.replace(encoded)"
   ]
  },
  {
   "cell_type": "code",
   "execution_count": 171,
   "id": "79f754ae-1190-43b4-a715-404a7f229745",
   "metadata": {},
   "outputs": [
    {
     "data": {
      "text/plain": [
       "Index(['Account-Balance', 'Duration-of-Credit-Month',\n",
       "       'Payment-Status-of-Previous-Credit', 'Credit-Amount',\n",
       "       'Length-of-current-employment', 'Instalment-per-cent',\n",
       "       'Most-valuable-available-asset', 'Age-years', 'Type-of-apartment',\n",
       "       'No-of-dependents', 'Foreign-Worker', 'Purpose_New car',\n",
       "       'Purpose_Used car', 'No-of-Credits-at-this-Bank_More than 1',\n",
       "       'Predicted_Creditworthiness'],\n",
       "      dtype='object')"
      ]
     },
     "execution_count": 171,
     "metadata": {},
     "output_type": "execute_result"
    }
   ],
   "source": [
    "test.columns"
   ]
  },
  {
   "cell_type": "code",
   "execution_count": 172,
   "id": "78d93d41-c4c2-4f5e-b14b-5ebc1e7405eb",
   "metadata": {},
   "outputs": [],
   "source": [
    "new_column_order = [\n",
    "    'Predicted_Creditworthiness', \n",
    "    'Account-Balance',\n",
    "    'Duration-of-Credit-Month',\n",
    "    'Payment-Status-of-Previous-Credit',\n",
    "    'Credit-Amount',\n",
    "    'Length-of-current-employment',\n",
    "    'Instalment-per-cent',\n",
    "    'Most-valuable-available-asset',\n",
    "    'Age-years',\n",
    "    'Type-of-apartment',\n",
    "    'No-of-dependents',\n",
    "    'Foreign-Worker',\n",
    "    'Purpose_New car',\n",
    "    'Purpose_Used car',\n",
    "    'No-of-Credits-at-this-Bank_More than 1'\n",
    "]"
   ]
  },
  {
   "cell_type": "code",
   "execution_count": 173,
   "id": "6b0f4716-b295-41b2-8ee0-a584c5dfc205",
   "metadata": {},
   "outputs": [],
   "source": [
    "test = test[new_column_order]"
   ]
  },
  {
   "cell_type": "code",
   "execution_count": 174,
   "id": "8a77d4b6-ab2e-4506-8eb9-f147167c8e1c",
   "metadata": {},
   "outputs": [
    {
     "data": {
      "text/html": [
       "<div>\n",
       "<style scoped>\n",
       "    .dataframe tbody tr th:only-of-type {\n",
       "        vertical-align: middle;\n",
       "    }\n",
       "\n",
       "    .dataframe tbody tr th {\n",
       "        vertical-align: top;\n",
       "    }\n",
       "\n",
       "    .dataframe thead th {\n",
       "        text-align: right;\n",
       "    }\n",
       "</style>\n",
       "<table border=\"1\" class=\"dataframe\">\n",
       "  <thead>\n",
       "    <tr style=\"text-align: right;\">\n",
       "      <th></th>\n",
       "      <th>Predicted_Creditworthiness</th>\n",
       "      <th>Account-Balance</th>\n",
       "      <th>Duration-of-Credit-Month</th>\n",
       "      <th>Payment-Status-of-Previous-Credit</th>\n",
       "      <th>Credit-Amount</th>\n",
       "      <th>Length-of-current-employment</th>\n",
       "      <th>Instalment-per-cent</th>\n",
       "      <th>Most-valuable-available-asset</th>\n",
       "      <th>Age-years</th>\n",
       "      <th>Type-of-apartment</th>\n",
       "      <th>No-of-dependents</th>\n",
       "      <th>Foreign-Worker</th>\n",
       "      <th>Purpose_New car</th>\n",
       "      <th>Purpose_Used car</th>\n",
       "      <th>No-of-Credits-at-this-Bank_More than 1</th>\n",
       "    </tr>\n",
       "  </thead>\n",
       "  <tbody>\n",
       "    <tr>\n",
       "      <th>0</th>\n",
       "      <td>Creditworthy</td>\n",
       "      <td>0</td>\n",
       "      <td>9</td>\n",
       "      <td>1</td>\n",
       "      <td>2799</td>\n",
       "      <td>0</td>\n",
       "      <td>2</td>\n",
       "      <td>1</td>\n",
       "      <td>36</td>\n",
       "      <td>1</td>\n",
       "      <td>2</td>\n",
       "      <td>1</td>\n",
       "      <td>0</td>\n",
       "      <td>0</td>\n",
       "      <td>1</td>\n",
       "    </tr>\n",
       "    <tr>\n",
       "      <th>1</th>\n",
       "      <td>Creditworthy</td>\n",
       "      <td>0</td>\n",
       "      <td>12</td>\n",
       "      <td>1</td>\n",
       "      <td>2122</td>\n",
       "      <td>0</td>\n",
       "      <td>3</td>\n",
       "      <td>1</td>\n",
       "      <td>39</td>\n",
       "      <td>1</td>\n",
       "      <td>2</td>\n",
       "      <td>2</td>\n",
       "      <td>0</td>\n",
       "      <td>0</td>\n",
       "      <td>1</td>\n",
       "    </tr>\n",
       "    <tr>\n",
       "      <th>2</th>\n",
       "      <td>Non-Creditworthy</td>\n",
       "      <td>0</td>\n",
       "      <td>24</td>\n",
       "      <td>2</td>\n",
       "      <td>3758</td>\n",
       "      <td>0</td>\n",
       "      <td>1</td>\n",
       "      <td>4</td>\n",
       "      <td>23</td>\n",
       "      <td>1</td>\n",
       "      <td>1</td>\n",
       "      <td>1</td>\n",
       "      <td>0</td>\n",
       "      <td>0</td>\n",
       "      <td>0</td>\n",
       "    </tr>\n",
       "    <tr>\n",
       "      <th>3</th>\n",
       "      <td>Creditworthy</td>\n",
       "      <td>0</td>\n",
       "      <td>11</td>\n",
       "      <td>1</td>\n",
       "      <td>3905</td>\n",
       "      <td>0</td>\n",
       "      <td>2</td>\n",
       "      <td>1</td>\n",
       "      <td>36</td>\n",
       "      <td>1</td>\n",
       "      <td>2</td>\n",
       "      <td>1</td>\n",
       "      <td>0</td>\n",
       "      <td>0</td>\n",
       "      <td>1</td>\n",
       "    </tr>\n",
       "    <tr>\n",
       "      <th>4</th>\n",
       "      <td>Creditworthy</td>\n",
       "      <td>0</td>\n",
       "      <td>6</td>\n",
       "      <td>1</td>\n",
       "      <td>1957</td>\n",
       "      <td>1</td>\n",
       "      <td>1</td>\n",
       "      <td>3</td>\n",
       "      <td>31</td>\n",
       "      <td>2</td>\n",
       "      <td>1</td>\n",
       "      <td>1</td>\n",
       "      <td>0</td>\n",
       "      <td>0</td>\n",
       "      <td>0</td>\n",
       "    </tr>\n",
       "  </tbody>\n",
       "</table>\n",
       "</div>"
      ],
      "text/plain": [
       "  Predicted_Creditworthiness  Account-Balance  Duration-of-Credit-Month  \\\n",
       "0               Creditworthy                0                         9   \n",
       "1               Creditworthy                0                        12   \n",
       "2           Non-Creditworthy                0                        24   \n",
       "3               Creditworthy                0                        11   \n",
       "4               Creditworthy                0                         6   \n",
       "\n",
       "   Payment-Status-of-Previous-Credit  Credit-Amount  \\\n",
       "0                                  1           2799   \n",
       "1                                  1           2122   \n",
       "2                                  2           3758   \n",
       "3                                  1           3905   \n",
       "4                                  1           1957   \n",
       "\n",
       "   Length-of-current-employment  Instalment-per-cent  \\\n",
       "0                             0                    2   \n",
       "1                             0                    3   \n",
       "2                             0                    1   \n",
       "3                             0                    2   \n",
       "4                             1                    1   \n",
       "\n",
       "   Most-valuable-available-asset  Age-years  Type-of-apartment  \\\n",
       "0                              1         36                  1   \n",
       "1                              1         39                  1   \n",
       "2                              4         23                  1   \n",
       "3                              1         36                  1   \n",
       "4                              3         31                  2   \n",
       "\n",
       "   No-of-dependents  Foreign-Worker  Purpose_New car  Purpose_Used car  \\\n",
       "0                 2               1                0                 0   \n",
       "1                 2               2                0                 0   \n",
       "2                 1               1                0                 0   \n",
       "3                 2               1                0                 0   \n",
       "4                 1               1                0                 0   \n",
       "\n",
       "   No-of-Credits-at-this-Bank_More than 1  \n",
       "0                                       1  \n",
       "1                                       1  \n",
       "2                                       0  \n",
       "3                                       1  \n",
       "4                                       0  "
      ]
     },
     "execution_count": 174,
     "metadata": {},
     "output_type": "execute_result"
    }
   ],
   "source": [
    "test.head()"
   ]
  },
  {
   "cell_type": "code",
   "execution_count": 176,
   "id": "b73b0909-7896-4246-805b-0c8406a2e2a3",
   "metadata": {},
   "outputs": [],
   "source": [
    "test.to_csv('test_with_predictions.csv', index=False)"
   ]
  },
  {
   "cell_type": "code",
   "execution_count": null,
   "id": "7baf7ddb-57a1-4e0f-89cc-c794440fd717",
   "metadata": {},
   "outputs": [],
   "source": []
  }
 ],
 "metadata": {
  "kernelspec": {
   "display_name": "Python 3 (ipykernel)",
   "language": "python",
   "name": "python3"
  },
  "language_info": {
   "codemirror_mode": {
    "name": "ipython",
    "version": 3
   },
   "file_extension": ".py",
   "mimetype": "text/x-python",
   "name": "python",
   "nbconvert_exporter": "python",
   "pygments_lexer": "ipython3",
   "version": "3.11.9"
  }
 },
 "nbformat": 4,
 "nbformat_minor": 5
}
