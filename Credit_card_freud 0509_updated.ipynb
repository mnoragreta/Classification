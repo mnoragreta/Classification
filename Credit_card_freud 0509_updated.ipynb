{
  "cells": [
    {
      "cell_type": "markdown",
      "id": "09fb0be0",
      "metadata": {
        "id": "09fb0be0"
      },
      "source": [
        "# Context #\n",
        "It is important that credit card companies are able to recognize fraudulent credit card transactions so that customers are not charged for items that they did not purchase.\n",
        "\n",
        "# Content #\n",
        "The dataset contains transactions made by credit cards in September 2013 by European cardholders.\n",
        "This dataset presents transactions that occurred in two days, where we have 492 frauds out of 284,807 transactions. The dataset is highly unbalanced, the positive class (frauds) account for 0.172% of all transactions.\n",
        "Feature 'Class' is the response variable and it takes value 1 in case of fraud and 0 otherwise.\n",
        "\n",
        "During this exercise I would like to compare 2 methodologies once the train_test split is carried out:\n",
        "\n",
        "    1. Over and undersampling on scaled dataset and then machine learning prediction\n",
        "    2. Stratified Kfold - resampling during cross validation and then machine learning prediction\n",
        "\n",
        "\n",
        "I will focus on precision and recall evaluation metrics, since accuracy is not reliable in case of imbalanced datasets.\n",
        "\n"
      ]
    },
    {
      "cell_type": "markdown",
      "id": "d24e8f95",
      "metadata": {
        "id": "d24e8f95"
      },
      "source": [
        "## I. Data collection"
      ]
    },
    {
      "cell_type": "code",
      "source": [
        "#pip install catboost"
      ],
      "metadata": {
        "colab": {
          "base_uri": "https://localhost:8080/"
        },
        "id": "fNH35K_WosuP",
        "outputId": "1fc68f7d-0529-40d0-ec2e-d400d87aa347"
      },
      "id": "fNH35K_WosuP",
      "execution_count": 1,
      "outputs": [
        {
          "output_type": "stream",
          "name": "stdout",
          "text": [
            "Collecting catboost\n",
            "  Downloading catboost-1.2.5-cp310-cp310-manylinux2014_x86_64.whl (98.2 MB)\n",
            "\u001b[2K     \u001b[90m━━━━━━━━━━━━━━━━━━━━━━━━━━━━━━━━━━━━━━━━\u001b[0m \u001b[32m98.2/98.2 MB\u001b[0m \u001b[31m16.5 MB/s\u001b[0m eta \u001b[36m0:00:00\u001b[0m\n",
            "\u001b[?25hRequirement already satisfied: graphviz in /usr/local/lib/python3.10/dist-packages (from catboost) (0.20.3)\n",
            "Requirement already satisfied: matplotlib in /usr/local/lib/python3.10/dist-packages (from catboost) (3.7.1)\n",
            "Requirement already satisfied: numpy>=1.16.0 in /usr/local/lib/python3.10/dist-packages (from catboost) (1.25.2)\n",
            "Requirement already satisfied: pandas>=0.24 in /usr/local/lib/python3.10/dist-packages (from catboost) (2.0.3)\n",
            "Requirement already satisfied: scipy in /usr/local/lib/python3.10/dist-packages (from catboost) (1.11.4)\n",
            "Requirement already satisfied: plotly in /usr/local/lib/python3.10/dist-packages (from catboost) (5.15.0)\n",
            "Requirement already satisfied: six in /usr/local/lib/python3.10/dist-packages (from catboost) (1.16.0)\n",
            "Requirement already satisfied: python-dateutil>=2.8.2 in /usr/local/lib/python3.10/dist-packages (from pandas>=0.24->catboost) (2.8.2)\n",
            "Requirement already satisfied: pytz>=2020.1 in /usr/local/lib/python3.10/dist-packages (from pandas>=0.24->catboost) (2023.4)\n",
            "Requirement already satisfied: tzdata>=2022.1 in /usr/local/lib/python3.10/dist-packages (from pandas>=0.24->catboost) (2024.1)\n",
            "Requirement already satisfied: contourpy>=1.0.1 in /usr/local/lib/python3.10/dist-packages (from matplotlib->catboost) (1.2.1)\n",
            "Requirement already satisfied: cycler>=0.10 in /usr/local/lib/python3.10/dist-packages (from matplotlib->catboost) (0.12.1)\n",
            "Requirement already satisfied: fonttools>=4.22.0 in /usr/local/lib/python3.10/dist-packages (from matplotlib->catboost) (4.51.0)\n",
            "Requirement already satisfied: kiwisolver>=1.0.1 in /usr/local/lib/python3.10/dist-packages (from matplotlib->catboost) (1.4.5)\n",
            "Requirement already satisfied: packaging>=20.0 in /usr/local/lib/python3.10/dist-packages (from matplotlib->catboost) (24.0)\n",
            "Requirement already satisfied: pillow>=6.2.0 in /usr/local/lib/python3.10/dist-packages (from matplotlib->catboost) (9.4.0)\n",
            "Requirement already satisfied: pyparsing>=2.3.1 in /usr/local/lib/python3.10/dist-packages (from matplotlib->catboost) (3.1.2)\n",
            "Requirement already satisfied: tenacity>=6.2.0 in /usr/local/lib/python3.10/dist-packages (from plotly->catboost) (8.2.3)\n",
            "Installing collected packages: catboost\n",
            "Successfully installed catboost-1.2.5\n"
          ]
        }
      ]
    },
    {
      "cell_type": "code",
      "execution_count": 49,
      "id": "2e530bf2",
      "metadata": {
        "id": "2e530bf2"
      },
      "outputs": [],
      "source": [
        "import numpy as np\n",
        "import pandas as pd\n",
        "import matplotlib.pyplot as plt\n",
        "import seaborn as sns\n",
        "import warnings\n",
        "warnings.filterwarnings(\"ignore\")\n",
        "\n",
        "from sklearn.pipeline import Pipeline\n",
        "from sklearn.preprocessing import StandardScaler\n",
        "from imblearn.under_sampling import RandomUnderSampler\n",
        "from collections import Counter\n",
        "from imblearn.over_sampling import SMOTE\n",
        "from imblearn.over_sampling import RandomOverSampler\n",
        "from imblearn.under_sampling import RandomUnderSampler\n",
        "#from imblearn.pipeline import Pipeline\n",
        "from imblearn.pipeline import make_pipeline\n",
        "from imblearn.pipeline import Pipeline as ImbPipeline\n",
        "from sklearn.model_selection import StratifiedKFold, cross_val_score\n",
        "from sklearn.svm import SVC\n",
        "from sklearn.neighbors import KNeighborsClassifier\n",
        "from sklearn.model_selection import train_test_split\n",
        "from sklearn.linear_model import LogisticRegression\n",
        "from sklearn.ensemble import RandomForestClassifier\n",
        "from sklearn.ensemble import GradientBoostingClassifier\n",
        "from xgboost import XGBClassifier\n",
        "from catboost import CatBoostClassifier\n",
        "import lightgbm as lgb\n",
        "\n",
        "from sklearn.metrics import confusion_matrix\n",
        "from sklearn.metrics import accuracy_score, precision_score, recall_score, f1_score, auc\n",
        "from sklearn.metrics import make_scorer\n",
        "from sklearn.metrics import classification_report\n",
        "from sklearn.model_selection import cross_val_score\n",
        "from sklearn.metrics import roc_curve, roc_auc_score\n",
        "from sklearn.metrics import roc_auc_score\n",
        "from sklearn.metrics import RocCurveDisplay\n",
        "from sklearn.metrics import precision_recall_curve\n",
        "from sklearn.metrics import PrecisionRecallDisplay\n",
        "from sklearn.model_selection import RandomizedSearchCV\n",
        "from sklearn.model_selection import GridSearchCV\n"
      ]
    },
    {
      "cell_type": "code",
      "source": [
        "#data = pd.read_csv(r\"C:\\Users\\lily\\Desktop\\IT alapok privát\\PORTFOLIO PROJECT\\creditcard.csv\")"
      ],
      "metadata": {
        "id": "ohukLJ_CbUl6"
      },
      "id": "ohukLJ_CbUl6",
      "execution_count": 3,
      "outputs": []
    },
    {
      "cell_type": "code",
      "source": [
        "data = pd.read_csv(\"/content/creditcard.csv\")"
      ],
      "metadata": {
        "id": "m5M_zenLbWDb"
      },
      "id": "m5M_zenLbWDb",
      "execution_count": 4,
      "outputs": []
    },
    {
      "cell_type": "code",
      "execution_count": 5,
      "id": "e3ff8f97",
      "metadata": {
        "colab": {
          "base_uri": "https://localhost:8080/",
          "height": 443
        },
        "id": "e3ff8f97",
        "outputId": "6c9e7d25-10a1-4bc5-f6ae-2830ef7d5144"
      },
      "outputs": [
        {
          "output_type": "execute_result",
          "data": {
            "text/plain": [
              "        Time        V1        V2        V3        V4        V5        V6  \\\n",
              "0          0 -1.359807 -0.072781  2.536347  1.378155 -0.338321  0.462388   \n",
              "1          0  1.191857  0.266151  0.166480  0.448154  0.060018 -0.082361   \n",
              "2          1 -1.358354 -1.340163  1.773209  0.379780 -0.503198  1.800499   \n",
              "3          1 -0.966272 -0.185226  1.792993 -0.863291 -0.010309  1.247203   \n",
              "4          2 -1.158233  0.877737  1.548718  0.403034 -0.407193  0.095921   \n",
              "...      ...       ...       ...       ...       ...       ...       ...   \n",
              "13949  24754  1.252924 -0.182189 -0.802716 -0.210981  1.916713  3.643624   \n",
              "13950  24756 -0.346979 -2.103284 -0.685061  1.961605 -0.401125  0.473632   \n",
              "13951  24759 -6.053652 -5.988723  0.810413 -0.011811  1.308135 -0.590803   \n",
              "13952  24759  1.169121 -1.284945  0.032717 -0.681670  0.660598  4.412578   \n",
              "13953  24759 -6.917152  5.854171 -1.652458 -1.488884 -0.833891 -0.344418   \n",
              "\n",
              "             V7        V8        V9  ...       V21       V22       V23  \\\n",
              "0      0.239599  0.098698  0.363787  ... -0.018307  0.277838 -0.110474   \n",
              "1     -0.078803  0.085102 -0.255425  ... -0.225775 -0.638672  0.101288   \n",
              "2      0.791461  0.247676 -1.514654  ...  0.247998  0.771679  0.909412   \n",
              "3      0.237609  0.377436 -1.387024  ... -0.108300  0.005274 -0.190321   \n",
              "4      0.592941 -0.270533  0.817739  ... -0.009431  0.798278 -0.137458   \n",
              "...         ...       ...       ...  ...       ...       ...       ...   \n",
              "13949 -0.778711  0.818295  1.706962  ... -0.497088 -1.211285  0.043809   \n",
              "13950  1.133816 -0.256528  0.893409  ...  0.359662 -0.316275 -0.864259   \n",
              "13951 -0.725838 -0.234840  1.624646  ... -0.771970  1.474668  3.176363   \n",
              "13952 -1.913115  1.076592  1.501230  ... -0.557596 -0.882435 -0.041523   \n",
              "13953  0.393789  0.379968  6.133597  ... -1.404681 -1.124694  0.174333   \n",
              "\n",
              "            V24       V25       V26       V27       V28  Amount  Class  \n",
              "0      0.066928  0.128539 -0.189115  0.133558 -0.021053  149.62    0.0  \n",
              "1     -0.339846  0.167170  0.125895 -0.008983  0.014724    2.69    0.0  \n",
              "2     -0.689281 -0.327642 -0.139097 -0.055353 -0.059752  378.66    0.0  \n",
              "3     -1.175575  0.647376 -0.221929  0.062723  0.061458  123.50    0.0  \n",
              "4      0.141267 -0.206010  0.502292  0.219422  0.215153   69.99    0.0  \n",
              "...         ...       ...       ...       ...       ...     ...    ...  \n",
              "13949  0.964159  0.442030  0.261483 -0.051402  0.005112   23.74    0.0  \n",
              "13950 -0.279881  0.491802 -0.353996 -0.149931  0.129795  794.20    0.0  \n",
              "13951 -0.302410  0.052529 -0.373871 -0.700463  2.508443   60.00    0.0  \n",
              "13952  0.975445  0.297229  0.550515  0.015029  0.032067   90.00    0.0  \n",
              "13953 -0.528234  0.990685 -0.035875  1.071374 -0.168831     NaN    NaN  \n",
              "\n",
              "[13954 rows x 31 columns]"
            ],
            "text/html": [
              "\n",
              "  <div id=\"df-da283e9a-b742-4ae1-8615-31735cca5b72\" class=\"colab-df-container\">\n",
              "    <div>\n",
              "<style scoped>\n",
              "    .dataframe tbody tr th:only-of-type {\n",
              "        vertical-align: middle;\n",
              "    }\n",
              "\n",
              "    .dataframe tbody tr th {\n",
              "        vertical-align: top;\n",
              "    }\n",
              "\n",
              "    .dataframe thead th {\n",
              "        text-align: right;\n",
              "    }\n",
              "</style>\n",
              "<table border=\"1\" class=\"dataframe\">\n",
              "  <thead>\n",
              "    <tr style=\"text-align: right;\">\n",
              "      <th></th>\n",
              "      <th>Time</th>\n",
              "      <th>V1</th>\n",
              "      <th>V2</th>\n",
              "      <th>V3</th>\n",
              "      <th>V4</th>\n",
              "      <th>V5</th>\n",
              "      <th>V6</th>\n",
              "      <th>V7</th>\n",
              "      <th>V8</th>\n",
              "      <th>V9</th>\n",
              "      <th>...</th>\n",
              "      <th>V21</th>\n",
              "      <th>V22</th>\n",
              "      <th>V23</th>\n",
              "      <th>V24</th>\n",
              "      <th>V25</th>\n",
              "      <th>V26</th>\n",
              "      <th>V27</th>\n",
              "      <th>V28</th>\n",
              "      <th>Amount</th>\n",
              "      <th>Class</th>\n",
              "    </tr>\n",
              "  </thead>\n",
              "  <tbody>\n",
              "    <tr>\n",
              "      <th>0</th>\n",
              "      <td>0</td>\n",
              "      <td>-1.359807</td>\n",
              "      <td>-0.072781</td>\n",
              "      <td>2.536347</td>\n",
              "      <td>1.378155</td>\n",
              "      <td>-0.338321</td>\n",
              "      <td>0.462388</td>\n",
              "      <td>0.239599</td>\n",
              "      <td>0.098698</td>\n",
              "      <td>0.363787</td>\n",
              "      <td>...</td>\n",
              "      <td>-0.018307</td>\n",
              "      <td>0.277838</td>\n",
              "      <td>-0.110474</td>\n",
              "      <td>0.066928</td>\n",
              "      <td>0.128539</td>\n",
              "      <td>-0.189115</td>\n",
              "      <td>0.133558</td>\n",
              "      <td>-0.021053</td>\n",
              "      <td>149.62</td>\n",
              "      <td>0.0</td>\n",
              "    </tr>\n",
              "    <tr>\n",
              "      <th>1</th>\n",
              "      <td>0</td>\n",
              "      <td>1.191857</td>\n",
              "      <td>0.266151</td>\n",
              "      <td>0.166480</td>\n",
              "      <td>0.448154</td>\n",
              "      <td>0.060018</td>\n",
              "      <td>-0.082361</td>\n",
              "      <td>-0.078803</td>\n",
              "      <td>0.085102</td>\n",
              "      <td>-0.255425</td>\n",
              "      <td>...</td>\n",
              "      <td>-0.225775</td>\n",
              "      <td>-0.638672</td>\n",
              "      <td>0.101288</td>\n",
              "      <td>-0.339846</td>\n",
              "      <td>0.167170</td>\n",
              "      <td>0.125895</td>\n",
              "      <td>-0.008983</td>\n",
              "      <td>0.014724</td>\n",
              "      <td>2.69</td>\n",
              "      <td>0.0</td>\n",
              "    </tr>\n",
              "    <tr>\n",
              "      <th>2</th>\n",
              "      <td>1</td>\n",
              "      <td>-1.358354</td>\n",
              "      <td>-1.340163</td>\n",
              "      <td>1.773209</td>\n",
              "      <td>0.379780</td>\n",
              "      <td>-0.503198</td>\n",
              "      <td>1.800499</td>\n",
              "      <td>0.791461</td>\n",
              "      <td>0.247676</td>\n",
              "      <td>-1.514654</td>\n",
              "      <td>...</td>\n",
              "      <td>0.247998</td>\n",
              "      <td>0.771679</td>\n",
              "      <td>0.909412</td>\n",
              "      <td>-0.689281</td>\n",
              "      <td>-0.327642</td>\n",
              "      <td>-0.139097</td>\n",
              "      <td>-0.055353</td>\n",
              "      <td>-0.059752</td>\n",
              "      <td>378.66</td>\n",
              "      <td>0.0</td>\n",
              "    </tr>\n",
              "    <tr>\n",
              "      <th>3</th>\n",
              "      <td>1</td>\n",
              "      <td>-0.966272</td>\n",
              "      <td>-0.185226</td>\n",
              "      <td>1.792993</td>\n",
              "      <td>-0.863291</td>\n",
              "      <td>-0.010309</td>\n",
              "      <td>1.247203</td>\n",
              "      <td>0.237609</td>\n",
              "      <td>0.377436</td>\n",
              "      <td>-1.387024</td>\n",
              "      <td>...</td>\n",
              "      <td>-0.108300</td>\n",
              "      <td>0.005274</td>\n",
              "      <td>-0.190321</td>\n",
              "      <td>-1.175575</td>\n",
              "      <td>0.647376</td>\n",
              "      <td>-0.221929</td>\n",
              "      <td>0.062723</td>\n",
              "      <td>0.061458</td>\n",
              "      <td>123.50</td>\n",
              "      <td>0.0</td>\n",
              "    </tr>\n",
              "    <tr>\n",
              "      <th>4</th>\n",
              "      <td>2</td>\n",
              "      <td>-1.158233</td>\n",
              "      <td>0.877737</td>\n",
              "      <td>1.548718</td>\n",
              "      <td>0.403034</td>\n",
              "      <td>-0.407193</td>\n",
              "      <td>0.095921</td>\n",
              "      <td>0.592941</td>\n",
              "      <td>-0.270533</td>\n",
              "      <td>0.817739</td>\n",
              "      <td>...</td>\n",
              "      <td>-0.009431</td>\n",
              "      <td>0.798278</td>\n",
              "      <td>-0.137458</td>\n",
              "      <td>0.141267</td>\n",
              "      <td>-0.206010</td>\n",
              "      <td>0.502292</td>\n",
              "      <td>0.219422</td>\n",
              "      <td>0.215153</td>\n",
              "      <td>69.99</td>\n",
              "      <td>0.0</td>\n",
              "    </tr>\n",
              "    <tr>\n",
              "      <th>...</th>\n",
              "      <td>...</td>\n",
              "      <td>...</td>\n",
              "      <td>...</td>\n",
              "      <td>...</td>\n",
              "      <td>...</td>\n",
              "      <td>...</td>\n",
              "      <td>...</td>\n",
              "      <td>...</td>\n",
              "      <td>...</td>\n",
              "      <td>...</td>\n",
              "      <td>...</td>\n",
              "      <td>...</td>\n",
              "      <td>...</td>\n",
              "      <td>...</td>\n",
              "      <td>...</td>\n",
              "      <td>...</td>\n",
              "      <td>...</td>\n",
              "      <td>...</td>\n",
              "      <td>...</td>\n",
              "      <td>...</td>\n",
              "      <td>...</td>\n",
              "    </tr>\n",
              "    <tr>\n",
              "      <th>13949</th>\n",
              "      <td>24754</td>\n",
              "      <td>1.252924</td>\n",
              "      <td>-0.182189</td>\n",
              "      <td>-0.802716</td>\n",
              "      <td>-0.210981</td>\n",
              "      <td>1.916713</td>\n",
              "      <td>3.643624</td>\n",
              "      <td>-0.778711</td>\n",
              "      <td>0.818295</td>\n",
              "      <td>1.706962</td>\n",
              "      <td>...</td>\n",
              "      <td>-0.497088</td>\n",
              "      <td>-1.211285</td>\n",
              "      <td>0.043809</td>\n",
              "      <td>0.964159</td>\n",
              "      <td>0.442030</td>\n",
              "      <td>0.261483</td>\n",
              "      <td>-0.051402</td>\n",
              "      <td>0.005112</td>\n",
              "      <td>23.74</td>\n",
              "      <td>0.0</td>\n",
              "    </tr>\n",
              "    <tr>\n",
              "      <th>13950</th>\n",
              "      <td>24756</td>\n",
              "      <td>-0.346979</td>\n",
              "      <td>-2.103284</td>\n",
              "      <td>-0.685061</td>\n",
              "      <td>1.961605</td>\n",
              "      <td>-0.401125</td>\n",
              "      <td>0.473632</td>\n",
              "      <td>1.133816</td>\n",
              "      <td>-0.256528</td>\n",
              "      <td>0.893409</td>\n",
              "      <td>...</td>\n",
              "      <td>0.359662</td>\n",
              "      <td>-0.316275</td>\n",
              "      <td>-0.864259</td>\n",
              "      <td>-0.279881</td>\n",
              "      <td>0.491802</td>\n",
              "      <td>-0.353996</td>\n",
              "      <td>-0.149931</td>\n",
              "      <td>0.129795</td>\n",
              "      <td>794.20</td>\n",
              "      <td>0.0</td>\n",
              "    </tr>\n",
              "    <tr>\n",
              "      <th>13951</th>\n",
              "      <td>24759</td>\n",
              "      <td>-6.053652</td>\n",
              "      <td>-5.988723</td>\n",
              "      <td>0.810413</td>\n",
              "      <td>-0.011811</td>\n",
              "      <td>1.308135</td>\n",
              "      <td>-0.590803</td>\n",
              "      <td>-0.725838</td>\n",
              "      <td>-0.234840</td>\n",
              "      <td>1.624646</td>\n",
              "      <td>...</td>\n",
              "      <td>-0.771970</td>\n",
              "      <td>1.474668</td>\n",
              "      <td>3.176363</td>\n",
              "      <td>-0.302410</td>\n",
              "      <td>0.052529</td>\n",
              "      <td>-0.373871</td>\n",
              "      <td>-0.700463</td>\n",
              "      <td>2.508443</td>\n",
              "      <td>60.00</td>\n",
              "      <td>0.0</td>\n",
              "    </tr>\n",
              "    <tr>\n",
              "      <th>13952</th>\n",
              "      <td>24759</td>\n",
              "      <td>1.169121</td>\n",
              "      <td>-1.284945</td>\n",
              "      <td>0.032717</td>\n",
              "      <td>-0.681670</td>\n",
              "      <td>0.660598</td>\n",
              "      <td>4.412578</td>\n",
              "      <td>-1.913115</td>\n",
              "      <td>1.076592</td>\n",
              "      <td>1.501230</td>\n",
              "      <td>...</td>\n",
              "      <td>-0.557596</td>\n",
              "      <td>-0.882435</td>\n",
              "      <td>-0.041523</td>\n",
              "      <td>0.975445</td>\n",
              "      <td>0.297229</td>\n",
              "      <td>0.550515</td>\n",
              "      <td>0.015029</td>\n",
              "      <td>0.032067</td>\n",
              "      <td>90.00</td>\n",
              "      <td>0.0</td>\n",
              "    </tr>\n",
              "    <tr>\n",
              "      <th>13953</th>\n",
              "      <td>24759</td>\n",
              "      <td>-6.917152</td>\n",
              "      <td>5.854171</td>\n",
              "      <td>-1.652458</td>\n",
              "      <td>-1.488884</td>\n",
              "      <td>-0.833891</td>\n",
              "      <td>-0.344418</td>\n",
              "      <td>0.393789</td>\n",
              "      <td>0.379968</td>\n",
              "      <td>6.133597</td>\n",
              "      <td>...</td>\n",
              "      <td>-1.404681</td>\n",
              "      <td>-1.124694</td>\n",
              "      <td>0.174333</td>\n",
              "      <td>-0.528234</td>\n",
              "      <td>0.990685</td>\n",
              "      <td>-0.035875</td>\n",
              "      <td>1.071374</td>\n",
              "      <td>-0.168831</td>\n",
              "      <td>NaN</td>\n",
              "      <td>NaN</td>\n",
              "    </tr>\n",
              "  </tbody>\n",
              "</table>\n",
              "<p>13954 rows × 31 columns</p>\n",
              "</div>\n",
              "    <div class=\"colab-df-buttons\">\n",
              "\n",
              "  <div class=\"colab-df-container\">\n",
              "    <button class=\"colab-df-convert\" onclick=\"convertToInteractive('df-da283e9a-b742-4ae1-8615-31735cca5b72')\"\n",
              "            title=\"Convert this dataframe to an interactive table.\"\n",
              "            style=\"display:none;\">\n",
              "\n",
              "  <svg xmlns=\"http://www.w3.org/2000/svg\" height=\"24px\" viewBox=\"0 -960 960 960\">\n",
              "    <path d=\"M120-120v-720h720v720H120Zm60-500h600v-160H180v160Zm220 220h160v-160H400v160Zm0 220h160v-160H400v160ZM180-400h160v-160H180v160Zm440 0h160v-160H620v160ZM180-180h160v-160H180v160Zm440 0h160v-160H620v160Z\"/>\n",
              "  </svg>\n",
              "    </button>\n",
              "\n",
              "  <style>\n",
              "    .colab-df-container {\n",
              "      display:flex;\n",
              "      gap: 12px;\n",
              "    }\n",
              "\n",
              "    .colab-df-convert {\n",
              "      background-color: #E8F0FE;\n",
              "      border: none;\n",
              "      border-radius: 50%;\n",
              "      cursor: pointer;\n",
              "      display: none;\n",
              "      fill: #1967D2;\n",
              "      height: 32px;\n",
              "      padding: 0 0 0 0;\n",
              "      width: 32px;\n",
              "    }\n",
              "\n",
              "    .colab-df-convert:hover {\n",
              "      background-color: #E2EBFA;\n",
              "      box-shadow: 0px 1px 2px rgba(60, 64, 67, 0.3), 0px 1px 3px 1px rgba(60, 64, 67, 0.15);\n",
              "      fill: #174EA6;\n",
              "    }\n",
              "\n",
              "    .colab-df-buttons div {\n",
              "      margin-bottom: 4px;\n",
              "    }\n",
              "\n",
              "    [theme=dark] .colab-df-convert {\n",
              "      background-color: #3B4455;\n",
              "      fill: #D2E3FC;\n",
              "    }\n",
              "\n",
              "    [theme=dark] .colab-df-convert:hover {\n",
              "      background-color: #434B5C;\n",
              "      box-shadow: 0px 1px 3px 1px rgba(0, 0, 0, 0.15);\n",
              "      filter: drop-shadow(0px 1px 2px rgba(0, 0, 0, 0.3));\n",
              "      fill: #FFFFFF;\n",
              "    }\n",
              "  </style>\n",
              "\n",
              "    <script>\n",
              "      const buttonEl =\n",
              "        document.querySelector('#df-da283e9a-b742-4ae1-8615-31735cca5b72 button.colab-df-convert');\n",
              "      buttonEl.style.display =\n",
              "        google.colab.kernel.accessAllowed ? 'block' : 'none';\n",
              "\n",
              "      async function convertToInteractive(key) {\n",
              "        const element = document.querySelector('#df-da283e9a-b742-4ae1-8615-31735cca5b72');\n",
              "        const dataTable =\n",
              "          await google.colab.kernel.invokeFunction('convertToInteractive',\n",
              "                                                    [key], {});\n",
              "        if (!dataTable) return;\n",
              "\n",
              "        const docLinkHtml = 'Like what you see? Visit the ' +\n",
              "          '<a target=\"_blank\" href=https://colab.research.google.com/notebooks/data_table.ipynb>data table notebook</a>'\n",
              "          + ' to learn more about interactive tables.';\n",
              "        element.innerHTML = '';\n",
              "        dataTable['output_type'] = 'display_data';\n",
              "        await google.colab.output.renderOutput(dataTable, element);\n",
              "        const docLink = document.createElement('div');\n",
              "        docLink.innerHTML = docLinkHtml;\n",
              "        element.appendChild(docLink);\n",
              "      }\n",
              "    </script>\n",
              "  </div>\n",
              "\n",
              "\n",
              "<div id=\"df-08bd381c-45d8-4b40-b5a7-34e32aff460a\">\n",
              "  <button class=\"colab-df-quickchart\" onclick=\"quickchart('df-08bd381c-45d8-4b40-b5a7-34e32aff460a')\"\n",
              "            title=\"Suggest charts\"\n",
              "            style=\"display:none;\">\n",
              "\n",
              "<svg xmlns=\"http://www.w3.org/2000/svg\" height=\"24px\"viewBox=\"0 0 24 24\"\n",
              "     width=\"24px\">\n",
              "    <g>\n",
              "        <path d=\"M19 3H5c-1.1 0-2 .9-2 2v14c0 1.1.9 2 2 2h14c1.1 0 2-.9 2-2V5c0-1.1-.9-2-2-2zM9 17H7v-7h2v7zm4 0h-2V7h2v10zm4 0h-2v-4h2v4z\"/>\n",
              "    </g>\n",
              "</svg>\n",
              "  </button>\n",
              "\n",
              "<style>\n",
              "  .colab-df-quickchart {\n",
              "      --bg-color: #E8F0FE;\n",
              "      --fill-color: #1967D2;\n",
              "      --hover-bg-color: #E2EBFA;\n",
              "      --hover-fill-color: #174EA6;\n",
              "      --disabled-fill-color: #AAA;\n",
              "      --disabled-bg-color: #DDD;\n",
              "  }\n",
              "\n",
              "  [theme=dark] .colab-df-quickchart {\n",
              "      --bg-color: #3B4455;\n",
              "      --fill-color: #D2E3FC;\n",
              "      --hover-bg-color: #434B5C;\n",
              "      --hover-fill-color: #FFFFFF;\n",
              "      --disabled-bg-color: #3B4455;\n",
              "      --disabled-fill-color: #666;\n",
              "  }\n",
              "\n",
              "  .colab-df-quickchart {\n",
              "    background-color: var(--bg-color);\n",
              "    border: none;\n",
              "    border-radius: 50%;\n",
              "    cursor: pointer;\n",
              "    display: none;\n",
              "    fill: var(--fill-color);\n",
              "    height: 32px;\n",
              "    padding: 0;\n",
              "    width: 32px;\n",
              "  }\n",
              "\n",
              "  .colab-df-quickchart:hover {\n",
              "    background-color: var(--hover-bg-color);\n",
              "    box-shadow: 0 1px 2px rgba(60, 64, 67, 0.3), 0 1px 3px 1px rgba(60, 64, 67, 0.15);\n",
              "    fill: var(--button-hover-fill-color);\n",
              "  }\n",
              "\n",
              "  .colab-df-quickchart-complete:disabled,\n",
              "  .colab-df-quickchart-complete:disabled:hover {\n",
              "    background-color: var(--disabled-bg-color);\n",
              "    fill: var(--disabled-fill-color);\n",
              "    box-shadow: none;\n",
              "  }\n",
              "\n",
              "  .colab-df-spinner {\n",
              "    border: 2px solid var(--fill-color);\n",
              "    border-color: transparent;\n",
              "    border-bottom-color: var(--fill-color);\n",
              "    animation:\n",
              "      spin 1s steps(1) infinite;\n",
              "  }\n",
              "\n",
              "  @keyframes spin {\n",
              "    0% {\n",
              "      border-color: transparent;\n",
              "      border-bottom-color: var(--fill-color);\n",
              "      border-left-color: var(--fill-color);\n",
              "    }\n",
              "    20% {\n",
              "      border-color: transparent;\n",
              "      border-left-color: var(--fill-color);\n",
              "      border-top-color: var(--fill-color);\n",
              "    }\n",
              "    30% {\n",
              "      border-color: transparent;\n",
              "      border-left-color: var(--fill-color);\n",
              "      border-top-color: var(--fill-color);\n",
              "      border-right-color: var(--fill-color);\n",
              "    }\n",
              "    40% {\n",
              "      border-color: transparent;\n",
              "      border-right-color: var(--fill-color);\n",
              "      border-top-color: var(--fill-color);\n",
              "    }\n",
              "    60% {\n",
              "      border-color: transparent;\n",
              "      border-right-color: var(--fill-color);\n",
              "    }\n",
              "    80% {\n",
              "      border-color: transparent;\n",
              "      border-right-color: var(--fill-color);\n",
              "      border-bottom-color: var(--fill-color);\n",
              "    }\n",
              "    90% {\n",
              "      border-color: transparent;\n",
              "      border-bottom-color: var(--fill-color);\n",
              "    }\n",
              "  }\n",
              "</style>\n",
              "\n",
              "  <script>\n",
              "    async function quickchart(key) {\n",
              "      const quickchartButtonEl =\n",
              "        document.querySelector('#' + key + ' button');\n",
              "      quickchartButtonEl.disabled = true;  // To prevent multiple clicks.\n",
              "      quickchartButtonEl.classList.add('colab-df-spinner');\n",
              "      try {\n",
              "        const charts = await google.colab.kernel.invokeFunction(\n",
              "            'suggestCharts', [key], {});\n",
              "      } catch (error) {\n",
              "        console.error('Error during call to suggestCharts:', error);\n",
              "      }\n",
              "      quickchartButtonEl.classList.remove('colab-df-spinner');\n",
              "      quickchartButtonEl.classList.add('colab-df-quickchart-complete');\n",
              "    }\n",
              "    (() => {\n",
              "      let quickchartButtonEl =\n",
              "        document.querySelector('#df-08bd381c-45d8-4b40-b5a7-34e32aff460a button');\n",
              "      quickchartButtonEl.style.display =\n",
              "        google.colab.kernel.accessAllowed ? 'block' : 'none';\n",
              "    })();\n",
              "  </script>\n",
              "</div>\n",
              "    </div>\n",
              "  </div>\n"
            ],
            "application/vnd.google.colaboratory.intrinsic+json": {
              "type": "dataframe",
              "variable_name": "data"
            }
          },
          "metadata": {},
          "execution_count": 5
        }
      ],
      "source": [
        "data"
      ]
    },
    {
      "cell_type": "markdown",
      "id": "302fbf37",
      "metadata": {
        "id": "302fbf37"
      },
      "source": [
        "*Observation: Amount and Time : scaling will be needed , V1-V28 values are scaled (between 0 and 1)*"
      ]
    },
    {
      "cell_type": "markdown",
      "id": "Bt2QEeukQ6NY",
      "metadata": {
        "id": "Bt2QEeukQ6NY"
      },
      "source": [
        "## II. Exploratory data analysis"
      ]
    },
    {
      "cell_type": "code",
      "execution_count": 6,
      "id": "uc3fkOPUPNL8",
      "metadata": {
        "colab": {
          "base_uri": "https://localhost:8080/"
        },
        "id": "uc3fkOPUPNL8",
        "outputId": "ec96a93f-3218-40c8-bee8-6db987f498a1"
      },
      "outputs": [
        {
          "output_type": "stream",
          "name": "stdout",
          "text": [
            "<class 'pandas.core.frame.DataFrame'>\n",
            "RangeIndex: 13954 entries, 0 to 13953\n",
            "Data columns (total 31 columns):\n",
            " #   Column  Non-Null Count  Dtype  \n",
            "---  ------  --------------  -----  \n",
            " 0   Time    13954 non-null  int64  \n",
            " 1   V1      13954 non-null  float64\n",
            " 2   V2      13954 non-null  float64\n",
            " 3   V3      13954 non-null  float64\n",
            " 4   V4      13954 non-null  float64\n",
            " 5   V5      13954 non-null  float64\n",
            " 6   V6      13954 non-null  float64\n",
            " 7   V7      13954 non-null  float64\n",
            " 8   V8      13954 non-null  float64\n",
            " 9   V9      13954 non-null  float64\n",
            " 10  V10     13954 non-null  float64\n",
            " 11  V11     13954 non-null  float64\n",
            " 12  V12     13954 non-null  float64\n",
            " 13  V13     13954 non-null  float64\n",
            " 14  V14     13954 non-null  float64\n",
            " 15  V15     13954 non-null  float64\n",
            " 16  V16     13954 non-null  float64\n",
            " 17  V17     13954 non-null  float64\n",
            " 18  V18     13954 non-null  float64\n",
            " 19  V19     13954 non-null  float64\n",
            " 20  V20     13954 non-null  float64\n",
            " 21  V21     13954 non-null  float64\n",
            " 22  V22     13954 non-null  float64\n",
            " 23  V23     13954 non-null  float64\n",
            " 24  V24     13954 non-null  float64\n",
            " 25  V25     13954 non-null  float64\n",
            " 26  V26     13954 non-null  float64\n",
            " 27  V27     13954 non-null  float64\n",
            " 28  V28     13954 non-null  float64\n",
            " 29  Amount  13953 non-null  float64\n",
            " 30  Class   13953 non-null  float64\n",
            "dtypes: float64(30), int64(1)\n",
            "memory usage: 3.3 MB\n"
          ]
        }
      ],
      "source": [
        "data.info()"
      ]
    },
    {
      "cell_type": "code",
      "execution_count": 7,
      "id": "p1v8lKirQKl5",
      "metadata": {
        "colab": {
          "base_uri": "https://localhost:8080/"
        },
        "id": "p1v8lKirQKl5",
        "outputId": "1a4471e3-0983-4b4f-ce04-46a1f4d0566e"
      },
      "outputs": [
        {
          "output_type": "execute_result",
          "data": {
            "text/plain": [
              "Time      0\n",
              "V1        0\n",
              "V2        0\n",
              "V3        0\n",
              "V4        0\n",
              "V5        0\n",
              "V6        0\n",
              "V7        0\n",
              "V8        0\n",
              "V9        0\n",
              "V10       0\n",
              "V11       0\n",
              "V12       0\n",
              "V13       0\n",
              "V14       0\n",
              "V15       0\n",
              "V16       0\n",
              "V17       0\n",
              "V18       0\n",
              "V19       0\n",
              "V20       0\n",
              "V21       0\n",
              "V22       0\n",
              "V23       0\n",
              "V24       0\n",
              "V25       0\n",
              "V26       0\n",
              "V27       0\n",
              "V28       0\n",
              "Amount    1\n",
              "Class     1\n",
              "dtype: int64"
            ]
          },
          "metadata": {},
          "execution_count": 7
        }
      ],
      "source": [
        "data.isnull().sum()"
      ]
    },
    {
      "cell_type": "markdown",
      "id": "YPebycclRGUV",
      "metadata": {
        "id": "YPebycclRGUV"
      },
      "source": [
        "*Observation: Since there are only some missing values, we can drop them.*"
      ]
    },
    {
      "cell_type": "code",
      "execution_count": 8,
      "id": "QoQRn-J2PoO4",
      "metadata": {
        "id": "QoQRn-J2PoO4"
      },
      "outputs": [],
      "source": [
        "data.dropna(inplace=True)"
      ]
    },
    {
      "cell_type": "code",
      "execution_count": 9,
      "id": "8f8d21f0",
      "metadata": {
        "colab": {
          "base_uri": "https://localhost:8080/",
          "height": 466
        },
        "id": "8f8d21f0",
        "outputId": "f3ee7c71-2e32-427e-ae50-fec23dc4b5e3"
      },
      "outputs": [
        {
          "output_type": "execute_result",
          "data": {
            "text/plain": [
              "<Axes: xlabel='Class', ylabel='count'>"
            ]
          },
          "metadata": {},
          "execution_count": 9
        },
        {
          "output_type": "display_data",
          "data": {
            "text/plain": [
              "<Figure size 640x480 with 1 Axes>"
            ],
            "image/png": "[encoded data removed]"
          },
          "metadata": {}
        }
      ],
      "source": [
        "sns.countplot(data, x=data['Class'])"
      ]
    },
    {
      "cell_type": "markdown",
      "id": "04f8e175",
      "metadata": {
        "id": "04f8e175"
      },
      "source": [
        "*Observation: Highly imbalanced dataset - majority of the class is 0 which are the non-freud ones.*"
      ]
    },
    {
      "cell_type": "code",
      "execution_count": 10,
      "id": "affff0c3-955c-4794-8c73-51359e536f86",
      "metadata": {
        "id": "affff0c3-955c-4794-8c73-51359e536f86"
      },
      "outputs": [],
      "source": [
        "freud = data[data['Class']==1]"
      ]
    },
    {
      "cell_type": "code",
      "execution_count": 11,
      "id": "200b3b6e-cd23-4ceb-b03a-442e1ef0dbf4",
      "metadata": {
        "colab": {
          "base_uri": "https://localhost:8080/",
          "height": 255
        },
        "id": "200b3b6e-cd23-4ceb-b03a-442e1ef0dbf4",
        "outputId": "67b2fc80-1915-49ff-de10-130d57212e78"
      },
      "outputs": [
        {
          "output_type": "execute_result",
          "data": {
            "text/plain": [
              "      Time        V1        V2        V3        V4        V5        V6  \\\n",
              "541    406 -2.312227  1.951992 -1.609851  3.997906 -0.522188 -1.426545   \n",
              "623    472 -3.043541 -3.157307  1.088463  2.288644  1.359805 -1.064823   \n",
              "4920  4462 -2.303350  1.759247 -0.359745  2.330243 -0.821628 -0.075788   \n",
              "6108  6986 -4.397974  1.358367 -2.592844  2.679787 -1.128131 -1.706536   \n",
              "6329  7519  1.234235  3.019740 -4.304597  4.732795  3.624201 -1.357746   \n",
              "\n",
              "            V7        V8        V9  ...       V21       V22       V23  \\\n",
              "541  -2.537387  1.391657 -2.770089  ...  0.517232 -0.035049 -0.465211   \n",
              "623   0.325574 -0.067794 -0.270953  ...  0.661696  0.435477  1.375966   \n",
              "4920  0.562320 -0.399147 -0.238253  ... -0.294166 -0.932391  0.172726   \n",
              "6108 -3.496197 -0.248778 -0.247768  ...  0.573574  0.176968 -0.436207   \n",
              "6329  1.713445 -0.496358 -1.282858  ... -0.379068 -0.704181 -0.656805   \n",
              "\n",
              "           V24       V25       V26       V27       V28  Amount  Class  \n",
              "541   0.320198  0.044519  0.177840  0.261145 -0.143276    0.00    1.0  \n",
              "623  -0.293803  0.279798 -0.145362 -0.252773  0.035764  529.00    1.0  \n",
              "4920 -0.087330 -0.156114 -0.542628  0.039566 -0.153029  239.93    1.0  \n",
              "6108 -0.053502  0.252405 -0.657488 -0.827136  0.849573   59.00    1.0  \n",
              "6329 -1.632653  1.488901  0.566797 -0.010016  0.146793    1.00    1.0  \n",
              "\n",
              "[5 rows x 31 columns]"
            ],
            "text/html": [
              "\n",
              "  <div id=\"df-c1f97a4f-f60e-4a90-a101-99a3cd0407e2\" class=\"colab-df-container\">\n",
              "    <div>\n",
              "<style scoped>\n",
              "    .dataframe tbody tr th:only-of-type {\n",
              "        vertical-align: middle;\n",
              "    }\n",
              "\n",
              "    .dataframe tbody tr th {\n",
              "        vertical-align: top;\n",
              "    }\n",
              "\n",
              "    .dataframe thead th {\n",
              "        text-align: right;\n",
              "    }\n",
              "</style>\n",
              "<table border=\"1\" class=\"dataframe\">\n",
              "  <thead>\n",
              "    <tr style=\"text-align: right;\">\n",
              "      <th></th>\n",
              "      <th>Time</th>\n",
              "      <th>V1</th>\n",
              "      <th>V2</th>\n",
              "      <th>V3</th>\n",
              "      <th>V4</th>\n",
              "      <th>V5</th>\n",
              "      <th>V6</th>\n",
              "      <th>V7</th>\n",
              "      <th>V8</th>\n",
              "      <th>V9</th>\n",
              "      <th>...</th>\n",
              "      <th>V21</th>\n",
              "      <th>V22</th>\n",
              "      <th>V23</th>\n",
              "      <th>V24</th>\n",
              "      <th>V25</th>\n",
              "      <th>V26</th>\n",
              "      <th>V27</th>\n",
              "      <th>V28</th>\n",
              "      <th>Amount</th>\n",
              "      <th>Class</th>\n",
              "    </tr>\n",
              "  </thead>\n",
              "  <tbody>\n",
              "    <tr>\n",
              "      <th>541</th>\n",
              "      <td>406</td>\n",
              "      <td>-2.312227</td>\n",
              "      <td>1.951992</td>\n",
              "      <td>-1.609851</td>\n",
              "      <td>3.997906</td>\n",
              "      <td>-0.522188</td>\n",
              "      <td>-1.426545</td>\n",
              "      <td>-2.537387</td>\n",
              "      <td>1.391657</td>\n",
              "      <td>-2.770089</td>\n",
              "      <td>...</td>\n",
              "      <td>0.517232</td>\n",
              "      <td>-0.035049</td>\n",
              "      <td>-0.465211</td>\n",
              "      <td>0.320198</td>\n",
              "      <td>0.044519</td>\n",
              "      <td>0.177840</td>\n",
              "      <td>0.261145</td>\n",
              "      <td>-0.143276</td>\n",
              "      <td>0.00</td>\n",
              "      <td>1.0</td>\n",
              "    </tr>\n",
              "    <tr>\n",
              "      <th>623</th>\n",
              "      <td>472</td>\n",
              "      <td>-3.043541</td>\n",
              "      <td>-3.157307</td>\n",
              "      <td>1.088463</td>\n",
              "      <td>2.288644</td>\n",
              "      <td>1.359805</td>\n",
              "      <td>-1.064823</td>\n",
              "      <td>0.325574</td>\n",
              "      <td>-0.067794</td>\n",
              "      <td>-0.270953</td>\n",
              "      <td>...</td>\n",
              "      <td>0.661696</td>\n",
              "      <td>0.435477</td>\n",
              "      <td>1.375966</td>\n",
              "      <td>-0.293803</td>\n",
              "      <td>0.279798</td>\n",
              "      <td>-0.145362</td>\n",
              "      <td>-0.252773</td>\n",
              "      <td>0.035764</td>\n",
              "      <td>529.00</td>\n",
              "      <td>1.0</td>\n",
              "    </tr>\n",
              "    <tr>\n",
              "      <th>4920</th>\n",
              "      <td>4462</td>\n",
              "      <td>-2.303350</td>\n",
              "      <td>1.759247</td>\n",
              "      <td>-0.359745</td>\n",
              "      <td>2.330243</td>\n",
              "      <td>-0.821628</td>\n",
              "      <td>-0.075788</td>\n",
              "      <td>0.562320</td>\n",
              "      <td>-0.399147</td>\n",
              "      <td>-0.238253</td>\n",
              "      <td>...</td>\n",
              "      <td>-0.294166</td>\n",
              "      <td>-0.932391</td>\n",
              "      <td>0.172726</td>\n",
              "      <td>-0.087330</td>\n",
              "      <td>-0.156114</td>\n",
              "      <td>-0.542628</td>\n",
              "      <td>0.039566</td>\n",
              "      <td>-0.153029</td>\n",
              "      <td>239.93</td>\n",
              "      <td>1.0</td>\n",
              "    </tr>\n",
              "    <tr>\n",
              "      <th>6108</th>\n",
              "      <td>6986</td>\n",
              "      <td>-4.397974</td>\n",
              "      <td>1.358367</td>\n",
              "      <td>-2.592844</td>\n",
              "      <td>2.679787</td>\n",
              "      <td>-1.128131</td>\n",
              "      <td>-1.706536</td>\n",
              "      <td>-3.496197</td>\n",
              "      <td>-0.248778</td>\n",
              "      <td>-0.247768</td>\n",
              "      <td>...</td>\n",
              "      <td>0.573574</td>\n",
              "      <td>0.176968</td>\n",
              "      <td>-0.436207</td>\n",
              "      <td>-0.053502</td>\n",
              "      <td>0.252405</td>\n",
              "      <td>-0.657488</td>\n",
              "      <td>-0.827136</td>\n",
              "      <td>0.849573</td>\n",
              "      <td>59.00</td>\n",
              "      <td>1.0</td>\n",
              "    </tr>\n",
              "    <tr>\n",
              "      <th>6329</th>\n",
              "      <td>7519</td>\n",
              "      <td>1.234235</td>\n",
              "      <td>3.019740</td>\n",
              "      <td>-4.304597</td>\n",
              "      <td>4.732795</td>\n",
              "      <td>3.624201</td>\n",
              "      <td>-1.357746</td>\n",
              "      <td>1.713445</td>\n",
              "      <td>-0.496358</td>\n",
              "      <td>-1.282858</td>\n",
              "      <td>...</td>\n",
              "      <td>-0.379068</td>\n",
              "      <td>-0.704181</td>\n",
              "      <td>-0.656805</td>\n",
              "      <td>-1.632653</td>\n",
              "      <td>1.488901</td>\n",
              "      <td>0.566797</td>\n",
              "      <td>-0.010016</td>\n",
              "      <td>0.146793</td>\n",
              "      <td>1.00</td>\n",
              "      <td>1.0</td>\n",
              "    </tr>\n",
              "  </tbody>\n",
              "</table>\n",
              "<p>5 rows × 31 columns</p>\n",
              "</div>\n",
              "    <div class=\"colab-df-buttons\">\n",
              "\n",
              "  <div class=\"colab-df-container\">\n",
              "    <button class=\"colab-df-convert\" onclick=\"convertToInteractive('df-c1f97a4f-f60e-4a90-a101-99a3cd0407e2')\"\n",
              "            title=\"Convert this dataframe to an interactive table.\"\n",
              "            style=\"display:none;\">\n",
              "\n",
              "  <svg xmlns=\"http://www.w3.org/2000/svg\" height=\"24px\" viewBox=\"0 -960 960 960\">\n",
              "    <path d=\"M120-120v-720h720v720H120Zm60-500h600v-160H180v160Zm220 220h160v-160H400v160Zm0 220h160v-160H400v160ZM180-400h160v-160H180v160Zm440 0h160v-160H620v160ZM180-180h160v-160H180v160Zm440 0h160v-160H620v160Z\"/>\n",
              "  </svg>\n",
              "    </button>\n",
              "\n",
              "  <style>\n",
              "    .colab-df-container {\n",
              "      display:flex;\n",
              "      gap: 12px;\n",
              "    }\n",
              "\n",
              "    .colab-df-convert {\n",
              "      background-color: #E8F0FE;\n",
              "      border: none;\n",
              "      border-radius: 50%;\n",
              "      cursor: pointer;\n",
              "      display: none;\n",
              "      fill: #1967D2;\n",
              "      height: 32px;\n",
              "      padding: 0 0 0 0;\n",
              "      width: 32px;\n",
              "    }\n",
              "\n",
              "    .colab-df-convert:hover {\n",
              "      background-color: #E2EBFA;\n",
              "      box-shadow: 0px 1px 2px rgba(60, 64, 67, 0.3), 0px 1px 3px 1px rgba(60, 64, 67, 0.15);\n",
              "      fill: #174EA6;\n",
              "    }\n",
              "\n",
              "    .colab-df-buttons div {\n",
              "      margin-bottom: 4px;\n",
              "    }\n",
              "\n",
              "    [theme=dark] .colab-df-convert {\n",
              "      background-color: #3B4455;\n",
              "      fill: #D2E3FC;\n",
              "    }\n",
              "\n",
              "    [theme=dark] .colab-df-convert:hover {\n",
              "      background-color: #434B5C;\n",
              "      box-shadow: 0px 1px 3px 1px rgba(0, 0, 0, 0.15);\n",
              "      filter: drop-shadow(0px 1px 2px rgba(0, 0, 0, 0.3));\n",
              "      fill: #FFFFFF;\n",
              "    }\n",
              "  </style>\n",
              "\n",
              "    <script>\n",
              "      const buttonEl =\n",
              "        document.querySelector('#df-c1f97a4f-f60e-4a90-a101-99a3cd0407e2 button.colab-df-convert');\n",
              "      buttonEl.style.display =\n",
              "        google.colab.kernel.accessAllowed ? 'block' : 'none';\n",
              "\n",
              "      async function convertToInteractive(key) {\n",
              "        const element = document.querySelector('#df-c1f97a4f-f60e-4a90-a101-99a3cd0407e2');\n",
              "        const dataTable =\n",
              "          await google.colab.kernel.invokeFunction('convertToInteractive',\n",
              "                                                    [key], {});\n",
              "        if (!dataTable) return;\n",
              "\n",
              "        const docLinkHtml = 'Like what you see? Visit the ' +\n",
              "          '<a target=\"_blank\" href=https://colab.research.google.com/notebooks/data_table.ipynb>data table notebook</a>'\n",
              "          + ' to learn more about interactive tables.';\n",
              "        element.innerHTML = '';\n",
              "        dataTable['output_type'] = 'display_data';\n",
              "        await google.colab.output.renderOutput(dataTable, element);\n",
              "        const docLink = document.createElement('div');\n",
              "        docLink.innerHTML = docLinkHtml;\n",
              "        element.appendChild(docLink);\n",
              "      }\n",
              "    </script>\n",
              "  </div>\n",
              "\n",
              "\n",
              "<div id=\"df-1213b93a-0504-405d-92e6-4bc63892bc93\">\n",
              "  <button class=\"colab-df-quickchart\" onclick=\"quickchart('df-1213b93a-0504-405d-92e6-4bc63892bc93')\"\n",
              "            title=\"Suggest charts\"\n",
              "            style=\"display:none;\">\n",
              "\n",
              "<svg xmlns=\"http://www.w3.org/2000/svg\" height=\"24px\"viewBox=\"0 0 24 24\"\n",
              "     width=\"24px\">\n",
              "    <g>\n",
              "        <path d=\"M19 3H5c-1.1 0-2 .9-2 2v14c0 1.1.9 2 2 2h14c1.1 0 2-.9 2-2V5c0-1.1-.9-2-2-2zM9 17H7v-7h2v7zm4 0h-2V7h2v10zm4 0h-2v-4h2v4z\"/>\n",
              "    </g>\n",
              "</svg>\n",
              "  </button>\n",
              "\n",
              "<style>\n",
              "  .colab-df-quickchart {\n",
              "      --bg-color: #E8F0FE;\n",
              "      --fill-color: #1967D2;\n",
              "      --hover-bg-color: #E2EBFA;\n",
              "      --hover-fill-color: #174EA6;\n",
              "      --disabled-fill-color: #AAA;\n",
              "      --disabled-bg-color: #DDD;\n",
              "  }\n",
              "\n",
              "  [theme=dark] .colab-df-quickchart {\n",
              "      --bg-color: #3B4455;\n",
              "      --fill-color: #D2E3FC;\n",
              "      --hover-bg-color: #434B5C;\n",
              "      --hover-fill-color: #FFFFFF;\n",
              "      --disabled-bg-color: #3B4455;\n",
              "      --disabled-fill-color: #666;\n",
              "  }\n",
              "\n",
              "  .colab-df-quickchart {\n",
              "    background-color: var(--bg-color);\n",
              "    border: none;\n",
              "    border-radius: 50%;\n",
              "    cursor: pointer;\n",
              "    display: none;\n",
              "    fill: var(--fill-color);\n",
              "    height: 32px;\n",
              "    padding: 0;\n",
              "    width: 32px;\n",
              "  }\n",
              "\n",
              "  .colab-df-quickchart:hover {\n",
              "    background-color: var(--hover-bg-color);\n",
              "    box-shadow: 0 1px 2px rgba(60, 64, 67, 0.3), 0 1px 3px 1px rgba(60, 64, 67, 0.15);\n",
              "    fill: var(--button-hover-fill-color);\n",
              "  }\n",
              "\n",
              "  .colab-df-quickchart-complete:disabled,\n",
              "  .colab-df-quickchart-complete:disabled:hover {\n",
              "    background-color: var(--disabled-bg-color);\n",
              "    fill: var(--disabled-fill-color);\n",
              "    box-shadow: none;\n",
              "  }\n",
              "\n",
              "  .colab-df-spinner {\n",
              "    border: 2px solid var(--fill-color);\n",
              "    border-color: transparent;\n",
              "    border-bottom-color: var(--fill-color);\n",
              "    animation:\n",
              "      spin 1s steps(1) infinite;\n",
              "  }\n",
              "\n",
              "  @keyframes spin {\n",
              "    0% {\n",
              "      border-color: transparent;\n",
              "      border-bottom-color: var(--fill-color);\n",
              "      border-left-color: var(--fill-color);\n",
              "    }\n",
              "    20% {\n",
              "      border-color: transparent;\n",
              "      border-left-color: var(--fill-color);\n",
              "      border-top-color: var(--fill-color);\n",
              "    }\n",
              "    30% {\n",
              "      border-color: transparent;\n",
              "      border-left-color: var(--fill-color);\n",
              "      border-top-color: var(--fill-color);\n",
              "      border-right-color: var(--fill-color);\n",
              "    }\n",
              "    40% {\n",
              "      border-color: transparent;\n",
              "      border-right-color: var(--fill-color);\n",
              "      border-top-color: var(--fill-color);\n",
              "    }\n",
              "    60% {\n",
              "      border-color: transparent;\n",
              "      border-right-color: var(--fill-color);\n",
              "    }\n",
              "    80% {\n",
              "      border-color: transparent;\n",
              "      border-right-color: var(--fill-color);\n",
              "      border-bottom-color: var(--fill-color);\n",
              "    }\n",
              "    90% {\n",
              "      border-color: transparent;\n",
              "      border-bottom-color: var(--fill-color);\n",
              "    }\n",
              "  }\n",
              "</style>\n",
              "\n",
              "  <script>\n",
              "    async function quickchart(key) {\n",
              "      const quickchartButtonEl =\n",
              "        document.querySelector('#' + key + ' button');\n",
              "      quickchartButtonEl.disabled = true;  // To prevent multiple clicks.\n",
              "      quickchartButtonEl.classList.add('colab-df-spinner');\n",
              "      try {\n",
              "        const charts = await google.colab.kernel.invokeFunction(\n",
              "            'suggestCharts', [key], {});\n",
              "      } catch (error) {\n",
              "        console.error('Error during call to suggestCharts:', error);\n",
              "      }\n",
              "      quickchartButtonEl.classList.remove('colab-df-spinner');\n",
              "      quickchartButtonEl.classList.add('colab-df-quickchart-complete');\n",
              "    }\n",
              "    (() => {\n",
              "      let quickchartButtonEl =\n",
              "        document.querySelector('#df-1213b93a-0504-405d-92e6-4bc63892bc93 button');\n",
              "      quickchartButtonEl.style.display =\n",
              "        google.colab.kernel.accessAllowed ? 'block' : 'none';\n",
              "    })();\n",
              "  </script>\n",
              "</div>\n",
              "    </div>\n",
              "  </div>\n"
            ],
            "application/vnd.google.colaboratory.intrinsic+json": {
              "type": "dataframe",
              "variable_name": "freud"
            }
          },
          "metadata": {},
          "execution_count": 11
        }
      ],
      "source": [
        "freud.head()"
      ]
    },
    {
      "cell_type": "markdown",
      "id": "d1fa0119-d600-4b36-989a-118b87ffdacc",
      "metadata": {
        "id": "d1fa0119-d600-4b36-989a-118b87ffdacc"
      },
      "source": [
        "*Average amount freuded*"
      ]
    },
    {
      "cell_type": "code",
      "execution_count": 12,
      "id": "d8246de6-f45c-4230-bac5-ce75ad7ac05c",
      "metadata": {
        "colab": {
          "base_uri": "https://localhost:8080/"
        },
        "id": "d8246de6-f45c-4230-bac5-ce75ad7ac05c",
        "outputId": "ebcc1767-797e-4d08-bde3-0e07b8251183"
      },
      "outputs": [
        {
          "output_type": "execute_result",
          "data": {
            "text/plain": [
              "90.81589285714287"
            ]
          },
          "metadata": {},
          "execution_count": 12
        }
      ],
      "source": [
        "freud['Amount'].mean()"
      ]
    },
    {
      "cell_type": "markdown",
      "id": "d865000b-f0d3-4f4f-9c33-b3f0bf5f107b",
      "metadata": {
        "id": "d865000b-f0d3-4f4f-9c33-b3f0bf5f107b"
      },
      "source": [
        "*Total amount freuded*"
      ]
    },
    {
      "cell_type": "code",
      "execution_count": 13,
      "id": "104d1722-896c-4b06-972e-c258cc9587ff",
      "metadata": {
        "colab": {
          "base_uri": "https://localhost:8080/"
        },
        "id": "104d1722-896c-4b06-972e-c258cc9587ff",
        "outputId": "b495c080-6faf-4e7c-f280-1056f6e13ee7"
      },
      "outputs": [
        {
          "output_type": "execute_result",
          "data": {
            "text/plain": [
              "5085.6900000000005"
            ]
          },
          "metadata": {},
          "execution_count": 13
        }
      ],
      "source": [
        "freud['Amount'].sum()"
      ]
    },
    {
      "cell_type": "code",
      "execution_count": 13,
      "id": "f3082087-304a-40ae-ae96-114ff7d1aed6",
      "metadata": {
        "id": "f3082087-304a-40ae-ae96-114ff7d1aed6"
      },
      "outputs": [],
      "source": []
    },
    {
      "cell_type": "code",
      "execution_count": 14,
      "id": "ae7f0c27",
      "metadata": {
        "colab": {
          "base_uri": "https://localhost:8080/"
        },
        "id": "ae7f0c27",
        "outputId": "51e19a0f-008c-4b48-eca9-3dca9a6c7700"
      },
      "outputs": [
        {
          "output_type": "execute_result",
          "data": {
            "text/plain": [
              "Class\n",
              "0.0    13897\n",
              "1.0       56\n",
              "Name: count, dtype: int64"
            ]
          },
          "metadata": {},
          "execution_count": 14
        }
      ],
      "source": [
        "data['Class'].value_counts()"
      ]
    },
    {
      "cell_type": "code",
      "execution_count": 15,
      "id": "4cfb95d7",
      "metadata": {
        "id": "4cfb95d7"
      },
      "outputs": [],
      "source": [
        "class_0 = data[data['Class']==0]\n",
        "class_1 = data[data['Class']==1]"
      ]
    },
    {
      "cell_type": "code",
      "execution_count": 16,
      "id": "578fa9bd",
      "metadata": {
        "colab": {
          "base_uri": "https://localhost:8080/"
        },
        "id": "578fa9bd",
        "outputId": "d1afc25a-7ddc-4c51-a70d-a7c307869cb1"
      },
      "outputs": [
        {
          "output_type": "stream",
          "name": "stdout",
          "text": [
            "(13897, 31)\n"
          ]
        }
      ],
      "source": [
        "print(class_0.shape)"
      ]
    },
    {
      "cell_type": "code",
      "execution_count": 17,
      "id": "fc5e98cb",
      "metadata": {
        "colab": {
          "base_uri": "https://localhost:8080/"
        },
        "id": "fc5e98cb",
        "outputId": "d0a5208b-1eff-4dcc-f537-96b6c60d521a"
      },
      "outputs": [
        {
          "output_type": "stream",
          "name": "stdout",
          "text": [
            "(56, 31)\n"
          ]
        }
      ],
      "source": [
        "print(class_1.shape)"
      ]
    },
    {
      "cell_type": "code",
      "execution_count": 17,
      "id": "dfa87513",
      "metadata": {
        "id": "dfa87513"
      },
      "outputs": [],
      "source": []
    },
    {
      "cell_type": "markdown",
      "id": "55b45e7f",
      "metadata": {
        "id": "55b45e7f"
      },
      "source": [
        "#### Outlier check"
      ]
    },
    {
      "cell_type": "code",
      "execution_count": 18,
      "id": "7cab3695",
      "metadata": {
        "colab": {
          "base_uri": "https://localhost:8080/",
          "height": 364
        },
        "id": "7cab3695",
        "outputId": "d7379eb2-3b8c-46fe-ee31-dfe598969a52"
      },
      "outputs": [
        {
          "output_type": "execute_result",
          "data": {
            "text/plain": [
              "<Axes: ylabel='Amount'>"
            ]
          },
          "metadata": {},
          "execution_count": 18
        },
        {
          "output_type": "display_data",
          "data": {
            "text/plain": [
              "<Figure size 500x400 with 1 Axes>"
            ],
            "image/png": "[encoded data removed]"
          },
          "metadata": {}
        }
      ],
      "source": [
        "sns.set(rc={\"figure.figsize\":(5,4)})\n",
        "sns.boxplot(y=data['Amount'])"
      ]
    },
    {
      "cell_type": "code",
      "execution_count": 19,
      "id": "00e58000",
      "metadata": {
        "colab": {
          "base_uri": "https://localhost:8080/"
        },
        "id": "00e58000",
        "outputId": "e269c70e-b6ce-4434-9a3e-dddf5e164df4"
      },
      "outputs": [
        {
          "output_type": "execute_result",
          "data": {
            "text/plain": [
              "count    13953.000000\n",
              "mean        63.882442\n",
              "std        177.887021\n",
              "min          0.000000\n",
              "25%          5.490000\n",
              "50%         15.690000\n",
              "75%         52.150000\n",
              "max       7712.430000\n",
              "Name: Amount, dtype: float64"
            ]
          },
          "metadata": {},
          "execution_count": 19
        }
      ],
      "source": [
        "data['Amount'].describe()"
      ]
    },
    {
      "cell_type": "markdown",
      "id": "c3007b22",
      "metadata": {
        "id": "c3007b22"
      },
      "source": [
        "*Observation: Plenty of outliers needs to be handled.*"
      ]
    },
    {
      "cell_type": "code",
      "execution_count": 20,
      "id": "60572ad3",
      "metadata": {
        "id": "60572ad3"
      },
      "outputs": [],
      "source": [
        "non_outlier_condition = (\n",
        "    (data['Amount'] < data['Amount'].quantile(0.95)))"
      ]
    },
    {
      "cell_type": "code",
      "execution_count": 21,
      "id": "1bd934d7",
      "metadata": {
        "id": "1bd934d7"
      },
      "outputs": [],
      "source": [
        "data = data[non_outlier_condition]"
      ]
    },
    {
      "cell_type": "code",
      "execution_count": 22,
      "id": "da41d18f",
      "metadata": {
        "colab": {
          "base_uri": "https://localhost:8080/",
          "height": 362
        },
        "id": "da41d18f",
        "outputId": "76ad459a-3308-47e4-9b0b-fa3a5082d5ae"
      },
      "outputs": [
        {
          "output_type": "execute_result",
          "data": {
            "text/plain": [
              "<Axes: ylabel='Amount'>"
            ]
          },
          "metadata": {},
          "execution_count": 22
        },
        {
          "output_type": "display_data",
          "data": {
            "text/plain": [
              "<Figure size 500x400 with 1 Axes>"
            ],
            "image/png": "[encoded data removed]"
          },
          "metadata": {}
        }
      ],
      "source": [
        "sns.boxplot(y=data['Amount'])"
      ]
    },
    {
      "cell_type": "code",
      "execution_count": 23,
      "id": "baae4ae4",
      "metadata": {
        "colab": {
          "base_uri": "https://localhost:8080/",
          "height": 362
        },
        "id": "baae4ae4",
        "outputId": "ec172883-9b0c-49b7-da06-e047121b86c4"
      },
      "outputs": [
        {
          "output_type": "execute_result",
          "data": {
            "text/plain": [
              "<Axes: ylabel='Time'>"
            ]
          },
          "metadata": {},
          "execution_count": 23
        },
        {
          "output_type": "display_data",
          "data": {
            "text/plain": [
              "<Figure size 500x400 with 1 Axes>"
            ],
            "image/png": "[encoded data removed]"
          },
          "metadata": {}
        }
      ],
      "source": [
        "sns.boxplot(y=data['Time'])"
      ]
    },
    {
      "cell_type": "markdown",
      "id": "4bca687c",
      "metadata": {
        "id": "4bca687c"
      },
      "source": [
        "*Comment: For time feature no outlier removal is needed*"
      ]
    },
    {
      "cell_type": "code",
      "execution_count": 23,
      "id": "98a28bcb",
      "metadata": {
        "id": "98a28bcb"
      },
      "outputs": [],
      "source": []
    },
    {
      "cell_type": "code",
      "source": [],
      "metadata": {
        "id": "2qaviFFIpCji"
      },
      "id": "2qaviFFIpCji",
      "execution_count": null,
      "outputs": []
    },
    {
      "cell_type": "markdown",
      "source": [
        "## III. Model building & selection"
      ],
      "metadata": {
        "id": "lL77VOnOpDkj"
      },
      "id": "lL77VOnOpDkj"
    },
    {
      "cell_type": "markdown",
      "id": "ebbc0789",
      "metadata": {
        "id": "ebbc0789"
      },
      "source": [
        "#### 1. Resampling, scaling and machine learning prediction without cross validation"
      ]
    },
    {
      "cell_type": "markdown",
      "id": "2e2521ff",
      "metadata": {
        "id": "2e2521ff"
      },
      "source": [
        "Note: Drawbacks of the two\n",
        "\n",
        "Undersampling - Random Under Sampler:\n",
        "\n",
        "Loss of Information:Random undersampling involves discarding instances from the majority class randomly. This can lead to a significant loss of information and may discard potentially important examples. Reduced Model Performance:In scenarios where the majority class contains valuable information, random undersampling might reduce the overall performance of the model by removing relevant instances.\n",
        "\n",
        "Oversampling - SMOTE:\n",
        "\n",
        "Overfitting to Synthetic Examples:The synthetic examples generated by SMOTE might lead to overfitting if the model relies too heavily on these artificial instances. Sensitive to Noisy Data: SMOTE can be sensitive to noisy examples, and the generation of synthetic instances might be influenced by noisy data points in the minority class."
      ]
    },
    {
      "cell_type": "code",
      "execution_count": 24,
      "id": "b9073063",
      "metadata": {
        "id": "b9073063"
      },
      "outputs": [],
      "source": [
        "X = data.drop('Class', axis=1)\n",
        "y = data['Class']"
      ]
    },
    {
      "cell_type": "code",
      "execution_count": 25,
      "id": "d1fa25ca",
      "metadata": {
        "id": "d1fa25ca"
      },
      "outputs": [],
      "source": [
        "X_train, X_test, y_train, y_test = train_test_split(X, y, test_size=0.25, random_state=1)"
      ]
    },
    {
      "cell_type": "code",
      "execution_count": 26,
      "id": "874456b5-1512-47c7-ae74-b318a0deef3d",
      "metadata": {
        "id": "874456b5-1512-47c7-ae74-b318a0deef3d"
      },
      "outputs": [],
      "source": [
        "smote = SMOTE(random_state=42)\n",
        "X_train_resampled, y_train_resampled = smote.fit_resample(X_train, y_train)"
      ]
    },
    {
      "cell_type": "code",
      "execution_count": 27,
      "id": "8b640420-2198-4551-99ea-669306aad9d5",
      "metadata": {
        "id": "8b640420-2198-4551-99ea-669306aad9d5"
      },
      "outputs": [],
      "source": [
        "pipe01 = Pipeline([\n",
        "    ('scaler', StandardScaler()),\n",
        "    ('classifier', RandomForestClassifier(random_state=42))\n",
        "])"
      ]
    },
    {
      "cell_type": "markdown",
      "id": "5a029c97-866c-4519-bf2f-17ef8870937c",
      "metadata": {
        "id": "5a029c97-866c-4519-bf2f-17ef8870937c"
      },
      "source": [
        "*Comment: the pipeline automatically applies fit_transform during training and transform during testing for steps that require it (like scaling), ensuring consistent preprocessing across both training and test data.*"
      ]
    },
    {
      "cell_type": "code",
      "execution_count": 28,
      "id": "bab871dc-7024-40d0-b956-974a4e331bd0",
      "metadata": {
        "colab": {
          "base_uri": "https://localhost:8080/",
          "height": 125
        },
        "id": "bab871dc-7024-40d0-b956-974a4e331bd0",
        "outputId": "c4e0fc00-75ef-428f-908d-84a45293e98a"
      },
      "outputs": [
        {
          "output_type": "execute_result",
          "data": {
            "text/plain": [
              "Pipeline(steps=[('scaler', StandardScaler()),\n",
              "                ('classifier', RandomForestClassifier(random_state=42))])"
            ],
            "text/html": [
              "<style>#sk-container-id-1 {color: black;background-color: white;}#sk-container-id-1 pre{padding: 0;}#sk-container-id-1 div.sk-toggleable {background-color: white;}#sk-container-id-1 label.sk-toggleable__label {cursor: pointer;display: block;width: 100%;margin-bottom: 0;padding: 0.3em;box-sizing: border-box;text-align: center;}#sk-container-id-1 label.sk-toggleable__label-arrow:before {content: \"▸\";float: left;margin-right: 0.25em;color: #696969;}#sk-container-id-1 label.sk-toggleable__label-arrow:hover:before {color: black;}#sk-container-id-1 div.sk-estimator:hover label.sk-toggleable__label-arrow:before {color: black;}#sk-container-id-1 div.sk-toggleable__content {max-height: 0;max-width: 0;overflow: hidden;text-align: left;background-color: #f0f8ff;}#sk-container-id-1 div.sk-toggleable__content pre {margin: 0.2em;color: black;border-radius: 0.25em;background-color: #f0f8ff;}#sk-container-id-1 input.sk-toggleable__control:checked~div.sk-toggleable__content {max-height: 200px;max-width: 100%;overflow: auto;}#sk-container-id-1 input.sk-toggleable__control:checked~label.sk-toggleable__label-arrow:before {content: \"▾\";}#sk-container-id-1 div.sk-estimator input.sk-toggleable__control:checked~label.sk-toggleable__label {background-color: #d4ebff;}#sk-container-id-1 div.sk-label input.sk-toggleable__control:checked~label.sk-toggleable__label {background-color: #d4ebff;}#sk-container-id-1 input.sk-hidden--visually {border: 0;clip: rect(1px 1px 1px 1px);clip: rect(1px, 1px, 1px, 1px);height: 1px;margin: -1px;overflow: hidden;padding: 0;position: absolute;width: 1px;}#sk-container-id-1 div.sk-estimator {font-family: monospace;background-color: #f0f8ff;border: 1px dotted black;border-radius: 0.25em;box-sizing: border-box;margin-bottom: 0.5em;}#sk-container-id-1 div.sk-estimator:hover {background-color: #d4ebff;}#sk-container-id-1 div.sk-parallel-item::after {content: \"\";width: 100%;border-bottom: 1px solid gray;flex-grow: 1;}#sk-container-id-1 div.sk-label:hover label.sk-toggleable__label {background-color: #d4ebff;}#sk-container-id-1 div.sk-serial::before {content: \"\";position: absolute;border-left: 1px solid gray;box-sizing: border-box;top: 0;bottom: 0;left: 50%;z-index: 0;}#sk-container-id-1 div.sk-serial {display: flex;flex-direction: column;align-items: center;background-color: white;padding-right: 0.2em;padding-left: 0.2em;position: relative;}#sk-container-id-1 div.sk-item {position: relative;z-index: 1;}#sk-container-id-1 div.sk-parallel {display: flex;align-items: stretch;justify-content: center;background-color: white;position: relative;}#sk-container-id-1 div.sk-item::before, #sk-container-id-1 div.sk-parallel-item::before {content: \"\";position: absolute;border-left: 1px solid gray;box-sizing: border-box;top: 0;bottom: 0;left: 50%;z-index: -1;}#sk-container-id-1 div.sk-parallel-item {display: flex;flex-direction: column;z-index: 1;position: relative;background-color: white;}#sk-container-id-1 div.sk-parallel-item:first-child::after {align-self: flex-end;width: 50%;}#sk-container-id-1 div.sk-parallel-item:last-child::after {align-self: flex-start;width: 50%;}#sk-container-id-1 div.sk-parallel-item:only-child::after {width: 0;}#sk-container-id-1 div.sk-dashed-wrapped {border: 1px dashed gray;margin: 0 0.4em 0.5em 0.4em;box-sizing: border-box;padding-bottom: 0.4em;background-color: white;}#sk-container-id-1 div.sk-label label {font-family: monospace;font-weight: bold;display: inline-block;line-height: 1.2em;}#sk-container-id-1 div.sk-label-container {text-align: center;}#sk-container-id-1 div.sk-container {/* jupyter's `normalize.less` sets `[hidden] { display: none; }` but bootstrap.min.css set `[hidden] { display: none !important; }` so we also need the `!important` here to be able to override the default hidden behavior on the sphinx rendered scikit-learn.org. See: https://github.com/scikit-learn/scikit-learn/issues/21755 */display: inline-block !important;position: relative;}#sk-container-id-1 div.sk-text-repr-fallback {display: none;}</style><div id=\"sk-container-id-1\" class=\"sk-top-container\"><div class=\"sk-text-repr-fallback\"><pre>Pipeline(steps=[(&#x27;scaler&#x27;, StandardScaler()),\n",
              "                (&#x27;classifier&#x27;, RandomForestClassifier(random_state=42))])</pre><b>In a Jupyter environment, please rerun this cell to show the HTML representation or trust the notebook. <br />On GitHub, the HTML representation is unable to render, please try loading this page with nbviewer.org.</b></div><div class=\"sk-container\" hidden><div class=\"sk-item sk-dashed-wrapped\"><div class=\"sk-label-container\"><div class=\"sk-label sk-toggleable\"><input class=\"sk-toggleable__control sk-hidden--visually\" id=\"sk-estimator-id-1\" type=\"checkbox\" ><label for=\"sk-estimator-id-1\" class=\"sk-toggleable__label sk-toggleable__label-arrow\">Pipeline</label><div class=\"sk-toggleable__content\"><pre>Pipeline(steps=[(&#x27;scaler&#x27;, StandardScaler()),\n",
              "                (&#x27;classifier&#x27;, RandomForestClassifier(random_state=42))])</pre></div></div></div><div class=\"sk-serial\"><div class=\"sk-item\"><div class=\"sk-estimator sk-toggleable\"><input class=\"sk-toggleable__control sk-hidden--visually\" id=\"sk-estimator-id-2\" type=\"checkbox\" ><label for=\"sk-estimator-id-2\" class=\"sk-toggleable__label sk-toggleable__label-arrow\">StandardScaler</label><div class=\"sk-toggleable__content\"><pre>StandardScaler()</pre></div></div></div><div class=\"sk-item\"><div class=\"sk-estimator sk-toggleable\"><input class=\"sk-toggleable__control sk-hidden--visually\" id=\"sk-estimator-id-3\" type=\"checkbox\" ><label for=\"sk-estimator-id-3\" class=\"sk-toggleable__label sk-toggleable__label-arrow\">RandomForestClassifier</label><div class=\"sk-toggleable__content\"><pre>RandomForestClassifier(random_state=42)</pre></div></div></div></div></div></div></div>"
            ]
          },
          "metadata": {},
          "execution_count": 28
        }
      ],
      "source": [
        "pipe01.fit(X_train_resampled, y_train_resampled)"
      ]
    },
    {
      "cell_type": "code",
      "execution_count": 29,
      "id": "1257759a-f61f-45ee-b928-4999dcc81be5",
      "metadata": {
        "id": "1257759a-f61f-45ee-b928-4999dcc81be5"
      },
      "outputs": [],
      "source": [
        "y_pred01 = pipe01.predict(X_test)"
      ]
    },
    {
      "cell_type": "code",
      "execution_count": 30,
      "id": "e673a886-e586-4836-906b-2e2dbd86af8c",
      "metadata": {
        "colab": {
          "base_uri": "https://localhost:8080/"
        },
        "id": "e673a886-e586-4836-906b-2e2dbd86af8c",
        "outputId": "9b2827a8-5c36-4c35-9fe8-565cf0467842"
      },
      "outputs": [
        {
          "output_type": "execute_result",
          "data": {
            "text/plain": [
              "0.9987929993964997"
            ]
          },
          "metadata": {},
          "execution_count": 30
        }
      ],
      "source": [
        "pipe01.score(X_test, y_test)"
      ]
    },
    {
      "cell_type": "code",
      "source": [],
      "metadata": {
        "id": "jHMqZO56d5NT"
      },
      "id": "jHMqZO56d5NT",
      "execution_count": 30,
      "outputs": []
    },
    {
      "cell_type": "code",
      "execution_count": 31,
      "id": "29a96b5e-02be-4669-9f75-5cd9867d5e83",
      "metadata": {
        "id": "29a96b5e-02be-4669-9f75-5cd9867d5e83"
      },
      "outputs": [],
      "source": [
        "X = data.drop('Class', axis=1)\n",
        "y = data['Class']"
      ]
    },
    {
      "cell_type": "code",
      "source": [
        "X_train, X_test, y_train, y_test = train_test_split(X, y, test_size=0.25, random_state=1)"
      ],
      "metadata": {
        "id": "otHIe7vad65F"
      },
      "id": "otHIe7vad65F",
      "execution_count": 32,
      "outputs": []
    },
    {
      "cell_type": "code",
      "execution_count": 33,
      "id": "8b99bf71-1008-40db-a1cd-c55c7cd93836",
      "metadata": {
        "id": "8b99bf71-1008-40db-a1cd-c55c7cd93836"
      },
      "outputs": [],
      "source": [
        "under_sampler = RandomUnderSampler()\n",
        "X_train_resampled, y_train_resampled = under_sampler.fit_resample(X_train, y_train)"
      ]
    },
    {
      "cell_type": "code",
      "execution_count": 34,
      "id": "7c291cda-a136-4faa-b3c2-2b5d86dcc750",
      "metadata": {
        "id": "7c291cda-a136-4faa-b3c2-2b5d86dcc750"
      },
      "outputs": [],
      "source": [
        "pipe02 = Pipeline([\n",
        "    ('scaler', StandardScaler()),\n",
        "    ('classifier', RandomForestClassifier(random_state=42))\n",
        "])"
      ]
    },
    {
      "cell_type": "code",
      "source": [
        "pipe02.fit(X_train_resampled, y_train_resampled)"
      ],
      "metadata": {
        "colab": {
          "base_uri": "https://localhost:8080/",
          "height": 125
        },
        "id": "aya_QRdDeLiv",
        "outputId": "7673d01b-d35a-4a59-872c-823e4c785706"
      },
      "id": "aya_QRdDeLiv",
      "execution_count": 35,
      "outputs": [
        {
          "output_type": "execute_result",
          "data": {
            "text/plain": [
              "Pipeline(steps=[('scaler', StandardScaler()),\n",
              "                ('classifier', RandomForestClassifier(random_state=42))])"
            ],
            "text/html": [
              "<style>#sk-container-id-2 {color: black;background-color: white;}#sk-container-id-2 pre{padding: 0;}#sk-container-id-2 div.sk-toggleable {background-color: white;}#sk-container-id-2 label.sk-toggleable__label {cursor: pointer;display: block;width: 100%;margin-bottom: 0;padding: 0.3em;box-sizing: border-box;text-align: center;}#sk-container-id-2 label.sk-toggleable__label-arrow:before {content: \"▸\";float: left;margin-right: 0.25em;color: #696969;}#sk-container-id-2 label.sk-toggleable__label-arrow:hover:before {color: black;}#sk-container-id-2 div.sk-estimator:hover label.sk-toggleable__label-arrow:before {color: black;}#sk-container-id-2 div.sk-toggleable__content {max-height: 0;max-width: 0;overflow: hidden;text-align: left;background-color: #f0f8ff;}#sk-container-id-2 div.sk-toggleable__content pre {margin: 0.2em;color: black;border-radius: 0.25em;background-color: #f0f8ff;}#sk-container-id-2 input.sk-toggleable__control:checked~div.sk-toggleable__content {max-height: 200px;max-width: 100%;overflow: auto;}#sk-container-id-2 input.sk-toggleable__control:checked~label.sk-toggleable__label-arrow:before {content: \"▾\";}#sk-container-id-2 div.sk-estimator input.sk-toggleable__control:checked~label.sk-toggleable__label {background-color: #d4ebff;}#sk-container-id-2 div.sk-label input.sk-toggleable__control:checked~label.sk-toggleable__label {background-color: #d4ebff;}#sk-container-id-2 input.sk-hidden--visually {border: 0;clip: rect(1px 1px 1px 1px);clip: rect(1px, 1px, 1px, 1px);height: 1px;margin: -1px;overflow: hidden;padding: 0;position: absolute;width: 1px;}#sk-container-id-2 div.sk-estimator {font-family: monospace;background-color: #f0f8ff;border: 1px dotted black;border-radius: 0.25em;box-sizing: border-box;margin-bottom: 0.5em;}#sk-container-id-2 div.sk-estimator:hover {background-color: #d4ebff;}#sk-container-id-2 div.sk-parallel-item::after {content: \"\";width: 100%;border-bottom: 1px solid gray;flex-grow: 1;}#sk-container-id-2 div.sk-label:hover label.sk-toggleable__label {background-color: #d4ebff;}#sk-container-id-2 div.sk-serial::before {content: \"\";position: absolute;border-left: 1px solid gray;box-sizing: border-box;top: 0;bottom: 0;left: 50%;z-index: 0;}#sk-container-id-2 div.sk-serial {display: flex;flex-direction: column;align-items: center;background-color: white;padding-right: 0.2em;padding-left: 0.2em;position: relative;}#sk-container-id-2 div.sk-item {position: relative;z-index: 1;}#sk-container-id-2 div.sk-parallel {display: flex;align-items: stretch;justify-content: center;background-color: white;position: relative;}#sk-container-id-2 div.sk-item::before, #sk-container-id-2 div.sk-parallel-item::before {content: \"\";position: absolute;border-left: 1px solid gray;box-sizing: border-box;top: 0;bottom: 0;left: 50%;z-index: -1;}#sk-container-id-2 div.sk-parallel-item {display: flex;flex-direction: column;z-index: 1;position: relative;background-color: white;}#sk-container-id-2 div.sk-parallel-item:first-child::after {align-self: flex-end;width: 50%;}#sk-container-id-2 div.sk-parallel-item:last-child::after {align-self: flex-start;width: 50%;}#sk-container-id-2 div.sk-parallel-item:only-child::after {width: 0;}#sk-container-id-2 div.sk-dashed-wrapped {border: 1px dashed gray;margin: 0 0.4em 0.5em 0.4em;box-sizing: border-box;padding-bottom: 0.4em;background-color: white;}#sk-container-id-2 div.sk-label label {font-family: monospace;font-weight: bold;display: inline-block;line-height: 1.2em;}#sk-container-id-2 div.sk-label-container {text-align: center;}#sk-container-id-2 div.sk-container {/* jupyter's `normalize.less` sets `[hidden] { display: none; }` but bootstrap.min.css set `[hidden] { display: none !important; }` so we also need the `!important` here to be able to override the default hidden behavior on the sphinx rendered scikit-learn.org. See: https://github.com/scikit-learn/scikit-learn/issues/21755 */display: inline-block !important;position: relative;}#sk-container-id-2 div.sk-text-repr-fallback {display: none;}</style><div id=\"sk-container-id-2\" class=\"sk-top-container\"><div class=\"sk-text-repr-fallback\"><pre>Pipeline(steps=[(&#x27;scaler&#x27;, StandardScaler()),\n",
              "                (&#x27;classifier&#x27;, RandomForestClassifier(random_state=42))])</pre><b>In a Jupyter environment, please rerun this cell to show the HTML representation or trust the notebook. <br />On GitHub, the HTML representation is unable to render, please try loading this page with nbviewer.org.</b></div><div class=\"sk-container\" hidden><div class=\"sk-item sk-dashed-wrapped\"><div class=\"sk-label-container\"><div class=\"sk-label sk-toggleable\"><input class=\"sk-toggleable__control sk-hidden--visually\" id=\"sk-estimator-id-4\" type=\"checkbox\" ><label for=\"sk-estimator-id-4\" class=\"sk-toggleable__label sk-toggleable__label-arrow\">Pipeline</label><div class=\"sk-toggleable__content\"><pre>Pipeline(steps=[(&#x27;scaler&#x27;, StandardScaler()),\n",
              "                (&#x27;classifier&#x27;, RandomForestClassifier(random_state=42))])</pre></div></div></div><div class=\"sk-serial\"><div class=\"sk-item\"><div class=\"sk-estimator sk-toggleable\"><input class=\"sk-toggleable__control sk-hidden--visually\" id=\"sk-estimator-id-5\" type=\"checkbox\" ><label for=\"sk-estimator-id-5\" class=\"sk-toggleable__label sk-toggleable__label-arrow\">StandardScaler</label><div class=\"sk-toggleable__content\"><pre>StandardScaler()</pre></div></div></div><div class=\"sk-item\"><div class=\"sk-estimator sk-toggleable\"><input class=\"sk-toggleable__control sk-hidden--visually\" id=\"sk-estimator-id-6\" type=\"checkbox\" ><label for=\"sk-estimator-id-6\" class=\"sk-toggleable__label sk-toggleable__label-arrow\">RandomForestClassifier</label><div class=\"sk-toggleable__content\"><pre>RandomForestClassifier(random_state=42)</pre></div></div></div></div></div></div></div>"
            ]
          },
          "metadata": {},
          "execution_count": 35
        }
      ]
    },
    {
      "cell_type": "code",
      "execution_count": 36,
      "id": "25619bd8-380f-487c-9e6f-23683171b2e1",
      "metadata": {
        "id": "25619bd8-380f-487c-9e6f-23683171b2e1"
      },
      "outputs": [],
      "source": [
        "y_pred02 = pipe01.predict(X_test)"
      ]
    },
    {
      "cell_type": "code",
      "execution_count": 37,
      "id": "751cc2c0-ea4c-4075-9d6c-d172073cd07e",
      "metadata": {
        "colab": {
          "base_uri": "https://localhost:8080/"
        },
        "id": "751cc2c0-ea4c-4075-9d6c-d172073cd07e",
        "outputId": "fe4ff1a7-be5a-4737-a9e8-1ecc72a26281"
      },
      "outputs": [
        {
          "output_type": "stream",
          "name": "stdout",
          "text": [
            "F1-score: 0.8823529411764706\n"
          ]
        }
      ],
      "source": [
        "f1 = f1_score(y_test, y_pred02)\n",
        "\n",
        "print(\"F1-score:\", f1)"
      ]
    },
    {
      "cell_type": "code",
      "source": [],
      "metadata": {
        "id": "8cd73dCtoC43"
      },
      "id": "8cd73dCtoC43",
      "execution_count": 37,
      "outputs": []
    },
    {
      "cell_type": "markdown",
      "source": [
        "Checking for overfitting"
      ],
      "metadata": {
        "id": "6Jdrt1_YoD15"
      },
      "id": "6Jdrt1_YoD15"
    },
    {
      "cell_type": "code",
      "source": [
        "train_accuracy = accuracy_score(y_train_resampled, pipe02.predict(X_train_resampled))\n",
        "\n",
        "# Calculate accuracy on test set\n",
        "test_accuracy = accuracy_score(y_test, y_pred02)\n",
        "\n",
        "print(\"Training Accuracy:\", train_accuracy)\n",
        "print(\"Test Accuracy:\", test_accuracy)\n",
        "\n",
        "# Check for overfitting\n",
        "if train_accuracy > test_accuracy:\n",
        "    print(\"The model might be overfitting.\")\n",
        "else:\n",
        "    print(\"The model is not overfitting.\")"
      ],
      "metadata": {
        "colab": {
          "base_uri": "https://localhost:8080/"
        },
        "id": "lg-UgyR4oGgX",
        "outputId": "afe46f6b-525c-4026-f05f-978b269cd8ab"
      },
      "id": "lg-UgyR4oGgX",
      "execution_count": 38,
      "outputs": [
        {
          "output_type": "stream",
          "name": "stdout",
          "text": [
            "Training Accuracy: 1.0\n",
            "Test Accuracy: 0.9987929993964997\n",
            "The model might be overfitting.\n"
          ]
        }
      ]
    },
    {
      "cell_type": "code",
      "execution_count": 39,
      "id": "9f78b002-c7e2-45f7-b4f8-46751f4c9999",
      "metadata": {
        "colab": {
          "base_uri": "https://localhost:8080/"
        },
        "id": "9f78b002-c7e2-45f7-b4f8-46751f4c9999",
        "outputId": "0b464f45-275f-49e8-c992-85a6f1d28ef5"
      },
      "outputs": [
        {
          "output_type": "execute_result",
          "data": {
            "text/plain": [
              "0.9966807483403741"
            ]
          },
          "metadata": {},
          "execution_count": 39
        }
      ],
      "source": [
        "pipe02.score(X_test, y_test)"
      ]
    },
    {
      "cell_type": "markdown",
      "source": [
        "*Comment"
      ],
      "metadata": {
        "id": "dANiReT_mGrv"
      },
      "id": "dANiReT_mGrv"
    },
    {
      "cell_type": "code",
      "execution_count": 39,
      "id": "c8a480d1-e0b2-4f87-aad8-4ac17cea0625",
      "metadata": {
        "id": "c8a480d1-e0b2-4f87-aad8-4ac17cea0625"
      },
      "outputs": [],
      "source": []
    },
    {
      "cell_type": "code",
      "execution_count": 40,
      "id": "441b50a8",
      "metadata": {
        "id": "441b50a8"
      },
      "outputs": [],
      "source": [
        "# rf_01 = RandomForestClassifier(n_estimators=50, random_state=42)\n",
        "# logreg_01 = LogisticRegression(C=100, max_iter=100)\n",
        "# grb_01 = GradientBoostingClassifier(n_estimators=50)"
      ]
    },
    {
      "cell_type": "code",
      "execution_count": 41,
      "id": "0f32bbce",
      "metadata": {
        "id": "0f32bbce"
      },
      "outputs": [],
      "source": [
        "# def train_and_eval(model, X_train, y_train, X_test, y_test):\n",
        "#     model.fit(X_train, y_train)\n",
        "#     y_pred_01 = model.predict(X_test)\n",
        "#     #accuracy = accuracy_score(y_test, y_pred_01,)\n",
        "#     report_01 = classification_report(y_test, y_pred_01)\n",
        "#     matrix_01 = confusion_matrix(y_test, y_pred_01)\n",
        "#     cmap = sns.color_palette(palette='PiYG')\n",
        "#     sns.heatmap(matrix_01, annot=True, cmap=cmap)\n",
        "\n",
        "\n",
        "#     print(f' Classification report for model {model}:\\n\\n{report_01}\\n')"
      ]
    },
    {
      "cell_type": "code",
      "execution_count": 41,
      "id": "f3abd6fa",
      "metadata": {
        "id": "f3abd6fa"
      },
      "outputs": [],
      "source": []
    },
    {
      "cell_type": "code",
      "execution_count": 41,
      "id": "180a3f2b",
      "metadata": {
        "id": "180a3f2b"
      },
      "outputs": [],
      "source": []
    },
    {
      "cell_type": "markdown",
      "id": "4061888c",
      "metadata": {
        "id": "4061888c"
      },
      "source": [
        "##### 2. Stratified Kfold - resampling during cross validation and then machine learning prediction"
      ]
    },
    {
      "cell_type": "code",
      "source": [
        "classifiers = {\n",
        "    'Random Forest': RandomForestClassifier(n_estimators=50, random_state=42),\n",
        "    'SVM': SVC(C=1, random_state=42),\n",
        "    'KNN': KNeighborsClassifier(n_neighbors=5, weights='uniform'),\n",
        "    'Logreg': LogisticRegression(C=100, max_iter=1000),\n",
        "    'Gradient': GradientBoostingClassifier(n_estimators=50),\n",
        "    'XGBoost': XGBClassifier(learning_rate=0.1, max_depth=3, random_state=42)\n",
        "}\n",
        "\n",
        "#'Catboost': CatBoostClassifier(learning_rate=0.1, depth=6, random_state=42)\n",
        "#'LightGBM': lgb.LGBMClassifier(learning_rate=0.1, max_depth=5,num_leaves=31, random_state=42"
      ],
      "metadata": {
        "id": "2nNMOKuNf5TN"
      },
      "id": "2nNMOKuNf5TN",
      "execution_count": 72,
      "outputs": []
    },
    {
      "cell_type": "code",
      "source": [
        "skf = StratifiedKFold(n_splits=5, shuffle=True, random_state=42)"
      ],
      "metadata": {
        "id": "Jv_Y2VeVy3vl"
      },
      "id": "Jv_Y2VeVy3vl",
      "execution_count": 73,
      "outputs": []
    },
    {
      "cell_type": "markdown",
      "source": [
        "*Comment: StratifiedKFold is initialized outside the loop to ensure consistent cross-validation We import.*"
      ],
      "metadata": {
        "id": "9OU3VNWV4cbB"
      },
      "id": "9OU3VNWV4cbB"
    },
    {
      "cell_type": "code",
      "source": [
        "steps = [\n",
        "    ('scaler', StandardScaler()),\n",
        "    ('classifier', None)  # Placeholder for classifier\n",
        "]"
      ],
      "metadata": {
        "id": "s-nCacUgf5Wm"
      },
      "id": "s-nCacUgf5Wm",
      "execution_count": 74,
      "outputs": []
    },
    {
      "cell_type": "code",
      "source": [
        "for name, clf in classifiers.items():\n",
        "    steps[-1] = ('classifier', clf)\n",
        "    pipeline = ImbPipeline([\n",
        "        ('smote', SMOTE(sampling_strategy='auto', random_state=42)),\n",
        "        ('pipeline', Pipeline(steps))\n",
        "    ])\n",
        "    precision_scores = cross_val_score(pipeline, X_train, y_train, cv=skf, scoring='precision')\n",
        "    print(f\"{name} Mean Precision: {precision_scores.mean():.4f} (+/- {precision_scores.std() * 2:.4f})\")\n",
        "\n",
        "    recall_scores = cross_val_score(pipeline, X_train, y_train, cv=skf, scoring='recall')\n",
        "    print(f\"{name} Mean Recall: {recall_scores.mean():.4f} (+/- {recall_scores.std() * 2:.4f})\")\n",
        "\n",
        "    f1_scores = cross_val_score(pipeline, X_train, y_train, cv=skf, scoring='f1')\n",
        "    print(f\"{name} Mean F1: {f1_scores.mean():.4f} (+/- {f1_scores.std() * 2:.4f})\")"
      ],
      "metadata": {
        "colab": {
          "base_uri": "https://localhost:8080/"
        },
        "id": "bd11imt2gRC0",
        "outputId": "1f4e4bcd-c47b-4458-b200-c70745ced12f"
      },
      "id": "bd11imt2gRC0",
      "execution_count": 81,
      "outputs": [
        {
          "output_type": "stream",
          "name": "stdout",
          "text": [
            "Random Forest Mean Precision: 0.9714 (+/- 0.1143)\n",
            "Random Forest Mean Recall: 0.8524 (+/- 0.0190)\n",
            "Random Forest Mean F1: 0.9071 (+/- 0.0511)\n",
            "SVM Mean Precision: 0.9429 (+/- 0.2286)\n",
            "SVM Mean Recall: 0.7952 (+/- 0.1333)\n",
            "SVM Mean F1: 0.8606 (+/- 0.1608)\n",
            "KNN Mean Precision: 0.7790 (+/- 0.2478)\n",
            "KNN Mean Recall: 0.8810 (+/- 0.2172)\n",
            "KNN Mean F1: 0.8218 (+/- 0.1849)\n",
            "Logreg Mean Precision: 0.5875 (+/- 0.2837)\n",
            "Logreg Mean Recall: 0.7619 (+/- 0.1594)\n",
            "Logreg Mean F1: 0.6460 (+/- 0.1228)\n",
            "Gradient Mean Precision: 0.8650 (+/- 0.2482)\n",
            "Gradient Mean Recall: 0.8857 (+/- 0.3332)\n",
            "Gradient Mean F1: 0.8529 (+/- 0.1498)\n",
            "XGBoost Mean Precision: 0.9667 (+/- 0.1333)\n",
            "XGBoost Mean Recall: 0.9143 (+/- 0.2286)\n",
            "XGBoost Mean F1: 0.9385 (+/- 0.1794)\n"
          ]
        }
      ]
    },
    {
      "cell_type": "markdown",
      "source": [
        "*Comment: ImbPipeline imported from imblearn.pipeline to handle resampling techniques like SMOTE within the pipeline and SMOTE is applied within the pipeline to ensure it's applied separately to each fold of the training data*"
      ],
      "metadata": {
        "id": "dvfzR8UGzJgd"
      },
      "id": "dvfzR8UGzJgd"
    },
    {
      "cell_type": "markdown",
      "source": [
        "XGBoost Mean F1: 0.9278 (+/- 0.1019)\n",
        "\n",
        "Random Forest Mean F1: 0.9044 (+/- 0.1076)\n",
        "\n",
        "Gradient Mean F1: 0.8769 (+/- 0.1441)"
      ],
      "metadata": {
        "id": "eUxTjUzleb9F"
      },
      "id": "eUxTjUzleb9F"
    },
    {
      "cell_type": "code",
      "source": [
        "classifiers02 = {\n",
        "  'Catboost': CatBoostClassifier(random_state=42),\n",
        "  'LightGBM': lgb.LGBMClassifier(random_state=42)\n",
        "}"
      ],
      "metadata": {
        "id": "jjPbmHHcgRLS"
      },
      "id": "jjPbmHHcgRLS",
      "execution_count": 47,
      "outputs": []
    },
    {
      "cell_type": "code",
      "execution_count": null,
      "id": "dc2995a9",
      "metadata": {
        "id": "dc2995a9"
      },
      "outputs": [],
      "source": [
        "for name, clf in classifiers02.items():\n",
        "    steps[-1] = ('classifier', clf)\n",
        "    pipe = Pipeline(steps)\n",
        "    pipeline = ImbPipeline([\n",
        "        ('smote', SMOTE(sampling_strategy='auto', random_state=42)),\n",
        "        ('pipeline', Pipeline(steps))\n",
        "    ])\n",
        "    precision_scores = cross_val_score(pipeline, X, y, cv=skf, scoring='precision')\n",
        "    print(f\"{name} Mean Precision: {precision_scores.mean():.4f} (+/- {precision_scores.std() * 2:.4f})\")\n",
        "\n",
        "    recall_scores = cross_val_score(pipeline, X, y, cv=skf, scoring='recall')\n",
        "    print(f\"{name} Mean Recall: {recall_scores.mean():.4f} (+/- {recall_scores.std() * 2:.4f})\")\n",
        "\n",
        "    f1_scores = cross_val_score(pipeline, X, y, cv=skf, scoring='f1')\n",
        "    print(f\"{name} Mean F1: {f1_scores.mean():.4f} (+/- {f1_scores.std() * 2:.4f})\")"
      ]
    },
    {
      "cell_type": "markdown",
      "source": [
        "\n",
        "Catboost Mean F1: 0.9161 (+/- 0.1036)\n",
        "\n",
        "LightGBM Mean F1: 0.8179 (+/- 0.1253)\n",
        "```\n",
        "# Ez kódként van formázva\n",
        "```\n",
        "\n"
      ],
      "metadata": {
        "id": "mSr_oR3PiYJY"
      },
      "id": "mSr_oR3PiYJY"
    },
    {
      "cell_type": "code",
      "source": [],
      "metadata": {
        "id": "AJi_86_li8zI"
      },
      "id": "AJi_86_li8zI",
      "execution_count": null,
      "outputs": []
    },
    {
      "cell_type": "markdown",
      "id": "e97a47f6",
      "metadata": {
        "id": "e97a47f6"
      },
      "source": [
        "##    VI. Hyperparameter tuning & model selection"
      ]
    },
    {
      "cell_type": "markdown",
      "source": [
        "### RandomForest & Random search"
      ],
      "metadata": {
        "id": "2MKG7K0_7er2"
      },
      "id": "2MKG7K0_7er2"
    },
    {
      "cell_type": "code",
      "execution_count": 82,
      "id": "08a1ed40",
      "metadata": {
        "id": "08a1ed40"
      },
      "outputs": [],
      "source": [
        "rf = RandomForestClassifier()"
      ]
    },
    {
      "cell_type": "code",
      "execution_count": 63,
      "id": "b91b796c",
      "metadata": {
        "id": "b91b796c"
      },
      "outputs": [],
      "source": [
        "param_dist = {\n",
        "    'n_estimators': [50, 100, 200],\n",
        "    'max_depth': [None, 10, 20],\n",
        "    'min_samples_split':[2, 5, 10],\n",
        "    'min_samples_leaf': [1, 2, 4]\n",
        "}"
      ]
    },
    {
      "cell_type": "code",
      "source": [
        "scoring = {\n",
        "    'precision': make_scorer(precision_score),\n",
        "    'recall': make_scorer(recall_score),\n",
        "    'f1': make_scorer(f1_score)\n",
        "}"
      ],
      "metadata": {
        "id": "_eX2gCEmq2mU"
      },
      "id": "_eX2gCEmq2mU",
      "execution_count": 64,
      "outputs": []
    },
    {
      "cell_type": "code",
      "source": [
        "random_search = RandomizedSearchCV(estimator=rf,\n",
        "                                   param_distributions=param_dist,\n",
        "                                   n_iter=10,\n",
        "                                   cv=skf,\n",
        "                                   scoring=scoring,\n",
        "                                   refit='f1',\n",
        "                                   random_state=42)"
      ],
      "metadata": {
        "id": "9cbAwoCmmqvI"
      },
      "id": "9cbAwoCmmqvI",
      "execution_count": 65,
      "outputs": []
    },
    {
      "cell_type": "code",
      "source": [
        "random_search.fit(X_train, y_train)"
      ],
      "metadata": {
        "colab": {
          "base_uri": "https://localhost:8080/",
          "height": 117
        },
        "id": "vAXVI3T2mxzj",
        "outputId": "6b76650a-e00e-4c10-b017-dbdba03b432f"
      },
      "id": "vAXVI3T2mxzj",
      "execution_count": 66,
      "outputs": [
        {
          "output_type": "execute_result",
          "data": {
            "text/plain": [
              "RandomizedSearchCV(cv=StratifiedKFold(n_splits=5, random_state=42, shuffle=True),\n",
              "                   estimator=RandomForestClassifier(n_estimators=50,\n",
              "                                                    random_state=42),\n",
              "                   param_distributions={'max_depth': [None, 10, 20],\n",
              "                                        'min_samples_leaf': [1, 2, 4],\n",
              "                                        'min_samples_split': [2, 5, 10],\n",
              "                                        'n_estimators': [50, 100, 200]},\n",
              "                   random_state=42, refit='f1',\n",
              "                   scoring={'f1': make_scorer(f1_score),\n",
              "                            'precision': make_scorer(precision_score),\n",
              "                            'recall': make_scorer(recall_score)})"
            ],
            "text/html": [
              "<style>#sk-container-id-4 {color: black;background-color: white;}#sk-container-id-4 pre{padding: 0;}#sk-container-id-4 div.sk-toggleable {background-color: white;}#sk-container-id-4 label.sk-toggleable__label {cursor: pointer;display: block;width: 100%;margin-bottom: 0;padding: 0.3em;box-sizing: border-box;text-align: center;}#sk-container-id-4 label.sk-toggleable__label-arrow:before {content: \"▸\";float: left;margin-right: 0.25em;color: #696969;}#sk-container-id-4 label.sk-toggleable__label-arrow:hover:before {color: black;}#sk-container-id-4 div.sk-estimator:hover label.sk-toggleable__label-arrow:before {color: black;}#sk-container-id-4 div.sk-toggleable__content {max-height: 0;max-width: 0;overflow: hidden;text-align: left;background-color: #f0f8ff;}#sk-container-id-4 div.sk-toggleable__content pre {margin: 0.2em;color: black;border-radius: 0.25em;background-color: #f0f8ff;}#sk-container-id-4 input.sk-toggleable__control:checked~div.sk-toggleable__content {max-height: 200px;max-width: 100%;overflow: auto;}#sk-container-id-4 input.sk-toggleable__control:checked~label.sk-toggleable__label-arrow:before {content: \"▾\";}#sk-container-id-4 div.sk-estimator input.sk-toggleable__control:checked~label.sk-toggleable__label {background-color: #d4ebff;}#sk-container-id-4 div.sk-label input.sk-toggleable__control:checked~label.sk-toggleable__label {background-color: #d4ebff;}#sk-container-id-4 input.sk-hidden--visually {border: 0;clip: rect(1px 1px 1px 1px);clip: rect(1px, 1px, 1px, 1px);height: 1px;margin: -1px;overflow: hidden;padding: 0;position: absolute;width: 1px;}#sk-container-id-4 div.sk-estimator {font-family: monospace;background-color: #f0f8ff;border: 1px dotted black;border-radius: 0.25em;box-sizing: border-box;margin-bottom: 0.5em;}#sk-container-id-4 div.sk-estimator:hover {background-color: #d4ebff;}#sk-container-id-4 div.sk-parallel-item::after {content: \"\";width: 100%;border-bottom: 1px solid gray;flex-grow: 1;}#sk-container-id-4 div.sk-label:hover label.sk-toggleable__label {background-color: #d4ebff;}#sk-container-id-4 div.sk-serial::before {content: \"\";position: absolute;border-left: 1px solid gray;box-sizing: border-box;top: 0;bottom: 0;left: 50%;z-index: 0;}#sk-container-id-4 div.sk-serial {display: flex;flex-direction: column;align-items: center;background-color: white;padding-right: 0.2em;padding-left: 0.2em;position: relative;}#sk-container-id-4 div.sk-item {position: relative;z-index: 1;}#sk-container-id-4 div.sk-parallel {display: flex;align-items: stretch;justify-content: center;background-color: white;position: relative;}#sk-container-id-4 div.sk-item::before, #sk-container-id-4 div.sk-parallel-item::before {content: \"\";position: absolute;border-left: 1px solid gray;box-sizing: border-box;top: 0;bottom: 0;left: 50%;z-index: -1;}#sk-container-id-4 div.sk-parallel-item {display: flex;flex-direction: column;z-index: 1;position: relative;background-color: white;}#sk-container-id-4 div.sk-parallel-item:first-child::after {align-self: flex-end;width: 50%;}#sk-container-id-4 div.sk-parallel-item:last-child::after {align-self: flex-start;width: 50%;}#sk-container-id-4 div.sk-parallel-item:only-child::after {width: 0;}#sk-container-id-4 div.sk-dashed-wrapped {border: 1px dashed gray;margin: 0 0.4em 0.5em 0.4em;box-sizing: border-box;padding-bottom: 0.4em;background-color: white;}#sk-container-id-4 div.sk-label label {font-family: monospace;font-weight: bold;display: inline-block;line-height: 1.2em;}#sk-container-id-4 div.sk-label-container {text-align: center;}#sk-container-id-4 div.sk-container {/* jupyter's `normalize.less` sets `[hidden] { display: none; }` but bootstrap.min.css set `[hidden] { display: none !important; }` so we also need the `!important` here to be able to override the default hidden behavior on the sphinx rendered scikit-learn.org. See: https://github.com/scikit-learn/scikit-learn/issues/21755 */display: inline-block !important;position: relative;}#sk-container-id-4 div.sk-text-repr-fallback {display: none;}</style><div id=\"sk-container-id-4\" class=\"sk-top-container\"><div class=\"sk-text-repr-fallback\"><pre>RandomizedSearchCV(cv=StratifiedKFold(n_splits=5, random_state=42, shuffle=True),\n",
              "                   estimator=RandomForestClassifier(n_estimators=50,\n",
              "                                                    random_state=42),\n",
              "                   param_distributions={&#x27;max_depth&#x27;: [None, 10, 20],\n",
              "                                        &#x27;min_samples_leaf&#x27;: [1, 2, 4],\n",
              "                                        &#x27;min_samples_split&#x27;: [2, 5, 10],\n",
              "                                        &#x27;n_estimators&#x27;: [50, 100, 200]},\n",
              "                   random_state=42, refit=&#x27;f1&#x27;,\n",
              "                   scoring={&#x27;f1&#x27;: make_scorer(f1_score),\n",
              "                            &#x27;precision&#x27;: make_scorer(precision_score),\n",
              "                            &#x27;recall&#x27;: make_scorer(recall_score)})</pre><b>In a Jupyter environment, please rerun this cell to show the HTML representation or trust the notebook. <br />On GitHub, the HTML representation is unable to render, please try loading this page with nbviewer.org.</b></div><div class=\"sk-container\" hidden><div class=\"sk-item sk-dashed-wrapped\"><div class=\"sk-label-container\"><div class=\"sk-label sk-toggleable\"><input class=\"sk-toggleable__control sk-hidden--visually\" id=\"sk-estimator-id-10\" type=\"checkbox\" ><label for=\"sk-estimator-id-10\" class=\"sk-toggleable__label sk-toggleable__label-arrow\">RandomizedSearchCV</label><div class=\"sk-toggleable__content\"><pre>RandomizedSearchCV(cv=StratifiedKFold(n_splits=5, random_state=42, shuffle=True),\n",
              "                   estimator=RandomForestClassifier(n_estimators=50,\n",
              "                                                    random_state=42),\n",
              "                   param_distributions={&#x27;max_depth&#x27;: [None, 10, 20],\n",
              "                                        &#x27;min_samples_leaf&#x27;: [1, 2, 4],\n",
              "                                        &#x27;min_samples_split&#x27;: [2, 5, 10],\n",
              "                                        &#x27;n_estimators&#x27;: [50, 100, 200]},\n",
              "                   random_state=42, refit=&#x27;f1&#x27;,\n",
              "                   scoring={&#x27;f1&#x27;: make_scorer(f1_score),\n",
              "                            &#x27;precision&#x27;: make_scorer(precision_score),\n",
              "                            &#x27;recall&#x27;: make_scorer(recall_score)})</pre></div></div></div><div class=\"sk-parallel\"><div class=\"sk-parallel-item\"><div class=\"sk-item\"><div class=\"sk-label-container\"><div class=\"sk-label sk-toggleable\"><input class=\"sk-toggleable__control sk-hidden--visually\" id=\"sk-estimator-id-11\" type=\"checkbox\" ><label for=\"sk-estimator-id-11\" class=\"sk-toggleable__label sk-toggleable__label-arrow\">estimator: RandomForestClassifier</label><div class=\"sk-toggleable__content\"><pre>RandomForestClassifier(n_estimators=50, random_state=42)</pre></div></div></div><div class=\"sk-serial\"><div class=\"sk-item\"><div class=\"sk-estimator sk-toggleable\"><input class=\"sk-toggleable__control sk-hidden--visually\" id=\"sk-estimator-id-12\" type=\"checkbox\" ><label for=\"sk-estimator-id-12\" class=\"sk-toggleable__label sk-toggleable__label-arrow\">RandomForestClassifier</label><div class=\"sk-toggleable__content\"><pre>RandomForestClassifier(n_estimators=50, random_state=42)</pre></div></div></div></div></div></div></div></div></div></div>"
            ]
          },
          "metadata": {},
          "execution_count": 66
        }
      ]
    },
    {
      "cell_type": "code",
      "source": [
        "best_params = random_search.best_params_\n",
        "best_score = random_search.best_score_"
      ],
      "metadata": {
        "id": "2mlwEpGUqCTO"
      },
      "id": "2mlwEpGUqCTO",
      "execution_count": 67,
      "outputs": []
    },
    {
      "cell_type": "markdown",
      "source": [
        "*Comment: The best score reported by random_search.best_score_ corresponds to the average score across all classes, weighted by the number of samples in each class.*"
      ],
      "metadata": {
        "id": "5XW0OXIAuI2n"
      },
      "id": "5XW0OXIAuI2n"
    },
    {
      "cell_type": "code",
      "source": [
        "print(\"Best Parameters:\", best_params)\n",
        "print(\"Best Score:\", best_score)"
      ],
      "metadata": {
        "colab": {
          "base_uri": "https://localhost:8080/"
        },
        "id": "pYtHpYRMqYvP",
        "outputId": "8156e595-69d5-4cce-f1ad-8db2ab99a630"
      },
      "id": "pYtHpYRMqYvP",
      "execution_count": 68,
      "outputs": [
        {
          "output_type": "stream",
          "name": "stdout",
          "text": [
            "Best Parameters: {'n_estimators': 100, 'min_samples_split': 2, 'min_samples_leaf': 1, 'max_depth': 10}\n",
            "Best Score: 0.907092907092907\n"
          ]
        }
      ]
    },
    {
      "cell_type": "code",
      "source": [
        "rf01 = RandomForestClassifier(n_estimators=100, min_samples_split= 2, min_samples_leaf=1, max_depth = 10, random_state=42)"
      ],
      "metadata": {
        "id": "0Ab7XY-j0RLa"
      },
      "id": "0Ab7XY-j0RLa",
      "execution_count": 83,
      "outputs": []
    },
    {
      "cell_type": "code",
      "source": [
        "pipeline = ImbPipeline([\n",
        "    ('scaler', StandardScaler()),\n",
        "    ('smote', SMOTE(sampling_strategy='auto', random_state=42)),  # SMOTE applied within the pipeline\n",
        "    ('classifier', rf01)\n",
        "])"
      ],
      "metadata": {
        "id": "05Apd_vI0wEb"
      },
      "id": "05Apd_vI0wEb",
      "execution_count": 96,
      "outputs": []
    },
    {
      "cell_type": "code",
      "source": [
        "scoring = {\n",
        "    'precision': make_scorer(precision_score),\n",
        "    'recall': make_scorer(recall_score),\n",
        "    'f1': make_scorer(f1_score)\n",
        "}"
      ],
      "metadata": {
        "id": "rpuON2sK1Cyq"
      },
      "id": "rpuON2sK1Cyq",
      "execution_count": 97,
      "outputs": []
    },
    {
      "cell_type": "code",
      "source": [
        "skf = StratifiedKFold(n_splits=5, shuffle=True, random_state=42)"
      ],
      "metadata": {
        "id": "1S0_pQ021C1x"
      },
      "id": "1S0_pQ021C1x",
      "execution_count": 98,
      "outputs": []
    },
    {
      "cell_type": "code",
      "source": [
        "precision_scores = cross_val_score(pipeline, X_train, y_train, cv=skf, scoring='precision')\n",
        "recall_scores = cross_val_score(pipeline, X_train, y_train, cv=skf, scoring='recall')\n",
        "f1_scores = cross_val_score(pipeline, X_train, y_train, cv=skf, scoring='f1')"
      ],
      "metadata": {
        "id": "ZmbceXnF1C4m"
      },
      "id": "ZmbceXnF1C4m",
      "execution_count": 99,
      "outputs": []
    },
    {
      "cell_type": "code",
      "source": [
        "print(\"Mean Precision:\", precision_scores.mean())\n",
        "print(\"Mean Recall:\", recall_scores.mean())\n",
        "print(\"Mean F1 Score:\", f1_scores.mean())"
      ],
      "metadata": {
        "colab": {
          "base_uri": "https://localhost:8080/"
        },
        "id": "A304Mfp_1C7D",
        "outputId": "b13d19be-6a48-472a-c6e1-70841d5151bd"
      },
      "id": "A304Mfp_1C7D",
      "execution_count": 91,
      "outputs": [
        {
          "output_type": "stream",
          "name": "stdout",
          "text": [
            "Mean Precision: 0.9714285714285715\n",
            "Mean Recall: 0.8523809523809524\n",
            "Mean F1 Score: 0.907092907092907\n"
          ]
        }
      ]
    },
    {
      "cell_type": "code",
      "source": [
        "rf01.fit(X_train, y_train)"
      ],
      "metadata": {
        "colab": {
          "base_uri": "https://localhost:8080/",
          "height": 74
        },
        "id": "CZGs1t0E4vJN",
        "outputId": "1d49bad3-ed78-444b-eb55-0b210e3cad9e"
      },
      "id": "CZGs1t0E4vJN",
      "execution_count": 102,
      "outputs": [
        {
          "output_type": "execute_result",
          "data": {
            "text/plain": [
              "RandomForestClassifier(max_depth=10, random_state=42)"
            ],
            "text/html": [
              "<style>#sk-container-id-5 {color: black;background-color: white;}#sk-container-id-5 pre{padding: 0;}#sk-container-id-5 div.sk-toggleable {background-color: white;}#sk-container-id-5 label.sk-toggleable__label {cursor: pointer;display: block;width: 100%;margin-bottom: 0;padding: 0.3em;box-sizing: border-box;text-align: center;}#sk-container-id-5 label.sk-toggleable__label-arrow:before {content: \"▸\";float: left;margin-right: 0.25em;color: #696969;}#sk-container-id-5 label.sk-toggleable__label-arrow:hover:before {color: black;}#sk-container-id-5 div.sk-estimator:hover label.sk-toggleable__label-arrow:before {color: black;}#sk-container-id-5 div.sk-toggleable__content {max-height: 0;max-width: 0;overflow: hidden;text-align: left;background-color: #f0f8ff;}#sk-container-id-5 div.sk-toggleable__content pre {margin: 0.2em;color: black;border-radius: 0.25em;background-color: #f0f8ff;}#sk-container-id-5 input.sk-toggleable__control:checked~div.sk-toggleable__content {max-height: 200px;max-width: 100%;overflow: auto;}#sk-container-id-5 input.sk-toggleable__control:checked~label.sk-toggleable__label-arrow:before {content: \"▾\";}#sk-container-id-5 div.sk-estimator input.sk-toggleable__control:checked~label.sk-toggleable__label {background-color: #d4ebff;}#sk-container-id-5 div.sk-label input.sk-toggleable__control:checked~label.sk-toggleable__label {background-color: #d4ebff;}#sk-container-id-5 input.sk-hidden--visually {border: 0;clip: rect(1px 1px 1px 1px);clip: rect(1px, 1px, 1px, 1px);height: 1px;margin: -1px;overflow: hidden;padding: 0;position: absolute;width: 1px;}#sk-container-id-5 div.sk-estimator {font-family: monospace;background-color: #f0f8ff;border: 1px dotted black;border-radius: 0.25em;box-sizing: border-box;margin-bottom: 0.5em;}#sk-container-id-5 div.sk-estimator:hover {background-color: #d4ebff;}#sk-container-id-5 div.sk-parallel-item::after {content: \"\";width: 100%;border-bottom: 1px solid gray;flex-grow: 1;}#sk-container-id-5 div.sk-label:hover label.sk-toggleable__label {background-color: #d4ebff;}#sk-container-id-5 div.sk-serial::before {content: \"\";position: absolute;border-left: 1px solid gray;box-sizing: border-box;top: 0;bottom: 0;left: 50%;z-index: 0;}#sk-container-id-5 div.sk-serial {display: flex;flex-direction: column;align-items: center;background-color: white;padding-right: 0.2em;padding-left: 0.2em;position: relative;}#sk-container-id-5 div.sk-item {position: relative;z-index: 1;}#sk-container-id-5 div.sk-parallel {display: flex;align-items: stretch;justify-content: center;background-color: white;position: relative;}#sk-container-id-5 div.sk-item::before, #sk-container-id-5 div.sk-parallel-item::before {content: \"\";position: absolute;border-left: 1px solid gray;box-sizing: border-box;top: 0;bottom: 0;left: 50%;z-index: -1;}#sk-container-id-5 div.sk-parallel-item {display: flex;flex-direction: column;z-index: 1;position: relative;background-color: white;}#sk-container-id-5 div.sk-parallel-item:first-child::after {align-self: flex-end;width: 50%;}#sk-container-id-5 div.sk-parallel-item:last-child::after {align-self: flex-start;width: 50%;}#sk-container-id-5 div.sk-parallel-item:only-child::after {width: 0;}#sk-container-id-5 div.sk-dashed-wrapped {border: 1px dashed gray;margin: 0 0.4em 0.5em 0.4em;box-sizing: border-box;padding-bottom: 0.4em;background-color: white;}#sk-container-id-5 div.sk-label label {font-family: monospace;font-weight: bold;display: inline-block;line-height: 1.2em;}#sk-container-id-5 div.sk-label-container {text-align: center;}#sk-container-id-5 div.sk-container {/* jupyter's `normalize.less` sets `[hidden] { display: none; }` but bootstrap.min.css set `[hidden] { display: none !important; }` so we also need the `!important` here to be able to override the default hidden behavior on the sphinx rendered scikit-learn.org. See: https://github.com/scikit-learn/scikit-learn/issues/21755 */display: inline-block !important;position: relative;}#sk-container-id-5 div.sk-text-repr-fallback {display: none;}</style><div id=\"sk-container-id-5\" class=\"sk-top-container\"><div class=\"sk-text-repr-fallback\"><pre>RandomForestClassifier(max_depth=10, random_state=42)</pre><b>In a Jupyter environment, please rerun this cell to show the HTML representation or trust the notebook. <br />On GitHub, the HTML representation is unable to render, please try loading this page with nbviewer.org.</b></div><div class=\"sk-container\" hidden><div class=\"sk-item\"><div class=\"sk-estimator sk-toggleable\"><input class=\"sk-toggleable__control sk-hidden--visually\" id=\"sk-estimator-id-13\" type=\"checkbox\" checked><label for=\"sk-estimator-id-13\" class=\"sk-toggleable__label sk-toggleable__label-arrow\">RandomForestClassifier</label><div class=\"sk-toggleable__content\"><pre>RandomForestClassifier(max_depth=10, random_state=42)</pre></div></div></div></div></div>"
            ]
          },
          "metadata": {},
          "execution_count": 102
        }
      ]
    },
    {
      "cell_type": "code",
      "source": [
        "y_pred_rf01 = rf01.predict(X_test)"
      ],
      "metadata": {
        "id": "a4GxHVyNqDbv"
      },
      "id": "a4GxHVyNqDbv",
      "execution_count": 103,
      "outputs": []
    },
    {
      "cell_type": "code",
      "source": [
        "report_rf01 = classification_report(y_test, y_pred_rf01)\n",
        "matrix_rf01 = confusion_matrix(y_test, y_pred_rf01)\n",
        "cmap = sns.color_palette(palette='PiYG')\n",
        "sns.heatmap(matrix_rf01, annot=True, cmap=cmap)\n",
        "print(f' Classification report for rf_01 :\\n\\n{report_rf01}\\n')"
      ],
      "metadata": {
        "colab": {
          "base_uri": "https://localhost:8080/",
          "height": 581
        },
        "id": "uQ7TNPyBrsJS",
        "outputId": "6b4cf958-5bde-4e0a-fc16-0f672500d6f4"
      },
      "id": "uQ7TNPyBrsJS",
      "execution_count": 104,
      "outputs": [
        {
          "output_type": "stream",
          "name": "stdout",
          "text": [
            " Classification report for rf_01 :\n",
            "\n",
            "              precision    recall  f1-score   support\n",
            "\n",
            "         0.0       1.00      1.00      1.00      3296\n",
            "         1.0       1.00      0.94      0.97        18\n",
            "\n",
            "    accuracy                           1.00      3314\n",
            "   macro avg       1.00      0.97      0.99      3314\n",
            "weighted avg       1.00      1.00      1.00      3314\n",
            "\n",
            "\n"
          ]
        },
        {
          "output_type": "display_data",
          "data": {
            "text/plain": [
              "<Figure size 500x400 with 2 Axes>"
            ],
            "image/png": "[encoded data removed]"
          },
          "metadata": {}
        }
      ]
    },
    {
      "cell_type": "markdown",
      "source": [
        "For class 0, the precision is 1.00, which means all samples predicted as class 0 are truly class 0. For class 1, the precision is also 1.00, indicating that all samples predicted as class 1 are truly class 1.\n",
        "\n",
        "For class 0, the recall is 1.00, meaning all actual class 0 samples are correctly identified. For class 1, the recall is 0.94, indicating that 94% of the actual class 1 samples are correctly identified by the model."
      ],
      "metadata": {
        "id": "sp76TmJ-wdo_"
      },
      "id": "sp76TmJ-wdo_"
    },
    {
      "cell_type": "code",
      "source": [],
      "metadata": {
        "id": "uaiiFhwtrsSB"
      },
      "id": "uaiiFhwtrsSB",
      "execution_count": null,
      "outputs": []
    },
    {
      "cell_type": "markdown",
      "source": [
        "XGBoost & Grid search"
      ],
      "metadata": {
        "id": "Tss3_blT7j0M"
      },
      "id": "Tss3_blT7j0M"
    },
    {
      "cell_type": "code",
      "source": [
        "xgbc = XGBClassifier()"
      ],
      "metadata": {
        "id": "FlzPiqsZ7Zo9"
      },
      "id": "FlzPiqsZ7Zo9",
      "execution_count": 105,
      "outputs": []
    },
    {
      "cell_type": "code",
      "source": [
        "param_grid = {\n",
        "    'learning_rate' : [0.01, 0.1, 0.3],\n",
        "    'n_estimators' : [100, 150, 200],\n",
        "    'max_depth' : [3,5,7],\n",
        "    'subsample' : [0.7, 0.8, 0.9]\n",
        "}"
      ],
      "metadata": {
        "id": "gidIynLsqF6y"
      },
      "id": "gidIynLsqF6y",
      "execution_count": 106,
      "outputs": []
    },
    {
      "cell_type": "code",
      "source": [
        "grid_search = GridSearchCV(estimator=xgbc,\n",
        "                           param_grid=param_grid,\n",
        "                           cv=skf,\n",
        "                           n_jobs=-1,\n",
        "                           scoring=scoring,\n",
        "                           refit='f1')"
      ],
      "metadata": {
        "id": "oebHVIdtmXWA"
      },
      "id": "oebHVIdtmXWA",
      "execution_count": 109,
      "outputs": []
    },
    {
      "cell_type": "code",
      "source": [
        "grid_search.fit(X_train, y_train)"
      ],
      "metadata": {
        "colab": {
          "base_uri": "https://localhost:8080/",
          "height": 117
        },
        "id": "pGxh4LcCmxQR",
        "outputId": "aa59eb68-1bf2-4e71-b83c-bb631e0cdc19"
      },
      "id": "pGxh4LcCmxQR",
      "execution_count": 110,
      "outputs": [
        {
          "output_type": "execute_result",
          "data": {
            "text/plain": [
              "GridSearchCV(cv=StratifiedKFold(n_splits=5, random_state=42, shuffle=True),\n",
              "             estimator=XGBClassifier(base_score=None, booster=None,\n",
              "                                     callbacks=None, colsample_bylevel=None,\n",
              "                                     colsample_bynode=None,\n",
              "                                     colsample_bytree=None, device=None,\n",
              "                                     early_stopping_rounds=None,\n",
              "                                     enable_categorical=False, eval_metric=None,\n",
              "                                     feature_types=None, gamma=None,\n",
              "                                     grow_policy=None, importance_typ...\n",
              "                                     missing=nan, monotone_constraints=None,\n",
              "                                     multi_strategy=None, n_estimators=None,\n",
              "                                     n_jobs=None, num_parallel_tree=None,\n",
              "                                     random_state=None, ...),\n",
              "             n_jobs=-1,\n",
              "             param_grid={'learning_rate': [0.01, 0.1, 0.3],\n",
              "                         'max_depth': [3, 5, 7],\n",
              "                         'n_estimators': [100, 150, 200],\n",
              "                         'subsample': [0.7, 0.8, 0.9]},\n",
              "             refit='f1',\n",
              "             scoring={'f1': make_scorer(f1_score),\n",
              "                      'precision': make_scorer(precision_score),\n",
              "                      'recall': make_scorer(recall_score)})"
            ],
            "text/html": [
              "<style>#sk-container-id-6 {color: black;background-color: white;}#sk-container-id-6 pre{padding: 0;}#sk-container-id-6 div.sk-toggleable {background-color: white;}#sk-container-id-6 label.sk-toggleable__label {cursor: pointer;display: block;width: 100%;margin-bottom: 0;padding: 0.3em;box-sizing: border-box;text-align: center;}#sk-container-id-6 label.sk-toggleable__label-arrow:before {content: \"▸\";float: left;margin-right: 0.25em;color: #696969;}#sk-container-id-6 label.sk-toggleable__label-arrow:hover:before {color: black;}#sk-container-id-6 div.sk-estimator:hover label.sk-toggleable__label-arrow:before {color: black;}#sk-container-id-6 div.sk-toggleable__content {max-height: 0;max-width: 0;overflow: hidden;text-align: left;background-color: #f0f8ff;}#sk-container-id-6 div.sk-toggleable__content pre {margin: 0.2em;color: black;border-radius: 0.25em;background-color: #f0f8ff;}#sk-container-id-6 input.sk-toggleable__control:checked~div.sk-toggleable__content {max-height: 200px;max-width: 100%;overflow: auto;}#sk-container-id-6 input.sk-toggleable__control:checked~label.sk-toggleable__label-arrow:before {content: \"▾\";}#sk-container-id-6 div.sk-estimator input.sk-toggleable__control:checked~label.sk-toggleable__label {background-color: #d4ebff;}#sk-container-id-6 div.sk-label input.sk-toggleable__control:checked~label.sk-toggleable__label {background-color: #d4ebff;}#sk-container-id-6 input.sk-hidden--visually {border: 0;clip: rect(1px 1px 1px 1px);clip: rect(1px, 1px, 1px, 1px);height: 1px;margin: -1px;overflow: hidden;padding: 0;position: absolute;width: 1px;}#sk-container-id-6 div.sk-estimator {font-family: monospace;background-color: #f0f8ff;border: 1px dotted black;border-radius: 0.25em;box-sizing: border-box;margin-bottom: 0.5em;}#sk-container-id-6 div.sk-estimator:hover {background-color: #d4ebff;}#sk-container-id-6 div.sk-parallel-item::after {content: \"\";width: 100%;border-bottom: 1px solid gray;flex-grow: 1;}#sk-container-id-6 div.sk-label:hover label.sk-toggleable__label {background-color: #d4ebff;}#sk-container-id-6 div.sk-serial::before {content: \"\";position: absolute;border-left: 1px solid gray;box-sizing: border-box;top: 0;bottom: 0;left: 50%;z-index: 0;}#sk-container-id-6 div.sk-serial {display: flex;flex-direction: column;align-items: center;background-color: white;padding-right: 0.2em;padding-left: 0.2em;position: relative;}#sk-container-id-6 div.sk-item {position: relative;z-index: 1;}#sk-container-id-6 div.sk-parallel {display: flex;align-items: stretch;justify-content: center;background-color: white;position: relative;}#sk-container-id-6 div.sk-item::before, #sk-container-id-6 div.sk-parallel-item::before {content: \"\";position: absolute;border-left: 1px solid gray;box-sizing: border-box;top: 0;bottom: 0;left: 50%;z-index: -1;}#sk-container-id-6 div.sk-parallel-item {display: flex;flex-direction: column;z-index: 1;position: relative;background-color: white;}#sk-container-id-6 div.sk-parallel-item:first-child::after {align-self: flex-end;width: 50%;}#sk-container-id-6 div.sk-parallel-item:last-child::after {align-self: flex-start;width: 50%;}#sk-container-id-6 div.sk-parallel-item:only-child::after {width: 0;}#sk-container-id-6 div.sk-dashed-wrapped {border: 1px dashed gray;margin: 0 0.4em 0.5em 0.4em;box-sizing: border-box;padding-bottom: 0.4em;background-color: white;}#sk-container-id-6 div.sk-label label {font-family: monospace;font-weight: bold;display: inline-block;line-height: 1.2em;}#sk-container-id-6 div.sk-label-container {text-align: center;}#sk-container-id-6 div.sk-container {/* jupyter's `normalize.less` sets `[hidden] { display: none; }` but bootstrap.min.css set `[hidden] { display: none !important; }` so we also need the `!important` here to be able to override the default hidden behavior on the sphinx rendered scikit-learn.org. See: https://github.com/scikit-learn/scikit-learn/issues/21755 */display: inline-block !important;position: relative;}#sk-container-id-6 div.sk-text-repr-fallback {display: none;}</style><div id=\"sk-container-id-6\" class=\"sk-top-container\"><div class=\"sk-text-repr-fallback\"><pre>GridSearchCV(cv=StratifiedKFold(n_splits=5, random_state=42, shuffle=True),\n",
              "             estimator=XGBClassifier(base_score=None, booster=None,\n",
              "                                     callbacks=None, colsample_bylevel=None,\n",
              "                                     colsample_bynode=None,\n",
              "                                     colsample_bytree=None, device=None,\n",
              "                                     early_stopping_rounds=None,\n",
              "                                     enable_categorical=False, eval_metric=None,\n",
              "                                     feature_types=None, gamma=None,\n",
              "                                     grow_policy=None, importance_typ...\n",
              "                                     missing=nan, monotone_constraints=None,\n",
              "                                     multi_strategy=None, n_estimators=None,\n",
              "                                     n_jobs=None, num_parallel_tree=None,\n",
              "                                     random_state=None, ...),\n",
              "             n_jobs=-1,\n",
              "             param_grid={&#x27;learning_rate&#x27;: [0.01, 0.1, 0.3],\n",
              "                         &#x27;max_depth&#x27;: [3, 5, 7],\n",
              "                         &#x27;n_estimators&#x27;: [100, 150, 200],\n",
              "                         &#x27;subsample&#x27;: [0.7, 0.8, 0.9]},\n",
              "             refit=&#x27;f1&#x27;,\n",
              "             scoring={&#x27;f1&#x27;: make_scorer(f1_score),\n",
              "                      &#x27;precision&#x27;: make_scorer(precision_score),\n",
              "                      &#x27;recall&#x27;: make_scorer(recall_score)})</pre><b>In a Jupyter environment, please rerun this cell to show the HTML representation or trust the notebook. <br />On GitHub, the HTML representation is unable to render, please try loading this page with nbviewer.org.</b></div><div class=\"sk-container\" hidden><div class=\"sk-item sk-dashed-wrapped\"><div class=\"sk-label-container\"><div class=\"sk-label sk-toggleable\"><input class=\"sk-toggleable__control sk-hidden--visually\" id=\"sk-estimator-id-14\" type=\"checkbox\" ><label for=\"sk-estimator-id-14\" class=\"sk-toggleable__label sk-toggleable__label-arrow\">GridSearchCV</label><div class=\"sk-toggleable__content\"><pre>GridSearchCV(cv=StratifiedKFold(n_splits=5, random_state=42, shuffle=True),\n",
              "             estimator=XGBClassifier(base_score=None, booster=None,\n",
              "                                     callbacks=None, colsample_bylevel=None,\n",
              "                                     colsample_bynode=None,\n",
              "                                     colsample_bytree=None, device=None,\n",
              "                                     early_stopping_rounds=None,\n",
              "                                     enable_categorical=False, eval_metric=None,\n",
              "                                     feature_types=None, gamma=None,\n",
              "                                     grow_policy=None, importance_typ...\n",
              "                                     missing=nan, monotone_constraints=None,\n",
              "                                     multi_strategy=None, n_estimators=None,\n",
              "                                     n_jobs=None, num_parallel_tree=None,\n",
              "                                     random_state=None, ...),\n",
              "             n_jobs=-1,\n",
              "             param_grid={&#x27;learning_rate&#x27;: [0.01, 0.1, 0.3],\n",
              "                         &#x27;max_depth&#x27;: [3, 5, 7],\n",
              "                         &#x27;n_estimators&#x27;: [100, 150, 200],\n",
              "                         &#x27;subsample&#x27;: [0.7, 0.8, 0.9]},\n",
              "             refit=&#x27;f1&#x27;,\n",
              "             scoring={&#x27;f1&#x27;: make_scorer(f1_score),\n",
              "                      &#x27;precision&#x27;: make_scorer(precision_score),\n",
              "                      &#x27;recall&#x27;: make_scorer(recall_score)})</pre></div></div></div><div class=\"sk-parallel\"><div class=\"sk-parallel-item\"><div class=\"sk-item\"><div class=\"sk-label-container\"><div class=\"sk-label sk-toggleable\"><input class=\"sk-toggleable__control sk-hidden--visually\" id=\"sk-estimator-id-15\" type=\"checkbox\" ><label for=\"sk-estimator-id-15\" class=\"sk-toggleable__label sk-toggleable__label-arrow\">estimator: XGBClassifier</label><div class=\"sk-toggleable__content\"><pre>XGBClassifier(base_score=None, booster=None, callbacks=None,\n",
              "              colsample_bylevel=None, colsample_bynode=None,\n",
              "              colsample_bytree=None, device=None, early_stopping_rounds=None,\n",
              "              enable_categorical=False, eval_metric=None, feature_types=None,\n",
              "              gamma=None, grow_policy=None, importance_type=None,\n",
              "              interaction_constraints=None, learning_rate=None, max_bin=None,\n",
              "              max_cat_threshold=None, max_cat_to_onehot=None,\n",
              "              max_delta_step=None, max_depth=None, max_leaves=None,\n",
              "              min_child_weight=None, missing=nan, monotone_constraints=None,\n",
              "              multi_strategy=None, n_estimators=None, n_jobs=None,\n",
              "              num_parallel_tree=None, random_state=None, ...)</pre></div></div></div><div class=\"sk-serial\"><div class=\"sk-item\"><div class=\"sk-estimator sk-toggleable\"><input class=\"sk-toggleable__control sk-hidden--visually\" id=\"sk-estimator-id-16\" type=\"checkbox\" ><label for=\"sk-estimator-id-16\" class=\"sk-toggleable__label sk-toggleable__label-arrow\">XGBClassifier</label><div class=\"sk-toggleable__content\"><pre>XGBClassifier(base_score=None, booster=None, callbacks=None,\n",
              "              colsample_bylevel=None, colsample_bynode=None,\n",
              "              colsample_bytree=None, device=None, early_stopping_rounds=None,\n",
              "              enable_categorical=False, eval_metric=None, feature_types=None,\n",
              "              gamma=None, grow_policy=None, importance_type=None,\n",
              "              interaction_constraints=None, learning_rate=None, max_bin=None,\n",
              "              max_cat_threshold=None, max_cat_to_onehot=None,\n",
              "              max_delta_step=None, max_depth=None, max_leaves=None,\n",
              "              min_child_weight=None, missing=nan, monotone_constraints=None,\n",
              "              multi_strategy=None, n_estimators=None, n_jobs=None,\n",
              "              num_parallel_tree=None, random_state=None, ...)</pre></div></div></div></div></div></div></div></div></div></div>"
            ]
          },
          "metadata": {},
          "execution_count": 110
        }
      ]
    },
    {
      "cell_type": "code",
      "execution_count": 116,
      "id": "865fa2be",
      "metadata": {
        "id": "865fa2be"
      },
      "outputs": [],
      "source": [
        "best_params = grid_search.best_params_\n",
        "best_model = grid_search.best_score_"
      ]
    },
    {
      "cell_type": "code",
      "source": [
        "print('Best Parameters: ', best_params)\n",
        "print('Best Score:', best_score)"
      ],
      "metadata": {
        "colab": {
          "base_uri": "https://localhost:8080/"
        },
        "id": "1rR3PAfI-CSZ",
        "outputId": "6e40ed69-16a1-4d0b-d48c-2b044c0e823c"
      },
      "id": "1rR3PAfI-CSZ",
      "execution_count": 117,
      "outputs": [
        {
          "output_type": "stream",
          "name": "stdout",
          "text": [
            "Best Parameters:  {'learning_rate': 0.1, 'max_depth': 5, 'n_estimators': 200, 'subsample': 0.9}\n",
            "Best Score: 0.907092907092907\n"
          ]
        }
      ]
    },
    {
      "cell_type": "code",
      "source": [
        "xgbc02 = XGBClassifier(learning_rate=0.1, max_depth=5, n_estimators= 200, subsample=0.9)"
      ],
      "metadata": {
        "id": "J9Y3Y33OB-eV"
      },
      "id": "J9Y3Y33OB-eV",
      "execution_count": 123,
      "outputs": []
    },
    {
      "cell_type": "code",
      "source": [
        "pipeline02 = ImbPipeline([\n",
        "    ('scaler', StandardScaler()),\n",
        "    ('smote', SMOTE(sampling_strategy='auto', random_state=42)),\n",
        "    ('classifier', xgbc)\n",
        "])"
      ],
      "metadata": {
        "id": "JNML_Ab2BAMY"
      },
      "id": "JNML_Ab2BAMY",
      "execution_count": 124,
      "outputs": []
    },
    {
      "cell_type": "code",
      "source": [
        "precision_scores = cross_val_score(pipeline02, X_train, y_train, cv=skf, scoring='precision')\n",
        "recall_scores = cross_val_score(pipeline02, X_train, y_train, cv=skf, scoring='recall')\n",
        "f1_scores = cross_val_score(pipeline02, X_train, y_train, cv=skf, scoring='f1')"
      ],
      "metadata": {
        "id": "eE0Il-O8BAUQ"
      },
      "id": "eE0Il-O8BAUQ",
      "execution_count": 125,
      "outputs": []
    },
    {
      "cell_type": "code",
      "source": [
        "print(\"Mean Precision:\", precision_scores.mean())\n",
        "print(\"Mean Recall:\", recall_scores.mean())\n",
        "print(\"Mean F1 Score:\", f1_scores.mean())"
      ],
      "metadata": {
        "colab": {
          "base_uri": "https://localhost:8080/"
        },
        "id": "Ebt_9zR7Ba_Y",
        "outputId": "4ad5585a-6bfc-4706-f130-68ab26e58987"
      },
      "id": "Ebt_9zR7Ba_Y",
      "execution_count": 126,
      "outputs": [
        {
          "output_type": "stream",
          "name": "stdout",
          "text": [
            "Mean Precision: 0.9142857142857143\n",
            "Mean Recall: 0.8523809523809524\n",
            "Mean F1 Score: 0.8807192807192807\n"
          ]
        }
      ]
    },
    {
      "cell_type": "code",
      "source": [
        "xgbc02.fit(X_train, y_train)"
      ],
      "metadata": {
        "colab": {
          "base_uri": "https://localhost:8080/",
          "height": 248
        },
        "id": "Ss9ewzx7BbCd",
        "outputId": "e2bab42e-236f-48b5-ee65-4f2d6009a64a"
      },
      "id": "Ss9ewzx7BbCd",
      "execution_count": 127,
      "outputs": [
        {
          "output_type": "execute_result",
          "data": {
            "text/plain": [
              "XGBClassifier(base_score=None, booster=None, callbacks=None,\n",
              "              colsample_bylevel=None, colsample_bynode=None,\n",
              "              colsample_bytree=None, device=None, early_stopping_rounds=None,\n",
              "              enable_categorical=False, eval_metric=None, feature_types=None,\n",
              "              gamma=None, grow_policy=None, importance_type=None,\n",
              "              interaction_constraints=None, learning_rate=0.1, max_bin=None,\n",
              "              max_cat_threshold=None, max_cat_to_onehot=None,\n",
              "              max_delta_step=None, max_depth=5, max_leaves=None,\n",
              "              min_child_weight=None, missing=nan, monotone_constraints=None,\n",
              "              multi_strategy=None, n_estimators=200, n_jobs=None,\n",
              "              num_parallel_tree=None, random_state=None, ...)"
            ],
            "text/html": [
              "<style>#sk-container-id-8 {color: black;background-color: white;}#sk-container-id-8 pre{padding: 0;}#sk-container-id-8 div.sk-toggleable {background-color: white;}#sk-container-id-8 label.sk-toggleable__label {cursor: pointer;display: block;width: 100%;margin-bottom: 0;padding: 0.3em;box-sizing: border-box;text-align: center;}#sk-container-id-8 label.sk-toggleable__label-arrow:before {content: \"▸\";float: left;margin-right: 0.25em;color: #696969;}#sk-container-id-8 label.sk-toggleable__label-arrow:hover:before {color: black;}#sk-container-id-8 div.sk-estimator:hover label.sk-toggleable__label-arrow:before {color: black;}#sk-container-id-8 div.sk-toggleable__content {max-height: 0;max-width: 0;overflow: hidden;text-align: left;background-color: #f0f8ff;}#sk-container-id-8 div.sk-toggleable__content pre {margin: 0.2em;color: black;border-radius: 0.25em;background-color: #f0f8ff;}#sk-container-id-8 input.sk-toggleable__control:checked~div.sk-toggleable__content {max-height: 200px;max-width: 100%;overflow: auto;}#sk-container-id-8 input.sk-toggleable__control:checked~label.sk-toggleable__label-arrow:before {content: \"▾\";}#sk-container-id-8 div.sk-estimator input.sk-toggleable__control:checked~label.sk-toggleable__label {background-color: #d4ebff;}#sk-container-id-8 div.sk-label input.sk-toggleable__control:checked~label.sk-toggleable__label {background-color: #d4ebff;}#sk-container-id-8 input.sk-hidden--visually {border: 0;clip: rect(1px 1px 1px 1px);clip: rect(1px, 1px, 1px, 1px);height: 1px;margin: -1px;overflow: hidden;padding: 0;position: absolute;width: 1px;}#sk-container-id-8 div.sk-estimator {font-family: monospace;background-color: #f0f8ff;border: 1px dotted black;border-radius: 0.25em;box-sizing: border-box;margin-bottom: 0.5em;}#sk-container-id-8 div.sk-estimator:hover {background-color: #d4ebff;}#sk-container-id-8 div.sk-parallel-item::after {content: \"\";width: 100%;border-bottom: 1px solid gray;flex-grow: 1;}#sk-container-id-8 div.sk-label:hover label.sk-toggleable__label {background-color: #d4ebff;}#sk-container-id-8 div.sk-serial::before {content: \"\";position: absolute;border-left: 1px solid gray;box-sizing: border-box;top: 0;bottom: 0;left: 50%;z-index: 0;}#sk-container-id-8 div.sk-serial {display: flex;flex-direction: column;align-items: center;background-color: white;padding-right: 0.2em;padding-left: 0.2em;position: relative;}#sk-container-id-8 div.sk-item {position: relative;z-index: 1;}#sk-container-id-8 div.sk-parallel {display: flex;align-items: stretch;justify-content: center;background-color: white;position: relative;}#sk-container-id-8 div.sk-item::before, #sk-container-id-8 div.sk-parallel-item::before {content: \"\";position: absolute;border-left: 1px solid gray;box-sizing: border-box;top: 0;bottom: 0;left: 50%;z-index: -1;}#sk-container-id-8 div.sk-parallel-item {display: flex;flex-direction: column;z-index: 1;position: relative;background-color: white;}#sk-container-id-8 div.sk-parallel-item:first-child::after {align-self: flex-end;width: 50%;}#sk-container-id-8 div.sk-parallel-item:last-child::after {align-self: flex-start;width: 50%;}#sk-container-id-8 div.sk-parallel-item:only-child::after {width: 0;}#sk-container-id-8 div.sk-dashed-wrapped {border: 1px dashed gray;margin: 0 0.4em 0.5em 0.4em;box-sizing: border-box;padding-bottom: 0.4em;background-color: white;}#sk-container-id-8 div.sk-label label {font-family: monospace;font-weight: bold;display: inline-block;line-height: 1.2em;}#sk-container-id-8 div.sk-label-container {text-align: center;}#sk-container-id-8 div.sk-container {/* jupyter's `normalize.less` sets `[hidden] { display: none; }` but bootstrap.min.css set `[hidden] { display: none !important; }` so we also need the `!important` here to be able to override the default hidden behavior on the sphinx rendered scikit-learn.org. See: https://github.com/scikit-learn/scikit-learn/issues/21755 */display: inline-block !important;position: relative;}#sk-container-id-8 div.sk-text-repr-fallback {display: none;}</style><div id=\"sk-container-id-8\" class=\"sk-top-container\"><div class=\"sk-text-repr-fallback\"><pre>XGBClassifier(base_score=None, booster=None, callbacks=None,\n",
              "              colsample_bylevel=None, colsample_bynode=None,\n",
              "              colsample_bytree=None, device=None, early_stopping_rounds=None,\n",
              "              enable_categorical=False, eval_metric=None, feature_types=None,\n",
              "              gamma=None, grow_policy=None, importance_type=None,\n",
              "              interaction_constraints=None, learning_rate=0.1, max_bin=None,\n",
              "              max_cat_threshold=None, max_cat_to_onehot=None,\n",
              "              max_delta_step=None, max_depth=5, max_leaves=None,\n",
              "              min_child_weight=None, missing=nan, monotone_constraints=None,\n",
              "              multi_strategy=None, n_estimators=200, n_jobs=None,\n",
              "              num_parallel_tree=None, random_state=None, ...)</pre><b>In a Jupyter environment, please rerun this cell to show the HTML representation or trust the notebook. <br />On GitHub, the HTML representation is unable to render, please try loading this page with nbviewer.org.</b></div><div class=\"sk-container\" hidden><div class=\"sk-item\"><div class=\"sk-estimator sk-toggleable\"><input class=\"sk-toggleable__control sk-hidden--visually\" id=\"sk-estimator-id-18\" type=\"checkbox\" checked><label for=\"sk-estimator-id-18\" class=\"sk-toggleable__label sk-toggleable__label-arrow\">XGBClassifier</label><div class=\"sk-toggleable__content\"><pre>XGBClassifier(base_score=None, booster=None, callbacks=None,\n",
              "              colsample_bylevel=None, colsample_bynode=None,\n",
              "              colsample_bytree=None, device=None, early_stopping_rounds=None,\n",
              "              enable_categorical=False, eval_metric=None, feature_types=None,\n",
              "              gamma=None, grow_policy=None, importance_type=None,\n",
              "              interaction_constraints=None, learning_rate=0.1, max_bin=None,\n",
              "              max_cat_threshold=None, max_cat_to_onehot=None,\n",
              "              max_delta_step=None, max_depth=5, max_leaves=None,\n",
              "              min_child_weight=None, missing=nan, monotone_constraints=None,\n",
              "              multi_strategy=None, n_estimators=200, n_jobs=None,\n",
              "              num_parallel_tree=None, random_state=None, ...)</pre></div></div></div></div></div>"
            ]
          },
          "metadata": {},
          "execution_count": 127
        }
      ]
    },
    {
      "cell_type": "code",
      "source": [
        "y_pred_xgbc02 = xgbc.predict(X_test)"
      ],
      "metadata": {
        "id": "m93NMvLtBbFR"
      },
      "id": "m93NMvLtBbFR",
      "execution_count": 129,
      "outputs": []
    },
    {
      "cell_type": "code",
      "execution_count": 130,
      "id": "7b26bf96",
      "metadata": {
        "id": "7b26bf96",
        "outputId": "8fdac332-cd77-4fe9-a1f5-680eabd50c95",
        "colab": {
          "base_uri": "https://localhost:8080/",
          "height": 581
        }
      },
      "outputs": [
        {
          "output_type": "stream",
          "name": "stdout",
          "text": [
            " Classification report for xgbc02 :\n",
            "\n",
            "              precision    recall  f1-score   support\n",
            "\n",
            "         0.0       1.00      1.00      1.00      3296\n",
            "         1.0       1.00      0.94      0.97        18\n",
            "\n",
            "    accuracy                           1.00      3314\n",
            "   macro avg       1.00      0.97      0.99      3314\n",
            "weighted avg       1.00      1.00      1.00      3314\n",
            "\n",
            "\n"
          ]
        },
        {
          "output_type": "display_data",
          "data": {
            "text/plain": [
              "<Figure size 500x400 with 2 Axes>"
            ],
            "image/png": "[encoded data removed]"
          },
          "metadata": {}
        }
      ],
      "source": [
        "report_xgbc02 = classification_report(y_test, y_pred_xgbc02)\n",
        "matrix_xgbc02 = confusion_matrix(y_test, y_pred_xgbc02)\n",
        "cmap = sns.color_palette(palette='PiYG')\n",
        "sns.heatmap(matrix_xgbc02, annot=True, cmap=cmap)\n",
        "print(f' Classification report for xgbc02 :\\n\\n{report_xgbc02}\\n')"
      ]
    },
    {
      "cell_type": "code",
      "execution_count": null,
      "id": "9fc38083",
      "metadata": {
        "id": "9fc38083"
      },
      "outputs": [],
      "source": []
    },
    {
      "cell_type": "markdown",
      "id": "d00ef4ba",
      "metadata": {
        "id": "d00ef4ba"
      },
      "source": [
        "## Model validation: ROC-AUC for rf01"
      ]
    },
    {
      "cell_type": "code",
      "execution_count": 131,
      "id": "0d7677e7",
      "metadata": {
        "id": "0d7677e7"
      },
      "outputs": [],
      "source": [
        "rf01.fit(X_train, y_train)\n",
        "\n",
        "y_pred_03_proba = rf01.predict_proba(X_test)[:, 1]\n",
        "\n",
        "fpr, tpr, thresholds = roc_curve(y_test, y_pred_03_proba)\n",
        "\n",
        "auc_score = roc_auc_score(y_test, y_pred_03_proba)"
      ]
    },
    {
      "cell_type": "code",
      "execution_count": 132,
      "id": "0938e206",
      "metadata": {
        "id": "0938e206",
        "outputId": "c8719498-fc9a-4255-bc38-a2a1a6ec0157",
        "colab": {
          "base_uri": "https://localhost:8080/",
          "height": 590
        }
      },
      "outputs": [
        {
          "output_type": "display_data",
          "data": {
            "text/plain": [
              "<Figure size 800x600 with 1 Axes>"
            ],
            "image/png": "[encoded data removed]"
          },
          "metadata": {}
        },
        {
          "output_type": "stream",
          "name": "stdout",
          "text": [
            "AUC Score: 0.9716491370010787\n"
          ]
        }
      ],
      "source": [
        "plt.figure(figsize=(8, 6))\n",
        "plt.plot(fpr, tpr, color='blue', lw=2, label='ROC curve (AUC = {:.2f})'.format(auc_score))\n",
        "plt.plot([0, 1], [0, 1], color='gray', linestyle='--')\n",
        "plt.xlim([0.0, 1.0])\n",
        "plt.ylim([0.0, 1.05])\n",
        "plt.xlabel('False Positive Rate')\n",
        "plt.ylabel('True Positive Rate')\n",
        "plt.title('Receiver Operating Characteristic (ROC) Curve')\n",
        "plt.legend(loc='lower right')\n",
        "plt.show()\n",
        "\n",
        "print(\"AUC Score:\", auc_score)"
      ]
    },
    {
      "cell_type": "markdown",
      "id": "471a93fd",
      "metadata": {
        "id": "471a93fd"
      },
      "source": [
        "*Comment:AUC represents the area under the Receiver Operating Characteristic (ROC) curve, and as per the result as of 0.964 the model has excellent discriminative ability, with a high true positive rate and a low false positive rate, across various threshold values.*"
      ]
    },
    {
      "cell_type": "code",
      "execution_count": null,
      "id": "04fc8903",
      "metadata": {
        "id": "04fc8903"
      },
      "outputs": [],
      "source": []
    },
    {
      "cell_type": "code",
      "execution_count": null,
      "id": "3efce927",
      "metadata": {
        "id": "3efce927"
      },
      "outputs": [],
      "source": []
    }
  ],
  "metadata": {
    "colab": {
      "provenance": [],
      "gpuType": "L4"
    },
    "kernelspec": {
      "display_name": "Python 3",
      "name": "python3"
    },
    "language_info": {
      "codemirror_mode": {
        "name": "ipython",
        "version": 3
      },
      "file_extension": ".py",
      "mimetype": "text/x-python",
      "name": "python",
      "nbconvert_exporter": "python",
      "pygments_lexer": "ipython3",
      "version": "3.11.5"
    },
    "accelerator": "GPU"
  },
  "nbformat": 4,
  "nbformat_minor": 5
}